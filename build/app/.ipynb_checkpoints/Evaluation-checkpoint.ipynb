{
 "cells": [
  {
   "cell_type": "code",
   "execution_count": 1,
   "metadata": {},
   "outputs": [
    {
     "name": "stderr",
     "output_type": "stream",
     "text": [
      "/Users/mattevanoff/anaconda3/lib/python3.6/importlib/_bootstrap.py:219: RuntimeWarning: numpy.dtype size changed, may indicate binary incompatibility. Expected 96, got 88\n",
      "  return f(*args, **kwds)\n",
      "/Users/mattevanoff/anaconda3/lib/python3.6/importlib/_bootstrap.py:219: RuntimeWarning: numpy.dtype size changed, may indicate binary incompatibility. Expected 96, got 88\n",
      "  return f(*args, **kwds)\n",
      "/Users/mattevanoff/anaconda3/lib/python3.6/importlib/_bootstrap.py:219: RuntimeWarning: numpy.dtype size changed, may indicate binary incompatibility. Expected 96, got 88\n",
      "  return f(*args, **kwds)\n",
      "/Users/mattevanoff/anaconda3/lib/python3.6/site-packages/h5py/__init__.py:34: FutureWarning: Conversion of the second argument of issubdtype from `float` to `np.floating` is deprecated. In future, it will be treated as `np.float64 == np.dtype(float).type`.\n",
      "  from ._conv import register_converters as _register_converters\n"
     ]
    }
   ],
   "source": [
    "import numpy as np\n",
    "import pandas as pd\n",
    "import re\n",
    "from tqdm import tqdm\n",
    "\n",
    "from PIL import Image\n",
    "from inference import Inference\n",
    "from nltk.stem import PorterStemmer"
   ]
  },
  {
   "cell_type": "code",
   "execution_count": 2,
   "metadata": {},
   "outputs": [],
   "source": [
    "data_path = '../../data/processed/'"
   ]
  },
  {
   "cell_type": "code",
   "execution_count": 30,
   "metadata": {},
   "outputs": [
    {
     "name": "stdout",
     "output_type": "stream",
     "text": [
      "example.txt           meta_json.csv         word_level_test.csv\r\n",
      "meta.csv              meta_json.json        word_level_train.csv\r\n",
      "meta.json             word_level_meta.csv\r\n"
     ]
    }
   ],
   "source": [
    "ls ../../data/preprocessed/"
   ]
  },
  {
   "cell_type": "code",
   "execution_count": 3,
   "metadata": {},
   "outputs": [],
   "source": [
    "X_train = np.load(data_path + 'X_wikitext-2-train.npy')\n",
    "X_test = np.load(data_path + 'X_wikitext-2-test.npy')\n",
    "\n",
    "y_train = np.load(data_path + 'y_wikitext-2-train.npy')\n",
    "y_test = np.load(data_path + 'y_wikitext-2-test.npy')"
   ]
  },
  {
   "cell_type": "code",
   "execution_count": 31,
   "metadata": {},
   "outputs": [],
   "source": [
    "# import dill as pickle\n",
    "# def unpickle(filename):\n",
    "#     \"\"\"Unpickle file\"\"\"\n",
    "#     with open(filename, 'rb') as f:\n",
    "#         return pickle.load(f)\n",
    "# word_path_mapping = unpickle(data_path + 'word_path_mapping.pkl')\n",
    "# word_path_mapping"
   ]
  },
  {
   "cell_type": "code",
   "execution_count": 4,
   "metadata": {},
   "outputs": [
    {
     "data": {
      "text/html": [
       "<div>\n",
       "<style scoped>\n",
       "    .dataframe tbody tr th:only-of-type {\n",
       "        vertical-align: middle;\n",
       "    }\n",
       "\n",
       "    .dataframe tbody tr th {\n",
       "        vertical-align: top;\n",
       "    }\n",
       "\n",
       "    .dataframe thead th {\n",
       "        text-align: right;\n",
       "    }\n",
       "</style>\n",
       "<table border=\"1\" class=\"dataframe\">\n",
       "  <thead>\n",
       "    <tr style=\"text-align: right;\">\n",
       "      <th></th>\n",
       "      <th>index</th>\n",
       "      <th>filename</th>\n",
       "      <th>folder</th>\n",
       "      <th>document</th>\n",
       "      <th>token</th>\n",
       "      <th>image_name</th>\n",
       "      <th>pos_tag</th>\n",
       "      <th>image_path</th>\n",
       "    </tr>\n",
       "  </thead>\n",
       "  <tbody>\n",
       "    <tr>\n",
       "      <th>0</th>\n",
       "      <td>1111</td>\n",
       "      <td>b01-027</td>\n",
       "      <td>b01</td>\n",
       "      <td>b01-027</td>\n",
       "      <td>of</td>\n",
       "      <td>b01-027-00-05</td>\n",
       "      <td>INO</td>\n",
       "      <td>../../data/raw/word_level/b01/b01-027/b01-027-...</td>\n",
       "    </tr>\n",
       "    <tr>\n",
       "      <th>1</th>\n",
       "      <td>68</td>\n",
       "      <td>p03-185</td>\n",
       "      <td>p03</td>\n",
       "      <td>p03-185</td>\n",
       "      <td>.</td>\n",
       "      <td>p03-185-08-06</td>\n",
       "      <td>.</td>\n",
       "      <td>../../data/raw/word_level/p03/p03-185/p03-185-...</td>\n",
       "    </tr>\n",
       "    <tr>\n",
       "      <th>2</th>\n",
       "      <td>1043</td>\n",
       "      <td>h01-024</td>\n",
       "      <td>h01</td>\n",
       "      <td>h01-024</td>\n",
       "      <td>as</td>\n",
       "      <td>h01-024-02-01</td>\n",
       "      <td>IN</td>\n",
       "      <td>../../data/raw/word_level/h01/h01-024/h01-024-...</td>\n",
       "    </tr>\n",
       "    <tr>\n",
       "      <th>3</th>\n",
       "      <td>1162</td>\n",
       "      <td>h07-060b</td>\n",
       "      <td>h07</td>\n",
       "      <td>h07-060</td>\n",
       "      <td>the</td>\n",
       "      <td>h07-060b-03-03</td>\n",
       "      <td>ATI</td>\n",
       "      <td>../../data/raw/word_level/h07/h07-060b/h07-060...</td>\n",
       "    </tr>\n",
       "    <tr>\n",
       "      <th>4</th>\n",
       "      <td>1168</td>\n",
       "      <td>g06-050d</td>\n",
       "      <td>g06</td>\n",
       "      <td>g06-050</td>\n",
       "      <td>strong</td>\n",
       "      <td>g06-050d-04-02</td>\n",
       "      <td>JJ</td>\n",
       "      <td>../../data/raw/word_level/g06/g06-050d/g06-050...</td>\n",
       "    </tr>\n",
       "  </tbody>\n",
       "</table>\n",
       "</div>"
      ],
      "text/plain": [
       "   index  filename folder document   token      image_name pos_tag  \\\n",
       "0   1111   b01-027    b01  b01-027      of   b01-027-00-05     INO   \n",
       "1     68   p03-185    p03  p03-185       .   p03-185-08-06       .   \n",
       "2   1043   h01-024    h01  h01-024      as   h01-024-02-01      IN   \n",
       "3   1162  h07-060b    h07  h07-060     the  h07-060b-03-03     ATI   \n",
       "4   1168  g06-050d    g06  g06-050  strong  g06-050d-04-02      JJ   \n",
       "\n",
       "                                          image_path  \n",
       "0  ../../data/raw/word_level/b01/b01-027/b01-027-...  \n",
       "1  ../../data/raw/word_level/p03/p03-185/p03-185-...  \n",
       "2  ../../data/raw/word_level/h01/h01-024/h01-024-...  \n",
       "3  ../../data/raw/word_level/h07/h07-060b/h07-060...  \n",
       "4  ../../data/raw/word_level/g06/g06-050d/g06-050...  "
      ]
     },
     "execution_count": 4,
     "metadata": {},
     "output_type": "execute_result"
    }
   ],
   "source": [
    "word_level_df_test = pd.read_csv('../../data/preprocessed/word_level_test.csv')\n",
    "word_level_df_test.head()\n",
    "# Image.open(word_level_df_test.loc[0].image_path)\n",
    "# available_image_letters = word_level_df.token.values.tolist()"
   ]
  },
  {
   "cell_type": "code",
   "execution_count": 47,
   "metadata": {},
   "outputs": [
    {
     "data": {
      "text/plain": [
       "'../../data/raw/word_level/j06/j06-051/j06-051-10-05.png'"
      ]
     },
     "execution_count": 47,
     "metadata": {},
     "output_type": "execute_result"
    }
   ],
   "source": [
    "img_path = np.random.choice(word_level_df_test.loc[word_level_df_test.token == 'work', 'image_path'].values.tolist())"
   ]
  },
  {
   "cell_type": "code",
   "execution_count": 5,
   "metadata": {},
   "outputs": [
    {
     "name": "stdout",
     "output_type": "stream",
     "text": [
      "WARNING:tensorflow:From /Users/mattevanoff/anaconda3/lib/python3.6/site-packages/tensorflow/python/ops/init_ops.py:87: calling VarianceScaling.__init__ (from tensorflow.python.ops.init_ops) with distribution=normal is deprecated and will be removed in a future version.\n",
      "Instructions for updating:\n",
      "`normal` is a deprecated alias for `truncated_normal`\n"
     ]
    }
   ],
   "source": [
    "inference_model = Inference(img_width=128, img_height=64, device='cpu')"
   ]
  },
  {
   "cell_type": "code",
   "execution_count": 30,
   "metadata": {},
   "outputs": [
    {
     "data": {
      "text/plain": [
       "(77567, 78320)"
      ]
     },
     "execution_count": 30,
     "metadata": {},
     "output_type": "execute_result"
    }
   ],
   "source": [
    "len(X_test), len(X_train)"
   ]
  },
  {
   "cell_type": "code",
   "execution_count": 6,
   "metadata": {},
   "outputs": [
    {
     "name": "stdout",
     "output_type": "stream",
     "text": [
      "processed 0.0 %\n",
      "processed 0.01 %\n",
      "processed 0.02 %\n",
      "processed 0.03 %\n",
      "processed 0.04 %\n",
      "processed 0.05 %\n",
      "processed 0.06 %\n",
      "processed 0.07 %\n",
      "processed 0.08 %\n",
      "processed 0.09 %\n",
      "processed 0.1 %\n",
      "processed 0.11 %\n",
      "processed 0.12 %\n",
      "processed 0.13 %\n",
      "processed 0.14 %\n",
      "processed 0.15 %\n",
      "processed 0.16 %\n",
      "processed 0.17 %\n",
      "processed 0.18 %\n",
      "processed 0.19 %\n",
      "processed 0.2 %\n",
      "processed 0.21 %\n",
      "processed 0.22 %\n",
      "processed 0.23 %\n",
      "processed 0.24 %\n",
      "processed 0.25 %\n",
      "processed 0.26 %\n",
      "processed 0.27 %\n",
      "processed 0.28 %\n",
      "processed 0.29 %\n",
      "processed 0.3 %\n",
      "processed 0.31 %\n",
      "processed 0.32 %\n",
      "processed 0.33 %\n",
      "processed 0.34 %\n",
      "processed 0.35 %\n",
      "processed 0.36 %\n",
      "processed 0.37 %\n",
      "processed 0.38 %\n",
      "processed 0.39 %\n",
      "processed 0.4 %\n",
      "processed 0.41 %\n",
      "processed 0.42 %\n",
      "processed 0.43 %\n",
      "processed 0.44 %\n",
      "processed 0.45 %\n",
      "processed 0.46 %\n",
      "processed 0.47 %\n",
      "processed 0.48 %\n",
      "processed 0.49 %\n",
      "processed 0.5 %\n",
      "processed 0.51 %\n",
      "processed 0.52 %\n",
      "processed 0.53 %\n",
      "processed 0.54 %\n",
      "processed 0.55 %\n",
      "processed 0.56 %\n",
      "processed 0.57 %\n",
      "processed 0.58 %\n",
      "processed 0.59 %\n",
      "processed 0.6 %\n",
      "processed 0.61 %\n",
      "processed 0.62 %\n",
      "processed 0.63 %\n",
      "processed 0.64 %\n",
      "processed 0.65 %\n",
      "processed 0.66 %\n",
      "processed 0.67 %\n",
      "processed 0.68 %\n",
      "processed 0.69 %\n",
      "processed 0.7 %\n",
      "processed 0.71 %\n",
      "processed 0.72 %\n",
      "processed 0.73 %\n",
      "processed 0.74 %\n",
      "processed 0.75 %\n",
      "processed 0.76 %\n",
      "processed 0.77 %\n",
      "processed 0.78 %\n",
      "processed 0.79 %\n",
      "processed 0.8 %\n",
      "processed 0.81 %\n",
      "processed 0.82 %\n",
      "processed 0.83 %\n",
      "processed 0.84 %\n",
      "processed 0.85 %\n",
      "processed 0.86 %\n",
      "processed 0.87 %\n",
      "processed 0.88 %\n",
      "processed 0.89 %\n",
      "processed 0.9 %\n",
      "processed 0.91 %\n",
      "processed 0.92 %\n",
      "processed 0.93 %\n",
      "processed 0.94 %\n",
      "processed 0.95 %\n",
      "sentence should contain white space to split it into tokens\n",
      "bad line\n",
      "processed 0.96 %\n",
      "processed 0.97 %\n",
      "processed 0.98 %\n",
      "processed 0.99 %\n",
      "Raw correct 0.3185348446683459\n",
      "Stem correct 0.3212636439966415\n",
      "Time to evaluate 10000 sample: 5386.295911312103\n"
     ]
    }
   ],
   "source": [
    "\n",
    "import time\n",
    "\n",
    "subset = 10000\n",
    "\n",
    "stemmer = PorterStemmer()\n",
    "\n",
    "y_preds = []\n",
    "y_true = [y[0].lower() for y in y_test[:subset]]\n",
    "N = 0\n",
    "n_correct = 0\n",
    "n_correct_stem = 0\n",
    "bad_lines = 0\n",
    "\n",
    "\n",
    "len_test = len(X_test[:subset])\n",
    "start = time.time()\n",
    "for i, (X, y) in enumerate(zip(X_test[:subset], y_true)):\n",
    "    try:\n",
    "        X = re.sub(r'<<([^;]*)>>', '[]', ' '.join(X))\n",
    "    #     print(y)\n",
    "        img_path_df = word_level_df_test.loc[word_level_df_test.token == y, 'image_path']\n",
    "        if len(img_path_df) > 0:\n",
    "            N += 1\n",
    "            img_path = np.random.choice(img_path_df.values.tolist())\n",
    "            # still getting 'unk'\n",
    "            y_pred = inference_model.predict(X, img_path)\n",
    "            if y_pred.lower() == y:\n",
    "                n_correct += 1\n",
    "            if stemmer.stem(y_pred) == stemmer.stem(y):\n",
    "                n_correct_stem += 1\n",
    "\n",
    "        else:\n",
    "            bad_lines += 1\n",
    "        if i % 100 == 0:\n",
    "            print('processed {} %'.format(i / len_test))\n",
    "    except:\n",
    "        print('bad line')\n",
    "\n",
    "finish = time.time()\n",
    "print('Raw correct', n_correct / N)\n",
    "print('Stem correct', n_correct_stem / N)\n",
    "print('Time to evaluate {} sample: {}'.format(subset, finish - start))"
   ]
  },
  {
   "cell_type": "code",
   "execution_count": 39,
   "metadata": {},
   "outputs": [
    {
     "data": {
      "text/plain": [
       "426"
      ]
     },
     "execution_count": 39,
     "metadata": {},
     "output_type": "execute_result"
    }
   ],
   "source": [
    "# Raw correct 0.3185348446683459\n",
    "# Stem correct 0.3212636439966415"
   ]
  },
  {
   "cell_type": "code",
   "execution_count": 35,
   "metadata": {},
   "outputs": [
    {
     "data": {
      "text/plain": [
       "0.32220513946848234"
      ]
     },
     "execution_count": 35,
     "metadata": {},
     "output_type": "execute_result"
    }
   ],
   "source": [
    "n_correct_stem / N"
   ]
  },
  {
   "cell_type": "code",
   "execution_count": 26,
   "metadata": {},
   "outputs": [
    {
     "name": "stdout",
     "output_type": "stream",
     "text": [
      "The game began development in 2010 , carrying over a large portion of the [] done on Valkyria Chronicles II .\n",
      "work\n"
     ]
    }
   ],
   "source": [
    "import re \n",
    "sample = X_test[0]\n",
    "print(re.sub(r'<<([^;]*)>>', '[]', ' '.join(sample)))\n",
    "print(y_true[0])"
   ]
  },
  {
   "cell_type": "code",
   "execution_count": 19,
   "metadata": {},
   "outputs": [
    {
     "data": {
      "text/plain": [
       "'the dog ran [] the house'"
      ]
     },
     "execution_count": 19,
     "metadata": {},
     "output_type": "execute_result"
    }
   ],
   "source": [
    "left_text = 'the dog ran'\n",
    "right_text = 'the house'\n",
    "\n",
    "sentence = left_text + ' [] ' + right_text\n",
    "\n",
    "sentence"
   ]
  },
  {
   "cell_type": "code",
   "execution_count": 21,
   "metadata": {},
   "outputs": [
    {
     "data": {
      "text/plain": [
       "0"
      ]
     },
     "execution_count": 21,
     "metadata": {},
     "output_type": "execute_result"
    }
   ],
   "source": [
    "bad_lines"
   ]
  },
  {
   "cell_type": "code",
   "execution_count": null,
   "metadata": {},
   "outputs": [],
   "source": [
    "import numpy as np\n",
    "import pandas as pd\n",
    "import re\n",
    "import time\n",
    "from inference import Inference\n",
    "from nltk.stem import PorterStemmer\n",
    "\n",
    "\n",
    "data_path = '../../data/processed/'\n",
    "\n",
    "X_train = np.load(data_path + 'X_wikitext-2-train.npy')\n",
    "X_test = np.load(data_path + 'X_wikitext-2-test.npy')\n",
    "\n",
    "y_train = np.load(data_path + 'y_wikitext-2-train.npy')\n",
    "y_test = np.load(data_path + 'y_wikitext-2-test.npy')\n",
    "\n",
    "word_level_df_test = pd.read_csv('../../data/preprocessed/word_level_test.csv')\n",
    "\n",
    "# init class \n",
    "inference_model = Inference(img_width=128, img_height=64, device='cpu')\n",
    "\n",
    "\n",
    "stemmer = PorterStemmer()\n",
    "\n",
    "def evaluate_model(X_test, y_test, word_level_df_test, subset=None)\n",
    "    \n",
    "\n",
    "    y_preds = []\n",
    "    y_true = [y[0].lower() for y in y_test[:subset]]\n",
    "    N = 0\n",
    "    n_correct = 0\n",
    "    n_correct_stem = 0\n",
    "    bad_lines = 0\n",
    "\n",
    "\n",
    "    len_test = len(X_test[:subset])\n",
    "    start = time.time()\n",
    "    for i, (X, y) in enumerate(zip(X_test[:subset], y_true)):\n",
    "        try:\n",
    "            X = re.sub(r'<<([^;]*)>>', '[]', ' '.join(X))\n",
    "        #     print(y)\n",
    "            img_path_df = word_level_df_test.loc[word_level_df_test.token == y, 'image_path']\n",
    "            if len(img_path_df) > 0:\n",
    "                N += 1\n",
    "                img_path = np.random.choice(img_path_df.values.tolist())\n",
    "                # still getting 'unk'\n",
    "                y_pred = inference_model.predict(X, img_path)\n",
    "                if y_pred.lower() == y:\n",
    "                    n_correct += 1\n",
    "                if stemmer.stem(y_pred) == stemmer.stem(y):\n",
    "                    n_correct_stem += 1\n",
    "\n",
    "            else:\n",
    "                bad_lines += 1\n",
    "            if i % 100 == 0:\n",
    "                print('processed {} %'.format((i / len_test)*100.0))\n",
    "        except:\n",
    "            print('bad line')\n",
    "\n",
    "    finish = time.time()\n",
    "    raw_correct = n_correct / N\n",
    "    stem_correct = n_correct_stem / N\n",
    "    \n",
    "    print('Raw correct', raw_correct)\n",
    "    print('Stem correct', stem_correct)\n",
    "    print('Time to evaluate {} sample: {}'.format(subset, finish - start))\n",
    "    \n",
    "    return raw_correct, stem_correct\n",
    "\n",
    "\n",
    "if __name__ == '__main__':\n",
    "    data_path = '../../data/processed/'\n",
    "#     X_train = np.load(data_path + 'X_wikitext-2-train.npy')\n",
    "    X_test = np.load(data_path + 'X_wikitext-2-test.npy')\n",
    "#     y_train = np.load(data_path + 'y_wikitext-2-train.npy')\n",
    "    y_test = np.load(data_path + 'y_wikitext-2-test.npy')\n",
    "    word_level_df_test = pd.read_csv('../../data/preprocessed/word_level_test.csv')\n",
    "\n",
    "    # init class \n",
    "    inference_model = Inference(img_width=128, img_height=64, device='cpu')\n",
    "    # evaluate model \n",
    "#     raw_correct, stem_correct = evaluate_model(X_test, y_test, word_level_df_test, subset=1000)"
   ]
  }
 ],
 "metadata": {
  "kernelspec": {
   "display_name": "Python 3",
   "language": "python",
   "name": "python3"
  },
  "language_info": {
   "codemirror_mode": {
    "name": "ipython",
    "version": 3
   },
   "file_extension": ".py",
   "mimetype": "text/x-python",
   "name": "python",
   "nbconvert_exporter": "python",
   "pygments_lexer": "ipython3",
   "version": "3.6.3"
  }
 },
 "nbformat": 4,
 "nbformat_minor": 2
}
