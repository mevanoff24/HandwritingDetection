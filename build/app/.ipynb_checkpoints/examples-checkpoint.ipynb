{
 "cells": [
  {
   "cell_type": "code",
   "execution_count": null,
   "metadata": {},
   "outputs": [],
   "source": []
  },
  {
   "cell_type": "code",
   "execution_count": null,
   "metadata": {},
   "outputs": [],
   "source": []
  },
  {
   "cell_type": "code",
   "execution_count": null,
   "metadata": {},
   "outputs": [],
   "source": []
  },
  {
   "cell_type": "code",
   "execution_count": 1,
   "metadata": {},
   "outputs": [
    {
     "name": "stderr",
     "output_type": "stream",
     "text": [
      "/home/matt/anaconda3/lib/python3.6/site-packages/h5py/__init__.py:36: FutureWarning: Conversion of the second argument of issubdtype from `float` to `np.floating` is deprecated. In future, it will be treated as `np.float64 == np.dtype(float).type`.\n",
      "  from ._conv import register_converters as _register_converters\n"
     ]
    },
    {
     "ename": "RuntimeError",
     "evalue": "Error(s) in loading state_dict for Context2vec:\n\tMissing key(s) in state_dict: \"left2right_embed.weight\", \"right2left_embed.weight\", \"left2right_rnn.weight_ih_l0\", \"left2right_rnn.weight_hh_l0\", \"left2right_rnn.bias_ih_l0\", \"left2right_rnn.bias_hh_l0\", \"right2left_rnn.weight_ih_l0\", \"right2left_rnn.weight_hh_l0\", \"right2left_rnn.bias_ih_l0\", \"right2left_rnn.bias_hh_l0\", \"neg_sample_loss.W.weight\", \"top_model.MLP.0.weight\", \"top_model.MLP.0.bias\", \"top_model.MLP.1.weight\", \"top_model.MLP.1.bias\". \n\tUnexpected key(s) in state_dict: \"l2r_emb.weight\", \"l2r_rnn.weight_ih_l0\", \"l2r_rnn.weight_hh_l0\", \"l2r_rnn.bias_ih_l0\", \"l2r_rnn.bias_hh_l0\", \"r2l_emb.weight\", \"r2l_rnn.weight_ih_l0\", \"r2l_rnn.weight_hh_l0\", \"r2l_rnn.bias_ih_l0\", \"r2l_rnn.bias_hh_l0\", \"criterion.W.weight\", \"MLP.MLP.0.weight\", \"MLP.MLP.0.bias\", \"MLP.MLP.1.weight\", \"MLP.MLP.1.bias\". ",
     "output_type": "error",
     "traceback": [
      "\u001b[0;31m---------------------------------------------------------------------------\u001b[0m",
      "\u001b[0;31mRuntimeError\u001b[0m                              Traceback (most recent call last)",
      "\u001b[0;32m<ipython-input-1-f0ccd5f5269f>\u001b[0m in \u001b[0;36m<module>\u001b[0;34m()\u001b[0m\n\u001b[1;32m      1\u001b[0m \u001b[0;32mfrom\u001b[0m \u001b[0minference\u001b[0m \u001b[0;32mimport\u001b[0m \u001b[0mInference\u001b[0m\u001b[0;34m\u001b[0m\u001b[0m\n\u001b[1;32m      2\u001b[0m \u001b[0;34m\u001b[0m\u001b[0m\n\u001b[0;32m----> 3\u001b[0;31m \u001b[0minference_model\u001b[0m \u001b[0;34m=\u001b[0m \u001b[0mInference\u001b[0m\u001b[0;34m(\u001b[0m\u001b[0mimg_width\u001b[0m\u001b[0;34m=\u001b[0m\u001b[0;36m128\u001b[0m\u001b[0;34m,\u001b[0m \u001b[0mimg_height\u001b[0m\u001b[0;34m=\u001b[0m\u001b[0;36m64\u001b[0m\u001b[0;34m,\u001b[0m \u001b[0mdevice\u001b[0m\u001b[0;34m=\u001b[0m\u001b[0;34m'cpu'\u001b[0m\u001b[0;34m)\u001b[0m\u001b[0;34m\u001b[0m\u001b[0m\n\u001b[0m",
      "\u001b[0;32m~/Desktop/Insight/HandwritingDetection/build/app/inference.py\u001b[0m in \u001b[0;36m__init__\u001b[0;34m(self, modelfile, wordsfile, img_width, img_height, device)\u001b[0m\n\u001b[1;32m     74\u001b[0m         \u001b[0mself\u001b[0m\u001b[0;34m.\u001b[0m\u001b[0mimg_width\u001b[0m \u001b[0;34m=\u001b[0m \u001b[0mimg_width\u001b[0m\u001b[0;34m\u001b[0m\u001b[0m\n\u001b[1;32m     75\u001b[0m         \u001b[0mself\u001b[0m\u001b[0;34m.\u001b[0m\u001b[0mimg_height\u001b[0m \u001b[0;34m=\u001b[0m \u001b[0mimg_height\u001b[0m\u001b[0;34m\u001b[0m\u001b[0m\n\u001b[0;32m---> 76\u001b[0;31m         \u001b[0mself\u001b[0m\u001b[0;34m.\u001b[0m\u001b[0mbuild_language_model\u001b[0m\u001b[0;34m(\u001b[0m\u001b[0;34m)\u001b[0m\u001b[0;34m\u001b[0m\u001b[0m\n\u001b[0m\u001b[1;32m     77\u001b[0m \u001b[0;31m#         self.build_ocr_model()\u001b[0m\u001b[0;34m\u001b[0m\u001b[0;34m\u001b[0m\u001b[0m\n\u001b[1;32m     78\u001b[0m         \u001b[0mself\u001b[0m\u001b[0;34m.\u001b[0m\u001b[0mbuild_beam_ocr_model\u001b[0m\u001b[0;34m(\u001b[0m\u001b[0;34m)\u001b[0m\u001b[0;34m\u001b[0m\u001b[0m\n",
      "\u001b[0;32m~/Desktop/Insight/HandwritingDetection/build/app/inference.py\u001b[0m in \u001b[0;36mbuild_language_model\u001b[0;34m(self, model_dir)\u001b[0m\n\u001b[1;32m     99\u001b[0m                             \u001b[0mdevice\u001b[0m\u001b[0;34m=\u001b[0m\u001b[0mself\u001b[0m\u001b[0;34m.\u001b[0m\u001b[0mdevice\u001b[0m\u001b[0;34m,\u001b[0m\u001b[0;34m\u001b[0m\u001b[0m\n\u001b[1;32m    100\u001b[0m                             inference=True).to(self.device)\n\u001b[0;32m--> 101\u001b[0;31m         \u001b[0mself\u001b[0m\u001b[0;34m.\u001b[0m\u001b[0mlm_model\u001b[0m\u001b[0;34m.\u001b[0m\u001b[0mload_state_dict\u001b[0m\u001b[0;34m(\u001b[0m\u001b[0mtorch\u001b[0m\u001b[0;34m.\u001b[0m\u001b[0mload\u001b[0m\u001b[0;34m(\u001b[0m\u001b[0mmodelfile\u001b[0m\u001b[0;34m,\u001b[0m \u001b[0mmap_location\u001b[0m\u001b[0;34m=\u001b[0m\u001b[0mself\u001b[0m\u001b[0;34m.\u001b[0m\u001b[0mdevice\u001b[0m\u001b[0;34m)\u001b[0m\u001b[0;34m)\u001b[0m\u001b[0;34m\u001b[0m\u001b[0m\n\u001b[0m\u001b[1;32m    102\u001b[0m \u001b[0;31m#         optimizer = optim.Adam(model.parameters(), lr=config_dict['learning_rate'])\u001b[0m\u001b[0;34m\u001b[0m\u001b[0;34m\u001b[0m\u001b[0m\n\u001b[1;32m    103\u001b[0m         \u001b[0;31m# optimizer.load_state_dict(torch.load(modelfile+'.optim'))\u001b[0m\u001b[0;34m\u001b[0m\u001b[0;34m\u001b[0m\u001b[0m\n",
      "\u001b[0;32m~/anaconda3/lib/python3.6/site-packages/torch/nn/modules/module.py\u001b[0m in \u001b[0;36mload_state_dict\u001b[0;34m(self, state_dict, strict)\u001b[0m\n\u001b[1;32m    717\u001b[0m         \u001b[0;32mif\u001b[0m \u001b[0mlen\u001b[0m\u001b[0;34m(\u001b[0m\u001b[0merror_msgs\u001b[0m\u001b[0;34m)\u001b[0m \u001b[0;34m>\u001b[0m \u001b[0;36m0\u001b[0m\u001b[0;34m:\u001b[0m\u001b[0;34m\u001b[0m\u001b[0m\n\u001b[1;32m    718\u001b[0m             raise RuntimeError('Error(s) in loading state_dict for {}:\\n\\t{}'.format(\n\u001b[0;32m--> 719\u001b[0;31m                                self.__class__.__name__, \"\\n\\t\".join(error_msgs)))\n\u001b[0m\u001b[1;32m    720\u001b[0m \u001b[0;34m\u001b[0m\u001b[0m\n\u001b[1;32m    721\u001b[0m     \u001b[0;32mdef\u001b[0m \u001b[0mparameters\u001b[0m\u001b[0;34m(\u001b[0m\u001b[0mself\u001b[0m\u001b[0;34m)\u001b[0m\u001b[0;34m:\u001b[0m\u001b[0;34m\u001b[0m\u001b[0m\n",
      "\u001b[0;31mRuntimeError\u001b[0m: Error(s) in loading state_dict for Context2vec:\n\tMissing key(s) in state_dict: \"left2right_embed.weight\", \"right2left_embed.weight\", \"left2right_rnn.weight_ih_l0\", \"left2right_rnn.weight_hh_l0\", \"left2right_rnn.bias_ih_l0\", \"left2right_rnn.bias_hh_l0\", \"right2left_rnn.weight_ih_l0\", \"right2left_rnn.weight_hh_l0\", \"right2left_rnn.bias_ih_l0\", \"right2left_rnn.bias_hh_l0\", \"neg_sample_loss.W.weight\", \"top_model.MLP.0.weight\", \"top_model.MLP.0.bias\", \"top_model.MLP.1.weight\", \"top_model.MLP.1.bias\". \n\tUnexpected key(s) in state_dict: \"l2r_emb.weight\", \"l2r_rnn.weight_ih_l0\", \"l2r_rnn.weight_hh_l0\", \"l2r_rnn.bias_ih_l0\", \"l2r_rnn.bias_hh_l0\", \"r2l_emb.weight\", \"r2l_rnn.weight_ih_l0\", \"r2l_rnn.weight_hh_l0\", \"r2l_rnn.bias_ih_l0\", \"r2l_rnn.bias_hh_l0\", \"criterion.W.weight\", \"MLP.MLP.0.weight\", \"MLP.MLP.0.bias\", \"MLP.MLP.1.weight\", \"MLP.MLP.1.bias\". "
     ]
    }
   ],
   "source": [
    "from inference import Inference\n",
    "\n",
    "inference_model = Inference(img_width=128, img_height=64, device='cpu')"
   ]
  },
  {
   "cell_type": "code",
   "execution_count": 2,
   "metadata": {},
   "outputs": [
    {
     "name": "stdout",
     "output_type": "stream",
     "text": [
      "('live', (0.6397737264633179, 'slept'), ['like'], array([0.82690567], dtype=float32))\n"
     ]
    }
   ],
   "source": [
    "file_url = '../../data/raw/word_level/c03/c03-096f/c03-096f-00-07.png'\n",
    "\n",
    "file_url = '../../data/raw/word_level/c03/c03-096f/c03-096f-07-05.png'\n",
    "left_text = 'We'\n",
    "right_text = 'in the house'\n",
    "X = left_text + ' [] ' + right_text\n",
    "prediction = inference_model.predict(X, file_url, ind_preds=True, ocr_prob_threshold=0.85)\n",
    "print(prediction)"
   ]
  },
  {
   "cell_type": "code",
   "execution_count": 9,
   "metadata": {},
   "outputs": [],
   "source": [
    "Z = [(0.6397737264633179, 'slept'), (0.6323035359382629, 'dabble'), (0.559866189956665, \"'re\"), (0.5329194068908691, 'stayed'), (0.5288676023483276, 'sat'), (0.4934336543083191, 'lived'), (0.4536677598953247, 'hid'), (0.4443860352039337, 'got'), (0.43601545691490173, 'live'), (0.4348217248916626, 'buried'), (0.41707414388656616, 'rejoice'), (0.3848378360271454, 'vacationed'), (0.3815666437149048, 'congregated'), (0.3779458701610565, 'balked'), (0.35714060068130493, 'dove'), (0.35361653566360474, 'crouched'), (0.3484594523906708, 'lunched'), (0.3433127999305725, 'toiled'), (0.3385561406612396, 'huddled'), (0.3336961269378662, 'prospered'), (0.3314686715602875, 'dwelled'), (0.3291795551776886, 'were'), (0.32495132088661194, 'strolled'), (0.32009977102279663, 'resided'), (0.319406658411026, 'reside'), (0.30158546566963196, 'landed'), (0.2980598509311676, 'squatted'), (0.2967756390571594, 'partook'), (0.29490840435028076, 'kept'), (0.28834477066993713, 'labored'), (0.2835155427455902, 'belong'), (0.27830618619918823, 'sit'), (0.27349746227264404, 'rehearsed'), (0.2687121629714966, 'lie'), (0.26786699891090393, 'remained'), (0.2676231265068054, 'dined'), (0.26738911867141724, 'holidayed'), (0.266904354095459, 'waited'), (0.2668074667453766, 'appear'), (0.2650832235813141, 'exist'), (0.2648472189903259, 'arrive'), (0.26464134454727173, 'dwelt'), (0.2621450424194336, 'remain'), (0.256123423576355, 'rehearse'), (0.2519649565219879, 'are'), (0.2515889108181, 'conversed'), (0.25145041942596436, 'settled'), (0.25047653913497925, 'saw'), (0.2497512698173523, 'gathered'), (0.24547839164733887, 'lodged'), (0.24530239403247833, 'lurk'), (0.23731063306331635, 'gaped'), (0.23484927415847778, 'congregate'), (0.23070558905601501, 'tunneled'), (0.22245654463768005, 'stepped'), (0.22142094373703003, 'stay'), (0.22085174918174744, 'locked'), (0.2196076363325119, 'overindulge'), (0.2187119424343109, 'specialise'), (0.21519632637500763, 'suffocated'), (0.21490679681301117, 'kneel'), (0.21052272617816925, 'swore'), (0.20960599184036255, 'reveled'), (0.20607803761959076, 'prayed'), (0.20335553586483002, 'dabbled'), (0.20228329300880432, 'camped'), (0.19979387521743774, 'reeled'), (0.19743305444717407, 'put'), (0.1950840801000595, 'died'), (0.19413556158542633, 'invested'), (0.19234266877174377, 'sang'), (0.18997767567634583, 'walked'), (0.18307025730609894, 'swam'), (0.18282797932624817, 'worked'), (0.18175747990608215, 'ate'), (0.1817299872636795, 'appeared'), (0.17974412441253662, 'stare'), (0.17921455204486847, 'met'), (0.17631219327449799, 'boxed'), (0.17625883221626282, 'hibernated'), (0.17165663838386536, 'languish'), (0.16872477531433105, 'wallow'), (0.1677539348602295, 'dwell'), (0.16713020205497742, 'alighted'), (0.16612690687179565, 'figured'), (0.16421453654766083, 'laughed'), (0.16245490312576294, 'rejoiced'), (0.16179195046424866, 'reappear'), (0.1598750352859497, 'stood'), (0.1593179702758789, 'see'), (0.15727050602436066, 'Remain'), (0.15393124520778656, 'speak'), (0.15130959451198578, 'marched'), (0.15105397999286652, 'stopped'), (0.15047335624694824, 'swung'), (0.14485952258110046, 'huddle'), (0.14388787746429443, 'awake'), (0.14376991987228394, 'gather'), (0.14287489652633667, 'clapped')]"
   ]
  },
  {
   "cell_type": "code",
   "execution_count": null,
   "metadata": {},
   "outputs": [],
   "source": []
  },
  {
   "cell_type": "code",
   "execution_count": null,
   "metadata": {},
   "outputs": [],
   "source": []
  },
  {
   "cell_type": "code",
   "execution_count": 3,
   "metadata": {},
   "outputs": [],
   "source": [
    "file_url = '../../data/raw/word_level/c03/c03-096f/c03-096f-07-05.png'"
   ]
  },
  {
   "cell_type": "code",
   "execution_count": 4,
   "metadata": {},
   "outputs": [
    {
     "name": "stdout",
     "output_type": "stream",
     "text": [
      "We [] in the house\n"
     ]
    },
    {
     "data": {
      "image/png": "[encoded data removed]",
      "text/plain": [
       "<PIL.PngImagePlugin.PngImageFile image mode=L size=134x70 at 0x7EFD11357978>"
      ]
     },
     "execution_count": 4,
     "metadata": {},
     "output_type": "execute_result"
    }
   ],
   "source": [
    " X = 'We' + ' [] ' + 'in the house'\n",
    "print(X)\n",
    "from PIL import Image\n",
    "Image.open(file_url)"
   ]
  },
  {
   "cell_type": "code",
   "execution_count": 5,
   "metadata": {},
   "outputs": [
    {
     "name": "stdout",
     "output_type": "stream",
     "text": [
      "OCR prediction is \"like\" with probability of 83.0%\n"
     ]
    }
   ],
   "source": [
    "ocr_pred, ocr_prob = inference_model.run_beam_ocr_inference_by_user_image(file_url)\n",
    "print('OCR prediction is \"{}\" with probability of {}%'.format(ocr_pred[0], round(ocr_prob[0]*100)))"
   ]
  },
  {
   "cell_type": "code",
   "execution_count": 10,
   "metadata": {},
   "outputs": [
    {
     "name": "stdout",
     "output_type": "stream",
     "text": [
      "[(0.6397737264633179, 'slept'), (0.6323035359382629, 'dabble'), (0.559866189956665, \"'re\"), (0.5329194068908691, 'stayed'), (0.5288676023483276, 'sat'), (0.4934336543083191, 'lived'), (0.4536677598953247, 'hid'), (0.4443860352039337, 'got'), (0.43601545691490173, 'live')]\n",
      "Top 10 LM predictions: ['slept', 'dabble', \"'re\", 'stayed', 'sat', 'lived', 'hid', 'got', 'live']\n"
     ]
    }
   ],
   "source": [
    "lm_preds = inference_model.run_lm_inference_by_user_input(X, topK=10)\n",
    "print(lm_preds)\n",
    "print('Top 10 LM predictions: {}'.format([w for _, w in lm_preds]))"
   ]
  },
  {
   "cell_type": "code",
   "execution_count": 9,
   "metadata": {},
   "outputs": [
    {
     "data": {
      "text/plain": [
       "[('live', 4.053264933659698),\n",
       " ('lived', 3.0220344079222583),\n",
       " ('dabble', 2.4400122671680546),\n",
       " (\"'re\", 2.3418169876984027),\n",
       " ('slept', 2.1773005375385295),\n",
       " ('hid', 1.8956185576370623),\n",
       " ('stayed', 1.815633970481934),\n",
       " ('sat', 1.649077876730878),\n",
       " ('got', 1.564596309586484)]"
      ]
     },
     "execution_count": 9,
     "metadata": {},
     "output_type": "execute_result"
    }
   ],
   "source": [
    "features = inference_model.create_features_improved(lm_preds, ocr_pred, ocr_prob)\n",
    "inference_model.final_scores(features, ocr_pred, ocr_prob_threshold=0.8, return_topK=10)"
   ]
  },
  {
   "cell_type": "code",
   "execution_count": 8,
   "metadata": {},
   "outputs": [
    {
     "data": {
      "text/plain": [
       "[('live', 4.8623097696683555),\n",
       " ('lived', 3.448472232239753),\n",
       " ('dabble', 3.00382016921238),\n",
       " (\"'re\", 2.888073804708552),\n",
       " ('slept', 2.5013190095196265),\n",
       " ('hid', 2.161875374647212),\n",
       " ('stayed', 1.9861207593784505),\n",
       " ('sat', 1.7082426527844938),\n",
       " ('got', 1.6237610856401)]"
      ]
     },
     "execution_count": 8,
     "metadata": {},
     "output_type": "execute_result"
    }
   ],
   "source": [
    "features = inference_model.create_features_improved(lm_preds, ocr_pred, ocr_prob)\n",
    "inference_model.final_scores(features, ocr_pred, ocr_prob_threshold=0.85, return_topK=10)"
   ]
  },
  {
   "cell_type": "code",
   "execution_count": null,
   "metadata": {},
   "outputs": [],
   "source": []
  },
  {
   "cell_type": "code",
   "execution_count": 19,
   "metadata": {},
   "outputs": [
    {
     "data": {
      "text/plain": [
       "[('live', 2.673293292529275),\n",
       " ('lie', 2.3923764273104235),\n",
       " ('lived', 2.2756261636663577),\n",
       " ('lurk', 2.08051279040776),\n",
       " ('locked', 1.9274139822916463),\n",
       " ('lunched', 1.8856334088129076),\n",
       " ('landed', 1.8714337629911693),\n",
       " ('dabble', 1.8587313879662044),\n",
       " ('labored', 1.825518727092174),\n",
       " ('lodged', 1.8153266889688762)]"
      ]
     },
     "execution_count": 19,
     "metadata": {},
     "output_type": "execute_result"
    }
   ],
   "source": [
    "from operator import itemgetter\n",
    "\n",
    "features = inference_model.create_features_improved(Z, ['like'], [0.7777384])\n",
    "inference_model.final_scores(features, ['like'], 0.8)\n",
    "weights = inference_model.get_weights()\n",
    "    \n",
    "final_scores = {}\n",
    "for word, dic in features.items():\n",
    "    for feature in weights.keys():\n",
    "        features[word].update({feature: (features[word][feature] * weights[feature])})\n",
    "    final_scores[word] = sum(features[word].values())\n",
    "    \n",
    "    \n",
    "top_results = sorted(final_scores.items(), key=itemgetter(1), reverse=True)\n",
    "top_results[:10]"
   ]
  },
  {
   "cell_type": "code",
   "execution_count": null,
   "metadata": {},
   "outputs": [],
   "source": []
  },
  {
   "cell_type": "code",
   "execution_count": 10,
   "metadata": {},
   "outputs": [
    {
     "name": "stdout",
     "output_type": "stream",
     "text": [
      "slept\n",
      "dabble\n",
      "'re\n",
      "stayed\n",
      "sat\n",
      "lived\n",
      "hid\n",
      "got\n",
      "live\n",
      "buried\n",
      "rejoice\n",
      "vacationed\n",
      "congregated\n",
      "balked\n",
      "dove\n",
      "crouched\n",
      "lunched\n",
      "toiled\n",
      "huddled\n",
      "prospered\n",
      "dwelled\n",
      "were\n",
      "strolled\n",
      "resided\n",
      "reside\n",
      "landed\n",
      "squatted\n",
      "partook\n",
      "kept\n",
      "labored\n",
      "belong\n",
      "sit\n",
      "rehearsed\n",
      "lie\n",
      "remained\n",
      "dined\n",
      "holidayed\n",
      "waited\n",
      "appear\n",
      "exist\n",
      "arrive\n",
      "dwelt\n",
      "remain\n",
      "rehearse\n",
      "are\n",
      "conversed\n",
      "settled\n",
      "saw\n",
      "gathered\n",
      "lodged\n",
      "lurk\n",
      "gaped\n",
      "congregate\n",
      "tunneled\n",
      "stepped\n",
      "stay\n",
      "locked\n",
      "overindulge\n",
      "specialise\n",
      "suffocated\n",
      "kneel\n",
      "swore\n",
      "reveled\n",
      "prayed\n",
      "dabbled\n",
      "camped\n",
      "reeled\n",
      "put\n",
      "died\n",
      "invested\n",
      "sang\n",
      "walked\n",
      "swam\n",
      "worked\n",
      "ate\n",
      "appeared\n",
      "stare\n",
      "met\n",
      "boxed\n",
      "hibernated\n",
      "languish\n",
      "wallow\n",
      "dwell\n",
      "alighted\n",
      "figured\n",
      "laughed\n",
      "rejoiced\n",
      "reappear\n",
      "stood\n",
      "see\n",
      "Remain\n",
      "speak\n",
      "marched\n",
      "stopped\n",
      "swung\n",
      "huddle\n",
      "awake\n",
      "gather\n",
      "clapped\n"
     ]
    }
   ],
   "source": [
    "for prob, word in Z:\n",
    "    print(word)"
   ]
  },
  {
   "cell_type": "code",
   "execution_count": 7,
   "metadata": {},
   "outputs": [],
   "source": [
    "the_string = '' + ' [] '  +  ''\n",
    "# the_string = "
   ]
  },
  {
   "cell_type": "code",
   "execution_count": 8,
   "metadata": {},
   "outputs": [],
   "source": [
    "import re\n",
    "if re.search('[a-zA-Z]', the_string) is not None:\n",
    "    print(True)"
   ]
  },
  {
   "cell_type": "code",
   "execution_count": 24,
   "metadata": {},
   "outputs": [
    {
     "name": "stdout",
     "output_type": "stream",
     "text": [
      "True\n"
     ]
    }
   ],
   "source": [
    "if not os.path.isfile('.'):\n",
    "    print(True)"
   ]
  },
  {
   "cell_type": "code",
   "execution_count": null,
   "metadata": {},
   "outputs": [],
   "source": [
    "[(1.224109172821045, '<UNK>'), (0.4631592333316803, 'mutual'), (0.45344918966293335, 'filial'), (0.4316594898700714, 'chronological'), (0.43153640627861023, 'direct'), (0.425195574760437, 'regal'), (0.41831493377685547, 'slavish'), (0.41372278332710266, 'relative'), (0.38065898418426514, 'divine'), (0.37932538986206055, 'comparative')]"
   ]
  }
 ],
 "metadata": {
  "kernelspec": {
   "display_name": "Python 3",
   "language": "python",
   "name": "python3"
  },
  "language_info": {
   "codemirror_mode": {
    "name": "ipython",
    "version": 3
   },
   "file_extension": ".py",
   "mimetype": "text/x-python",
   "name": "python",
   "nbconvert_exporter": "python",
   "pygments_lexer": "ipython3",
   "version": "3.6.4"
  }
 },
 "nbformat": 4,
 "nbformat_minor": 2
}
