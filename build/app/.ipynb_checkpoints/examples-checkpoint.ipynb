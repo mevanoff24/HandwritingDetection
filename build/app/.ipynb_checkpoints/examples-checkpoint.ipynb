{
 "cells": [
  {
   "cell_type": "code",
   "execution_count": 6,
   "metadata": {},
   "outputs": [],
   "source": [
    "REGION = 'us-west2'\n",
    "\n",
    "import os\n",
    "os.environ['key'] = key\n",
    "os.environ['secret'] = secret\n",
    "os.environ['REGION'] = REGION"
   ]
  },
  {
   "cell_type": "code",
   "execution_count": 19,
   "metadata": {},
   "outputs": [],
   "source": [
    "AWS_SERVER_PUBLIC_KEY = os.environ['key']\n",
    "\n",
    "AWS_SERVER_SECRET_KEY = os.environ['secret']"
   ]
  },
  {
   "cell_type": "code",
   "execution_count": null,
   "metadata": {},
   "outputs": [],
   "source": []
  },
  {
   "cell_type": "code",
   "execution_count": 24,
   "metadata": {},
   "outputs": [],
   "source": [
    "import numpy as np\n",
    "import pandas as pd\n",
    "import dill as pickle\n",
    "import os\n",
    "from nltk.tokenize import sent_tokenize, word_tokenize\n",
    "import pytesseract\n",
    "from PIL import Image, ImageEnhance, ImageFilter\n",
    "from collections import defaultdict\n",
    "import shutil\n",
    "\n",
    "\n",
    "# TODO remove this \n",
    "import warnings\n",
    "warnings.filterwarnings(\"ignore\")\n",
    "\n",
    "\n",
    "\n",
    "# from .utils import unpickle\n",
    "# TODO Move to utils \n",
    "def unpickle(filename):\n",
    "    \"\"\" Unpickle file \"\"\"\n",
    "    with open(filename, 'rb') as f:\n",
    "        return pickle.load(f)\n",
    "\n",
    "\n",
    "# DATA_DIR = '../../../data'\n",
    "\n",
    "DATA_DIR = '../../data'\n",
    "# TODO move this \n",
    "data_path = os.path.join(DATA_DIR, 'raw/word_level')\n",
    "meta_json_data_path = os.path.join(DATA_DIR, 'preprocessed/meta.json')\n",
    "word_level_meta_path = os.path.join(DATA_DIR, 'preprocessed/word_level_meta.csv')\n",
    "word_path_mapping_path = os.path.join(DATA_DIR, 'processed/word_path_mapping.pkl')\n",
    "X_path = os.path.join(DATA_DIR, 'processed/X.npy')\n",
    "y_path = os.path.join(DATA_DIR, 'processed/y.npy')\n",
    "bigram_model_path = os.path.join(DATA_DIR, 'processed/ngram_models/bigram_likelihood_model.pkl')\n",
    "trigram_model_path = os.path.join(DATA_DIR, 'processed/ngram_models/trigram_likelihood_model.pkl')\n",
    "letters_path = os.path.join(DATA_DIR, 'processed/letters_map.pkl')\n",
    "\n",
    "\n",
    "import boto3\n",
    "from io import BytesIO\n",
    "import dill as pickle\n",
    "\n",
    "\n",
    "# client = boto3.resource('s3')\n",
    "# bucket = client.Bucket('handwrittingdetection')\n",
    "\n",
    "# session = boto3.Session(\n",
    "#     aws_access_key_id=settings.AWS_SERVER_PUBLIC_KEY,\n",
    "#     aws_secret_access_key=settings.AWS_SERVER_SECRET_KEY,\n",
    "# )\n",
    "# client = session.resource('s3')\n",
    "\n",
    "# s3_client = boto3.client('s3', \n",
    "#                       aws_access_key_id=AWS_SERVER_PUBLIC_KEY, \n",
    "#                       aws_secret_access_key=AWS_SERVER_SECRET_KEY, \n",
    "#                       region_name='us-west2'\n",
    "#                       )\n",
    "\n",
    "\n",
    "def s3_init(bucketname='handwrittingdetection'):\n",
    "\n",
    "    \n",
    "    session = boto3.Session(\n",
    "        aws_access_key_id=AWS_SERVER_PUBLIC_KEY,\n",
    "        aws_secret_access_key=AWS_SERVER_SECRET_KEY,\n",
    "    )\n",
    "    \n",
    "    client = session.resource('s3')\n",
    "    bucket = client.Bucket(bucketname)\n",
    "    return client, bucket\n",
    "\n",
    "# client, bucket = s3_init(bucketname='handwrittingdetection')\n",
    "    \n",
    "def unpickle_s3(filename, client=None, bucket=None):\n",
    "    with BytesIO() as data:\n",
    "        bucket.download_fileobj(filename, data)\n",
    "        data.seek(0)\n",
    "        return pickle.load(data)\n",
    "\n",
    "\n",
    "def tokenize_and_join(context):\n",
    "    tokens = word_tokenize(context)\n",
    "    context = ' '.join(tokens)\n",
    "    return tokens, context\n",
    "\n",
    "def ngram_backoff_model(left_text, right_text, trigram_model, bigram_model, OOV_token=0):\n",
    "\n",
    "\n",
    "    left_tokens, left_text = tokenize_and_join(left_text)\n",
    "    right_tokens, right_text = tokenize_and_join(right_text)\n",
    "    full_text = left_text + ' [] '  + right_text\n",
    "\n",
    "    # get previous word(s)\n",
    "    try:\n",
    "        prev_word = left_tokens[-1]\n",
    "    except:\n",
    "        prev_word = '<bos>'\n",
    "    try:\n",
    "        prev_prev_word = left_tokens[-2]\n",
    "    except:\n",
    "        prev_prev_word = '<bos>'\n",
    "    # model preds \n",
    "#     print(prev_prev_word, prev_word)\n",
    "    pred = trigram_model[(prev_prev_word, prev_word)]\n",
    "#     print('pred1', pred)\n",
    "    if pred == OOV_token:\n",
    "        pred = bigram_model[(prev_word)]\n",
    "#         print('pred2', pred)\n",
    "        if pred == OOV_token:\n",
    "            pred = 'UNK'\n",
    "    return pred \n",
    "\n",
    "\n",
    "def teseract_baseline(file_url, word_path_mapping, letters, tmpdir='tmp/'):\n",
    "    img_width = 256\n",
    "    img_height = 100\n",
    "    # gets image from sample index\n",
    "    # img = word_path_mapping[y[sample_index][0]]\n",
    "    im = Image.open(file_url)  # img is the path of the image\n",
    "    im = im.convert(\"RGBA\")\n",
    "    im = im.resize((img_width, img_height))\n",
    "    newimdata = []\n",
    "    datas = im.getdata()\n",
    "\n",
    "    vals = 255\n",
    "\n",
    "    for item in datas:\n",
    "        if item[0] < vals or item[1] < vals or item[2] < vals:\n",
    "            newimdata.append(item)\n",
    "        else:\n",
    "            newimdata.append((255, 255, 255))\n",
    "    im.putdata(newimdata)\n",
    "\n",
    "    im = im.filter(ImageFilter.MedianFilter())\n",
    "    enhancer = ImageEnhance.Contrast(im)\n",
    "    im = enhancer.enhance(2)\n",
    "    im = im.convert('1')\n",
    "    \n",
    "    if not os.path.exists(tmpdir):\n",
    "        os.makedirs(tmpdir)\n",
    "    save_img_path = os.path.join(tmpdir, 'temp_img.jpg')\n",
    "    im.save(save_img_path)\n",
    "    \n",
    "    text = pytesseract.image_to_string(Image.open(save_img_path),\n",
    "                config='-c tessedit_char_whitelist=0123456789abcdefghijklmnopqrstuvwxyz -psm 13', lang='eng')\n",
    "    \n",
    "    # os.remove(save_img_path)\n",
    "    # os.rmdir(tmpdir)\n",
    "    # shutil.rmtree(tmpdir)\n",
    "    return text, len(text) \n",
    "\n",
    "\n",
    "    \n",
    "def get_ocr_model_pred(file_url, word_path_mapping, letters):\n",
    "    ocr_pred, len_pred = teseract_baseline(file_url, word_path_mapping, letters)\n",
    "    return ocr_pred, len_pred\n",
    "\n",
    "def get_language_model_pred(left_text, right_text, trigram_model, bigram_model):\n",
    "    pred = ngram_backoff_model(left_text, right_text, trigram_model, bigram_model)\n",
    "    return pred\n",
    "\n",
    "\n",
    "def get_pos_tags(left_text, right_text):\n",
    "    return []\n",
    "\n",
    "def weight_features(left_text, right_text, file_url, trigram_model, bigram_model, word_path_mapping, letters, weights={}):\n",
    "    ocr_pred, len_pred = get_ocr_model_pred(file_url, word_path_mapping, letters)\n",
    "    print('OCR', ocr_pred, len_pred)\n",
    "    lm_pred = get_language_model_pred(left_text, right_text, trigram_model, bigram_model)\n",
    "    print('LM', lm_pred)\n",
    "    pos_pred = get_pos_tags(left_text, right_text)\n",
    "    \n",
    "    return ocr_pred, len_pred, lm_pred\n",
    "\n",
    "\n",
    "\n",
    "\n",
    "def absoluteFilePaths(directory):\n",
    "    \"\"\"Walk filepaths\"\"\"\n",
    "    for dirpath,_,filenames in os.walk(directory):\n",
    "        for f in filenames:\n",
    "            yield os.path.join(dirpath, f)\n",
    "\n",
    "\n",
    "def create_image_path(df, data_path, use_s3=False, s3_image_path='data/word_level'):\n",
    "    \"\"\"Create dictionary for mapping of word to data path\"\"\"\n",
    "    if use_s3:\n",
    "        files = list(bucket.objects.filter(Prefix='data/word_level/sample'))\n",
    "        all_paths = [f.key for f in files if '.png' in f.key]\n",
    "    else:\n",
    "        all_paths = [i for i in absoluteFilePaths(data_path)]\n",
    "        \n",
    "    all_path_dict = defaultdict(lambda: 0, dict(zip(all_path_endings, all_paths)))\n",
    "    all_path_endings = [i.split('/')[-1].split('.')[0] for i in all_paths]\n",
    "    defaultdict(lambda: 0, dict(zip(all_path_endings, all_paths)))\n",
    "    df['image_path'] = df['image_name'].map(lambda x: all_path_dict[x])\n",
    "    return df\n",
    "\n",
    "\n",
    "\n",
    "def get_prediction(left_text, right_text, file_url, use_s3=False):\n",
    "\n",
    "    if use_s3:\n",
    "\n",
    "        client, bucket = s3_init(bucketname='handwrittingdetection')\n",
    "\n",
    "        bigram_model_path = 'data/ngram_models/bigram_likelihood_model.pkl'\n",
    "        trigram_model_path = 'data/ngram_models/trigram_likelihood_model.pkl'\n",
    "\n",
    "        word_path_mapping_path = 'data/word_path_mapping.pkl'\n",
    "        letters_path = 'data/letters_map.pkl'\n",
    "\n",
    "        bigram_model = unpickle_s3(bigram_model_path, client, bucket)\n",
    "        trigram_model = unpickle_s3(trigram_model_path, client, bucket)\n",
    "\n",
    "        word_path_mapping = unpickle_s3(word_path_mapping_path, client, bucket)\n",
    "        letter2idx = unpickle_s3(letters_path, client, bucket)\n",
    "\n",
    "\n",
    "    else:\n",
    "        data_path = os.path.join(DATA_DIR, 'raw/word_level')\n",
    "        meta_json_data_path = os.path.join(DATA_DIR, 'preprocessed/meta.json')\n",
    "        word_level_meta_path = os.path.join(DATA_DIR, 'preprocessed/word_level_meta.csv')\n",
    "        word_path_mapping_path = os.path.join(DATA_DIR, 'processed/word_path_mapping.pkl')\n",
    "        bigram_model_path = os.path.join(DATA_DIR, 'processed/ngram_models/bigram_likelihood_model.pkl')\n",
    "        trigram_model_path = os.path.join(DATA_DIR, 'processed/ngram_models/trigram_likelihood_model.pkl')\n",
    "        letters_path = os.path.join(DATA_DIR, 'processed/letters_map.pkl')\n",
    "\n",
    "        # Language Models\n",
    "        bigram_model = unpickle(bigram_model_path)\n",
    "        trigram_model = unpickle(trigram_model_path)\n",
    "\n",
    "        # Meta\n",
    "        meta = pd.read_json(meta_json_data_path)\n",
    "        word_level_df = pd.read_csv(word_level_meta_path)\n",
    "        word_level_df = create_image_path(word_level_df, data_path)\n",
    "\n",
    "        # word_path_mapping = defaultdict(lambda: 0, dict(zip(word_level_df.token, word_level_df.image_path)))                              \n",
    "        # with open(os.path.join(DATA_DIR, 'processed', 'word_path_mapping.pkl'), 'wb') as f:\n",
    "        #     pickle.dump(word_path_mapping, f)\n",
    "\n",
    "        word_path_mapping = unpickle(word_path_mapping_path)\n",
    "        letter2idx = unpickle(letters_path)\n",
    "\n",
    "    letters = list(letter2idx.keys())\n",
    "    letters = ''.join(letters[1:-2])\n",
    "\n",
    "    left_text = left_text.rstrip()\n",
    "    right_text = right_text.rstrip()\n",
    "\n",
    "    ocr_pred, len_pred, lm_pred = weight_features(left_text, right_text, file_url, trigram_model, bigram_model, word_path_mapping, letters)\n",
    "    return ocr_pred, len_pred, lm_pred\n"
   ]
  },
  {
   "cell_type": "code",
   "execution_count": 25,
   "metadata": {},
   "outputs": [
    {
     "name": "stdout",
     "output_type": "stream",
     "text": [
      "OCR wk 2\n",
      "dog ran\n",
      "pred1 0\n",
      "pred2 a\n",
      "LM a\n"
     ]
    },
    {
     "data": {
      "text/plain": [
       "('wk', 2, 'a')"
      ]
     },
     "execution_count": 25,
     "metadata": {},
     "output_type": "execute_result"
    }
   ],
   "source": [
    "left_text = 'the dog ran'\n",
    "right_text = 'the house'\n",
    "file_path = '../../data/raw/word_level/a01/a01-007u/a01-007u-00-05.png'\n",
    "\n",
    "get_prediction(left_text, right_text, file_path, use_s3=True)"
   ]
  },
  {
   "cell_type": "code",
   "execution_count": 12,
   "metadata": {},
   "outputs": [],
   "source": []
  },
  {
   "cell_type": "code",
   "execution_count": 13,
   "metadata": {},
   "outputs": [
    {
     "data": {
      "image/png": "[encoded data removed]",
      "text/plain": [
       "<PIL.PngImagePlugin.PngImageFile image mode=L size=152x72 at 0x1115C9048>"
      ]
     },
     "execution_count": 13,
     "metadata": {},
     "output_type": "execute_result"
    }
   ],
   "source": [
    "Image.open(file_path)"
   ]
  },
  {
   "cell_type": "code",
   "execution_count": 26,
   "metadata": {},
   "outputs": [],
   "source": [
    "client, bucket = s3_init(bucketname='handwrittingdetection')"
   ]
  },
  {
   "cell_type": "code",
   "execution_count": 71,
   "metadata": {},
   "outputs": [],
   "source": [
    "model_file = list(bucket.objects.filter(Prefix='models/language_model/model.param'))"
   ]
  },
  {
   "cell_type": "code",
   "execution_count": 78,
   "metadata": {},
   "outputs": [
    {
     "data": {
      "text/plain": [
       "[s3.ObjectSummary(bucket_name='handwrittingdetection', key='models/language_model/model.param'),\n",
       " s3.ObjectSummary(bucket_name='handwrittingdetection', key='models/language_model/model.param.config.json'),\n",
       " s3.ObjectSummary(bucket_name='handwrittingdetection', key='models/language_model/model.param.optim')]"
      ]
     },
     "execution_count": 78,
     "metadata": {},
     "output_type": "execute_result"
    }
   ],
   "source": [
    "model_file"
   ]
  },
  {
   "cell_type": "markdown",
   "metadata": {},
   "source": [
    "# Inference "
   ]
  },
  {
   "cell_type": "code",
   "execution_count": 1,
   "metadata": {},
   "outputs": [],
   "source": [
    "import os\n",
    "import time\n",
    "import torch\n",
    "from torch import optim\n",
    "from models.context2vec.src.eval.mscc import mscc_evaluation\n",
    "from models.context2vec.src.core.nets import Context2vec\n",
    "from models.context2vec.src.util.args import parse_args\n",
    "from models.context2vec.src.util.batch import Dataset\n",
    "from models.context2vec.src.util.config import Config\n",
    "from models.context2vec.src.util.io import write_embedding, write_config, read_config, load_vocab\n",
    "device = 'cpu'\n",
    "# args = parse_args()\n",
    "modelfile = 'models/context2vec/models/model.param'\n",
    "# modelfile = model_file[0].key\n",
    "wordsfile = 'models/context2vec/models/embedding.vec'\n",
    "config_file = modelfile+'.config.json'\n",
    "config_dict = read_config(config_file)\n",
    "model = Context2vec(vocab_size=config_dict['vocab_size'],\n",
    "                    counter=[1]*config_dict['vocab_size'],\n",
    "                    word_embed_size=config_dict['word_embed_size'],\n",
    "                    hidden_size=config_dict['hidden_size'],\n",
    "                    n_layers=config_dict['n_layers'],\n",
    "                    bidirectional=config_dict['bidirectional'],\n",
    "                    use_mlp=config_dict['use_mlp'],\n",
    "                    dropout=config_dict['dropout'],\n",
    "                    pad_index=config_dict['pad_index'],\n",
    "                    device=device,\n",
    "                    inference=True).to(device)\n",
    "model.load_state_dict(torch.load(modelfile, map_location='cpu'))\n",
    "optimizer = optim.Adam(model.parameters(), lr=config_dict['learning_rate'])\n",
    "# optimizer.load_state_dict(torch.load(modelfile+'.optim'))\n",
    "itos, stoi = load_vocab(wordsfile)\n",
    "unk_token = config_dict['unk_token']\n",
    "bos_token = config_dict['bos_token']\n",
    "eos_token = config_dict['eos_token']"
   ]
  },
  {
   "cell_type": "code",
   "execution_count": 103,
   "metadata": {},
   "outputs": [],
   "source": [
    "import os\n",
    "import time\n",
    "import torch\n",
    "from torch import optim\n",
    "from models.context2vec.src.eval.mscc import mscc_evaluation\n",
    "from models.context2vec.src.core.nets import Context2vec\n",
    "from models.context2vec.src.util.args import parse_args\n",
    "from models.context2vec.src.util.batch import Dataset\n",
    "from models.context2vec.src.util.config import Config\n",
    "from models.context2vec.src.util.io import write_embedding, write_config, read_config, load_vocab\n",
    "\n",
    "class Inference():\n",
    "    def __init__(self, modelfile, wordsfile, config_file, device='cpu'):\n",
    "        \n",
    "        # args = parse_args()\n",
    "        modelfile = 'models/context2vec/models/model.param'\n",
    "        # modelfile = model_file[0].key\n",
    "        wordsfile = 'models/context2vec/models/embedding.vec'\n",
    "        config_file = modelfile+'.config.json'\n",
    "        config_dict = read_config(config_file)\n",
    "        model = Context2vec(vocab_size=config_dict['vocab_size'],\n",
    "                            counter=[1]*config_dict['vocab_size'],\n",
    "                            word_embed_size=config_dict['word_embed_size'],\n",
    "                            hidden_size=config_dict['hidden_size'],\n",
    "                            n_layers=config_dict['n_layers'],\n",
    "                            bidirectional=config_dict['bidirectional'],\n",
    "                            use_mlp=config_dict['use_mlp'],\n",
    "                            dropout=config_dict['dropout'],\n",
    "                            pad_index=config_dict['pad_index'],\n",
    "                            device=device,\n",
    "                            inference=True).to(device)\n",
    "        model.load_state_dict(torch.load(modelfile, map_location='cpu'))\n",
    "#         optimizer = optim.Adam(model.parameters(), lr=config_dict['learning_rate'])\n",
    "        # optimizer.load_state_dict(torch.load(modelfile+'.optim'))\n",
    "        itos, stoi = load_vocab(wordsfile)\n",
    "        unk_token = config_dict['unk_token']\n",
    "        bos_token = config_dict['bos_token']\n",
    "        eos_token = config_dict['eos_token']\n",
    "        \n",
    "        \n",
    "    def _return_split_sentence(self, sentence):\n",
    "        if ' ' not in sentence:\n",
    "            print('sentence should contain white space to split it into tokens')\n",
    "            raise SyntaxError\n",
    "        elif '[]' not in sentence:\n",
    "            print('sentence should contain `[]` that notes the target')\n",
    "            raise SyntaxError\n",
    "        else:\n",
    "            tokens = sentence.lower().strip().split()\n",
    "            target_pos = tokens.index('[]')\n",
    "            return tokens, target_pos\n",
    "        \n",
    "    def run_inference_by_user_input(self, sentence, model, itos, stoi, unk_token, bos_token, eos_token, device, topK=30):\n",
    "\n",
    "        # evaluation mode \n",
    "        model.eval()\n",
    "        # norm_weight\n",
    "        model.norm_embedding_weight(model.criterion.W)\n",
    "\n",
    "        tokens, target_pos = return_split_sentence(sentence)\n",
    "        tokens[target_pos] = unk_token\n",
    "        tokens = [bos_token] + tokens + [eos_token]\n",
    "        indexed_sentence = [stoi[token] if token in stoi else stoi[unk_token] for token in tokens]\n",
    "        input_tokens = \\\n",
    "            torch.tensor(indexed_sentence, dtype=torch.long, device=device).unsqueeze(0)\n",
    "        topv, topi = model.run_inference(input_tokens, target=None, target_pos=target_pos, k=topK)\n",
    "        output = []  \n",
    "        for value, key in zip(topv, topi):\n",
    "            output.append((value.item(), itos[key.item()]))\n",
    "            print(value.item(), itos[key.item()])\n",
    "        return output"
   ]
  },
  {
   "cell_type": "code",
   "execution_count": 2,
   "metadata": {},
   "outputs": [],
   "source": [
    "def run_inference_by_user_input(sentence, \n",
    "                                model,\n",
    "                                itos,\n",
    "                                stoi,\n",
    "                                unk_token,\n",
    "                                bos_token,\n",
    "                                eos_token,\n",
    "                                device):\n",
    "\n",
    "    def return_split_sentence(sentence):\n",
    "        if ' ' not in sentence:\n",
    "            print('sentence should contain white space to split it into tokens')\n",
    "            raise SyntaxError\n",
    "        elif '[]' not in sentence:\n",
    "            print('sentence should contain `[]` that notes the target')\n",
    "            raise SyntaxError\n",
    "        else:\n",
    "            tokens = sentence.lower().strip().split()\n",
    "            target_pos = tokens.index('[]')\n",
    "            return tokens, target_pos\n",
    "\n",
    "    ''' \n",
    "    norm_weight\n",
    "    '''\n",
    "    # evaluation mode \n",
    "    model.eval()\n",
    "    \n",
    "    model.norm_embedding_weight(model.criterion.W)\n",
    "\n",
    "    tokens, target_pos = return_split_sentence(sentence)\n",
    "    tokens[target_pos] = unk_token\n",
    "    tokens = [bos_token] + tokens + [eos_token]\n",
    "    indexed_sentence = [stoi[token] if token in stoi else stoi[unk_token] for token in tokens]\n",
    "    input_tokens = torch.tensor(indexed_sentence, dtype=torch.long, device=device).unsqueeze(0)\n",
    "    topv, topi = model.run_inference(input_tokens, target=None, target_pos=target_pos)\n",
    "    output = []  \n",
    "    for value, key in zip(topv, topi):\n",
    "        output.append((value.item(), itos[key.item()]))\n",
    "        print(value.item(), itos[key.item()])\n",
    "    return output"
   ]
  },
  {
   "cell_type": "code",
   "execution_count": null,
   "metadata": {},
   "outputs": [],
   "source": [
    "modelfile = 'models/context2vec/models/model.param'\n",
    "wordsfile = 'models/context2vec/models/embedding.vec'\n",
    "\n"
   ]
  },
  {
   "cell_type": "code",
   "execution_count": 3,
   "metadata": {},
   "outputs": [
    {
     "name": "stdout",
     "output_type": "stream",
     "text": [
      "0.8051932454109192 into\n",
      "0.5680792927742004 above\n",
      "0.25667303800582886 through\n",
      "0.0 <PAD>\n",
      "0.0 <EOS>\n",
      "0.0 <BOS>\n",
      "-0.0033715590834617615 against\n",
      "-0.02418931946158409 across\n",
      "-0.09841619431972504 alongside\n",
      "-0.25158366560935974 from\n"
     ]
    },
    {
     "data": {
      "text/plain": [
       "[(0.8051932454109192, 'into'),\n",
       " (0.5680792927742004, 'above'),\n",
       " (0.25667303800582886, 'through'),\n",
       " (0.0, '<PAD>'),\n",
       " (0.0, '<EOS>'),\n",
       " (0.0, '<BOS>'),\n",
       " (-0.0033715590834617615, 'against'),\n",
       " (-0.02418931946158409, 'across'),\n",
       " (-0.09841619431972504, 'alongside'),\n",
       " (-0.25158366560935974, 'from')]"
      ]
     },
     "execution_count": 3,
     "metadata": {},
     "output_type": "execute_result"
    }
   ],
   "source": [
    "left_text = 'the dog ran'\n",
    "right_text = 'the house'\n",
    "\n",
    "sentence = left_text + ' [] ' + right_text\n",
    "\n",
    "run_inference_by_user_input(sentence, model, itos, stoi, unk_token=unk_token, \n",
    "                            bos_token=bos_token, eos_token=eos_token, device=device)\n"
   ]
  },
  {
   "cell_type": "code",
   "execution_count": 83,
   "metadata": {},
   "outputs": [
    {
     "name": "stdout",
     "output_type": "stream",
     "text": [
      "model.param             model.param.config.json\r\n"
     ]
    }
   ],
   "source": [
    "!ls models/context2vec/models/"
   ]
  },
  {
   "cell_type": "code",
   "execution_count": 99,
   "metadata": {},
   "outputs": [
    {
     "name": "stdout",
     "output_type": "stream",
     "text": [
      "__init__.py      run.py           \u001b[1m\u001b[34mtemplates\u001b[m\u001b[m/       \u001b[1m\u001b[34mtmp\u001b[m\u001b[m/\r\n",
      "\u001b[1m\u001b[34mmodels\u001b[m\u001b[m/          \u001b[1m\u001b[34mstatic\u001b[m\u001b[m/          test_pipe.ipynb  utils.py\r\n"
     ]
    }
   ],
   "source": [
    "ls"
   ]
  },
  {
   "cell_type": "code",
   "execution_count": null,
   "metadata": {},
   "outputs": [],
   "source": []
  },
  {
   "cell_type": "code",
   "execution_count": null,
   "metadata": {},
   "outputs": [],
   "source": []
  },
  {
   "cell_type": "code",
   "execution_count": null,
   "metadata": {},
   "outputs": [],
   "source": []
  },
  {
   "cell_type": "code",
   "execution_count": null,
   "metadata": {},
   "outputs": [],
   "source": []
  },
  {
   "cell_type": "code",
   "execution_count": null,
   "metadata": {},
   "outputs": [],
   "source": []
  },
  {
   "cell_type": "code",
   "execution_count": null,
   "metadata": {},
   "outputs": [],
   "source": []
  },
  {
   "cell_type": "code",
   "execution_count": null,
   "metadata": {},
   "outputs": [],
   "source": []
  },
  {
   "cell_type": "markdown",
   "metadata": {},
   "source": [
    "# LM MODEL"
   ]
  },
  {
   "cell_type": "code",
   "execution_count": 1,
   "metadata": {},
   "outputs": [],
   "source": [
    "import os\n",
    "import time\n",
    "import torch\n",
    "from torch import optim\n",
    "from models.context2vec.src.eval.mscc import mscc_evaluation\n",
    "from models.context2vec.src.core.nets import Context2vec\n",
    "from models.context2vec.src.util.args import parse_args\n",
    "from models.context2vec.src.util.batch import Dataset\n",
    "from models.context2vec.src.util.config import Config\n",
    "from models.context2vec.src.util.io import write_embedding, write_config, read_config, load_vocab\n",
    "device = 'cpu'\n",
    "# args = parse_args()\n",
    "modelfile = 'models/context2vec/models/model.param'\n",
    "# modelfile = model_file[0].key\n",
    "wordsfile = 'models/context2vec/models/embedding.vec'\n",
    "config_file = modelfile+'.config.json'\n",
    "config_dict = read_config(config_file)\n",
    "model = Context2vec(vocab_size=config_dict['vocab_size'],\n",
    "                    counter=[1]*config_dict['vocab_size'],\n",
    "                    word_embed_size=config_dict['word_embed_size'],\n",
    "                    hidden_size=config_dict['hidden_size'],\n",
    "                    n_layers=config_dict['n_layers'],\n",
    "                    bidirectional=config_dict['bidirectional'],\n",
    "                    use_mlp=config_dict['use_mlp'],\n",
    "                    dropout=config_dict['dropout'],\n",
    "                    pad_index=config_dict['pad_index'],\n",
    "                    device=device,\n",
    "                    inference=True).to(device)\n",
    "model.load_state_dict(torch.load(modelfile, map_location='cpu'))\n",
    "optimizer = optim.Adam(model.parameters(), lr=config_dict['learning_rate'])\n",
    "# optimizer.load_state_dict(torch.load(modelfile+'.optim'))\n",
    "itos, stoi = load_vocab(wordsfile)\n",
    "unk_token = config_dict['unk_token']\n",
    "bos_token = config_dict['bos_token']\n",
    "eos_token = config_dict['eos_token']"
   ]
  },
  {
   "cell_type": "code",
   "execution_count": 2,
   "metadata": {},
   "outputs": [],
   "source": [
    "def run_inference_by_user_input(sentence, \n",
    "                                model,\n",
    "                                itos,\n",
    "                                stoi,\n",
    "                                unk_token,\n",
    "                                bos_token,\n",
    "                                eos_token,\n",
    "                                device):\n",
    "\n",
    "    def return_split_sentence(sentence):\n",
    "        if ' ' not in sentence:\n",
    "            print('sentence should contain white space to split it into tokens')\n",
    "            raise SyntaxError\n",
    "        elif '[]' not in sentence:\n",
    "            print('sentence should contain `[]` that notes the target')\n",
    "            raise SyntaxError\n",
    "        else:\n",
    "            tokens = sentence.lower().strip().split()\n",
    "            target_pos = tokens.index('[]')\n",
    "            return tokens, target_pos\n",
    "\n",
    "    ''' \n",
    "    norm_weight\n",
    "    '''\n",
    "    # evaluation mode \n",
    "    model.eval()\n",
    "    \n",
    "    model.norm_embedding_weight(model.criterion.W)\n",
    "\n",
    "    tokens, target_pos = return_split_sentence(sentence)\n",
    "    tokens[target_pos] = unk_token\n",
    "    tokens = [bos_token] + tokens + [eos_token]\n",
    "    indexed_sentence = [stoi[token] if token in stoi else stoi[unk_token] for token in tokens]\n",
    "    input_tokens = torch.tensor(indexed_sentence, dtype=torch.long, device=device).unsqueeze(0)\n",
    "    topv, topi = model.run_inference(input_tokens, target=None, target_pos=target_pos)\n",
    "    output = []  \n",
    "    for value, key in zip(topv, topi):\n",
    "        output.append((value.item(), itos[key.item()]))\n",
    "        print(value.item(), itos[key.item()])\n",
    "    return output"
   ]
  },
  {
   "cell_type": "code",
   "execution_count": null,
   "metadata": {},
   "outputs": [],
   "source": []
  },
  {
   "cell_type": "code",
   "execution_count": 3,
   "metadata": {},
   "outputs": [
    {
     "name": "stdout",
     "output_type": "stream",
     "text": [
      "0.8051932454109192 into\n",
      "0.5680792927742004 above\n",
      "0.25667303800582886 through\n",
      "0.0 <PAD>\n",
      "0.0 <EOS>\n",
      "0.0 <BOS>\n",
      "-0.0033715590834617615 against\n",
      "-0.02418931946158409 across\n",
      "-0.09841619431972504 alongside\n",
      "-0.25158366560935974 from\n"
     ]
    },
    {
     "data": {
      "text/plain": [
       "[(0.8051932454109192, 'into'),\n",
       " (0.5680792927742004, 'above'),\n",
       " (0.25667303800582886, 'through'),\n",
       " (0.0, '<PAD>'),\n",
       " (0.0, '<EOS>'),\n",
       " (0.0, '<BOS>'),\n",
       " (-0.0033715590834617615, 'against'),\n",
       " (-0.02418931946158409, 'across'),\n",
       " (-0.09841619431972504, 'alongside'),\n",
       " (-0.25158366560935974, 'from')]"
      ]
     },
     "execution_count": 3,
     "metadata": {},
     "output_type": "execute_result"
    }
   ],
   "source": [
    "left_text = 'the dog ran'\n",
    "right_text = 'the house'\n",
    "\n",
    "sentence = left_text + ' [] ' + right_text\n",
    "\n",
    "run_inference_by_user_input(sentence, model, itos, stoi, unk_token=unk_token, \n",
    "                            bos_token=bos_token, eos_token=eos_token, device=device)\n"
   ]
  },
  {
   "cell_type": "markdown",
   "metadata": {},
   "source": [
    "# OCR"
   ]
  },
  {
   "cell_type": "code",
   "execution_count": 4,
   "metadata": {},
   "outputs": [
    {
     "name": "stderr",
     "output_type": "stream",
     "text": [
      "/Users/mattevanoff/anaconda3/lib/python3.6/importlib/_bootstrap.py:219: RuntimeWarning: numpy.dtype size changed, may indicate binary incompatibility. Expected 96, got 88\n",
      "  return f(*args, **kwds)\n",
      "/Users/mattevanoff/anaconda3/lib/python3.6/site-packages/h5py/__init__.py:34: FutureWarning: Conversion of the second argument of issubdtype from `float` to `np.floating` is deprecated. In future, it will be treated as `np.float64 == np.dtype(float).type`.\n",
      "  from ._conv import register_converters as _register_converters\n",
      "/Users/mattevanoff/anaconda3/lib/python3.6/importlib/_bootstrap.py:219: RuntimeWarning: numpy.dtype size changed, may indicate binary incompatibility. Expected 96, got 88\n",
      "  return f(*args, **kwds)\n"
     ]
    },
    {
     "name": "stdout",
     "output_type": "stream",
     "text": [
      "WARNING:tensorflow:From /Users/mattevanoff/anaconda3/lib/python3.6/site-packages/tensorflow/python/ops/init_ops.py:87: calling VarianceScaling.__init__ (from tensorflow.python.ops.init_ops) with distribution=normal is deprecated and will be removed in a future version.\n",
      "Instructions for updating:\n",
      "`normal` is a deprecated alias for `truncated_normal`\n"
     ]
    },
    {
     "data": {
      "text/plain": [
       "<tensorflow.python.keras.engine.training.Model at 0x1401d7470>"
      ]
     },
     "execution_count": 4,
     "metadata": {},
     "output_type": "execute_result"
    }
   ],
   "source": [
    "import tensorflow as tf\n",
    "from tensorflow.keras import backend as K\n",
    "from tensorflow.keras.models import load_model\n",
    "\n",
    "sess = tf.Session()\n",
    "K.set_session(sess)\n",
    "\n",
    "ocr_model_path = 'models/ocr/models/ocr_5_len.h5'\n",
    "\n",
    "\n",
    "\n",
    "def ctc_lambda_func(args):\n",
    "    y_pred, labels, input_length, label_length = args\n",
    "    y_pred = y_pred[:, 2:, :]\n",
    "    return K.ctc_batch_cost(labels, y_pred, input_length, label_length)\n",
    "\n",
    "\n",
    "# model = load_model(ocr_model_path, custom_objects={'ctc': ctc})\n",
    "model = load_model(ocr_model_path, custom_objects={'<lambda>': lambda y_true, y_pred: y_pred})\n",
    "model"
   ]
  },
  {
   "cell_type": "code",
   "execution_count": 15,
   "metadata": {},
   "outputs": [
    {
     "data": {
      "image/png": "[encoded data removed]",
      "text/plain": [
       "<PIL.PngImagePlugin.PngImageFile image mode=L size=208x107 at 0x12831E320>"
      ]
     },
     "execution_count": 15,
     "metadata": {},
     "output_type": "execute_result"
    }
   ],
   "source": [
    "Image.open(img_path)"
   ]
  },
  {
   "cell_type": "code",
   "execution_count": 14,
   "metadata": {},
   "outputs": [
    {
     "name": "stdout",
     "output_type": "stream",
     "text": [
      "(64, 128)\n"
     ]
    },
    {
     "data": {
      "text/plain": [
       "['Roght']"
      ]
     },
     "execution_count": 14,
     "metadata": {},
     "output_type": "execute_result"
    }
   ],
   "source": [
    "img_width = 128\n",
    "img_height = 64\n",
    "img_path = '../../data/raw/word_level/c03/c03-096f/c03-096f-03-05.png'\n",
    "# img_path = '../../data/raw/word_level/c03/c03-096f/c03-096f-00-05.png'\n",
    "# img_path = '../../data/raw/word_level/c03/c03-096f/c03-096f-01-00.png'\n",
    "\n",
    "from PIL import Image\n",
    "import numpy as np\n",
    "import cv2\n",
    "import itertools\n",
    "\n",
    "letters = [' ', '!', '\"', '#', '&', \"'\", '(', ')', '*', '+', ',', '-', '.', '/', '0', '1', '2', '3', '4', '5', '6', '7', '8', '9', ':', ';', '?', 'A', 'B', 'C', 'D', 'E', 'F', 'G', 'H', 'I', 'J', 'K', 'L', 'M', 'N', 'O', 'P', 'Q', 'R', 'S', 'T', 'U', 'V', 'W', 'X', 'Y', 'Z', 'a', 'b', 'c', 'd', 'e', 'f', 'g', 'h', 'i', 'j', 'k', 'l', 'm', 'n', 'o', 'p', 'q', 'r', 's', 't', 'u', 'v', 'w', 'x', 'y', 'z']\n",
    "def decode_batch(out):\n",
    "    ret = []\n",
    "    for j in range(out.shape[0]):\n",
    "        out_best = list(np.argmax(out[j, 2:], 1))\n",
    "        out_best = [k for k, g in itertools.groupby(out_best)]\n",
    "        outstr = ''\n",
    "        for c in out_best:\n",
    "            if c < len(letters):\n",
    "                outstr += letters[c]\n",
    "        ret.append(outstr)\n",
    "    return ret\n",
    "\n",
    "img = cv2.imread(img_path)\n",
    "# grayscale image\n",
    "img = cv2.cvtColor(img, cv2.COLOR_BGR2GRAY)\n",
    "# resize image\n",
    "img = cv2.resize(img, (img_width, img_height))\n",
    "# change image type\n",
    "img = img.astype(np.float32)\n",
    "# scale image \n",
    "img /= 255\n",
    "img = img.reshape((1, img_width, img_height, 1))\n",
    "\n",
    "net_inp = model.get_layer(name='the_input').input\n",
    "net_out = model.get_layer(name='softmax').output\n",
    "\n",
    "X_data = img\n",
    "net_out_value = sess.run(net_out, feed_dict={net_inp: X_data})\n",
    "pred_texts = decode_batch(net_out_value)\n",
    "\n",
    "pred_texts\n"
   ]
  },
  {
   "cell_type": "code",
   "execution_count": null,
   "metadata": {},
   "outputs": [],
   "source": []
  },
  {
   "cell_type": "code",
   "execution_count": null,
   "metadata": {},
   "outputs": [],
   "source": []
  },
  {
   "cell_type": "code",
   "execution_count": null,
   "metadata": {},
   "outputs": [],
   "source": []
  },
  {
   "cell_type": "code",
   "execution_count": null,
   "metadata": {},
   "outputs": [],
   "source": []
  },
  {
   "cell_type": "markdown",
   "metadata": {},
   "source": [
    "# Complete"
   ]
  },
  {
   "cell_type": "code",
   "execution_count": 125,
   "metadata": {},
   "outputs": [],
   "source": [
    "# LM model imports \n",
    "import os\n",
    "import time\n",
    "import torch\n",
    "from torch import optim\n",
    "from models.context2vec.src.eval.mscc import mscc_evaluation\n",
    "from models.context2vec.src.core.nets import Context2vec\n",
    "from models.context2vec.src.util.args import parse_args\n",
    "from models.context2vec.src.util.batch import Dataset\n",
    "from models.context2vec.src.util.config import Config\n",
    "from models.context2vec.src.util.io import write_embedding, write_config, read_config, load_vocab\n",
    "\n",
    "\n",
    "# OCR model imports \n",
    "import tensorflow as tf\n",
    "from tensorflow.keras import backend as K\n",
    "from tensorflow.keras.models import load_model\n",
    "import numpy as np\n",
    "import cv2\n",
    "import itertools\n",
    "from models.ocr.src.config import letters\n",
    "\n",
    "from collections import defaultdict\n",
    "from operator import itemgetter\n",
    "\n",
    "\n",
    "\n",
    "class Inference():\n",
    "    def __init__(self, modelfile=None, wordsfile=None, img_width=128, img_height=64, device='cpu'):\n",
    "        \n",
    "        self.device = device\n",
    "        self.img_width = img_width\n",
    "        self.img_height = img_height\n",
    "        self.build_language_model()\n",
    "        self.build_ocr_model()\n",
    "        \n",
    "    def build_language_model(self):\n",
    "        # LANGUAGE MODEL\n",
    "        modelfile = 'models/context2vec/models/model.param'\n",
    "        wordsfile = 'models/context2vec/models/embedding.vec'\n",
    "        config_file = modelfile+'.config.json'\n",
    "        config_dict = read_config(config_file)\n",
    "        self.lm_model = Context2vec(vocab_size=config_dict['vocab_size'],\n",
    "                            counter=[1]*config_dict['vocab_size'],\n",
    "                            word_embed_size=config_dict['word_embed_size'],\n",
    "                            hidden_size=config_dict['hidden_size'],\n",
    "                            n_layers=config_dict['n_layers'],\n",
    "                            bidirectional=config_dict['bidirectional'],\n",
    "                            use_mlp=config_dict['use_mlp'],\n",
    "                            dropout=config_dict['dropout'],\n",
    "                            pad_index=config_dict['pad_index'],\n",
    "                            device=self.device,\n",
    "                            inference=True).to(self.device)\n",
    "        self.lm_model.load_state_dict(torch.load(modelfile, map_location=self.device))\n",
    "#         optimizer = optim.Adam(model.parameters(), lr=config_dict['learning_rate'])\n",
    "        # optimizer.load_state_dict(torch.load(modelfile+'.optim'))\n",
    "        self.itos, self.stoi = load_vocab(wordsfile)\n",
    "        self.unk_token = config_dict['unk_token']\n",
    "        self.bos_token = config_dict['bos_token']\n",
    "        self.eos_token = config_dict['eos_token']\n",
    "\n",
    "        \n",
    "    def build_ocr_model(self):\n",
    "        self.sess = tf.Session()\n",
    "        K.set_session(self.sess)\n",
    "\n",
    "        ocr_model_path = 'models/ocr/models/ocr_5_len.h5'\n",
    "        self.ocr_model = load_model(ocr_model_path, custom_objects={'<lambda>': lambda y_true, y_pred: y_pred})\n",
    "        \n",
    "    def preprocess_image(self, img_path, img_width, img_height):\n",
    "        img = cv2.imread(img_path)\n",
    "        # grayscale image\n",
    "        img = cv2.cvtColor(img, cv2.COLOR_BGR2GRAY)\n",
    "        # resize image\n",
    "        img = cv2.resize(img, (img_width, img_height))\n",
    "        # change image type\n",
    "        img = img.astype(np.float32)\n",
    "        # scale image \n",
    "        img /= 255\n",
    "        img = img.reshape((1, img_width, img_height, 1))\n",
    "        return img\n",
    "        \n",
    "        \n",
    "    def _decode_batch(self, out):\n",
    "        ret = []\n",
    "        for j in range(out.shape[0]):\n",
    "            out_best = list(np.argmax(out[j, 2:], 1))\n",
    "            out_best = [k for k, g in itertools.groupby(out_best)]\n",
    "            outstr = ''\n",
    "            for c in out_best:\n",
    "                if c < len(letters):\n",
    "                    outstr += letters[c]\n",
    "            ret.append(outstr)\n",
    "        return ret\n",
    "\n",
    "        \n",
    "    def _return_split_sentence(self, sentence):\n",
    "        if ' ' not in sentence:\n",
    "            print('sentence should contain white space to split it into tokens')\n",
    "            raise SyntaxError\n",
    "        elif '[]' not in sentence:\n",
    "            print('sentence should contain `[]` that notes the target')\n",
    "            raise SyntaxError\n",
    "        else:\n",
    "            tokens = sentence.lower().strip().split()\n",
    "            target_pos = tokens.index('[]')\n",
    "            return tokens, target_pos\n",
    "        \n",
    "    def run_lm_inference_by_user_input(self, sentence, topK=30):\n",
    "\n",
    "        # evaluation mode \n",
    "        self.lm_model.eval()\n",
    "        # norm_weight\n",
    "        self.lm_model.norm_embedding_weight(self.lm_model.criterion.W)\n",
    "\n",
    "        tokens, target_pos = self._return_split_sentence(sentence)\n",
    "        tokens[target_pos] = self.unk_token\n",
    "        tokens = [self.bos_token] + tokens + [self.eos_token]\n",
    "        indexed_sentence = [self.stoi[token] if token in self.stoi else self.stoi[unk_token] for token in tokens]\n",
    "        input_tokens = \\\n",
    "            torch.tensor(indexed_sentence, dtype=torch.long, device=self.device).unsqueeze(0)\n",
    "        topv, topi = self.lm_model.run_inference(input_tokens, target=None, target_pos=target_pos, k=topK)\n",
    "        output = []  \n",
    "        for value, key in zip(topv, topi):\n",
    "            output.append((value.item(), self.itos[key.item()]))\n",
    "#             print(value.item(), self.itos[key.item()])\n",
    "        return output\n",
    "    \n",
    "    def run_ocr_inference_by_user_image(self, img):\n",
    "        net_inp = self.ocr_model.get_layer(name='the_input').input\n",
    "        net_out = self.ocr_model.get_layer(name='softmax').output\n",
    "        net_out_value = self.sess.run(net_out, feed_dict={net_inp: img})\n",
    "        pred_texts = self._decode_batch(net_out_value)\n",
    "        return pred_texts\n",
    "    \n",
    "    from collections import defaultdict\n",
    "    from operator import itemgetter\n",
    "\n",
    "\n",
    "    def create_features(self, lm_preds, ocr_pred):\n",
    "\n",
    "        # not used currently\n",
    "        # ----------------------------------\n",
    "        bins = {\n",
    "            'small': list(range(0, 3)),\n",
    "            'small-mid': list(range(2, 6)),\n",
    "            'mid': list(range(4, 8)),\n",
    "            'mid-large': list(range(6, 10)),\n",
    "            'large': list(range(8, 12)),\n",
    "            'large-big': list(range(10, 14)),\n",
    "            'big': list(range(12, 100)),\n",
    "        }\n",
    "\n",
    "        bins = defaultdict(lambda: 'na', bins)\n",
    "\n",
    "        ocr_len = len([x for x in ocr_pred[0]])\n",
    "        pred_bins = [k for k, v in bins.items() if ocr_len in v]\n",
    "        # ----------------------------------\n",
    "\n",
    "        features = {}\n",
    "        bad_list = ['<PAD>', '<BOS>', '<EOS>', '<UNK>'] # ADD foul words\n",
    "        matches_non_ordered = {}\n",
    "        matches = {}\n",
    "\n",
    "        ocr_pred_lower = ocr_pred[0].lower()\n",
    "\n",
    "        for lm_pred in lm_preds:\n",
    "            score, word = lm_pred[0], lm_pred[1].rstrip()\n",
    "            word = word.lower()\n",
    "            # remove pad, bos, etc...\n",
    "            if word not in bad_list:\n",
    "\n",
    "                features[word] = {}\n",
    "                features[word]['score'] = score\n",
    "                # match first and last character \n",
    "                first_char_match = word[0] == ocr_pred_lower[0]\n",
    "                last_char_match = word[-1] == ocr_pred_lower[-1]\n",
    "                features[word]['first_char_match'] = first_char_match\n",
    "                features[word]['last_char_match'] = last_char_match\n",
    "\n",
    "                num_chars = 0\n",
    "                for char in ocr_pred_lower:\n",
    "                    if char in word:\n",
    "                        num_chars += 1\n",
    "                    matches[word] = num_chars\n",
    "                features[word]['num_matches'] = matches[word]  \n",
    "\n",
    "        return features\n",
    "\n",
    "\n",
    "    def final_scores(self, features):\n",
    "        final_scores = {}\n",
    "\n",
    "        for word, feature_dict in features.items():\n",
    "            final_score = 1\n",
    "            first_char_match = feature_dict['first_char_match']\n",
    "            last_char_match = feature_dict['last_char_match']\n",
    "            score = feature_dict['score']\n",
    "            if first_char_match:\n",
    "                final_score += 10\n",
    "            if last_char_match:\n",
    "                final_score += 10\n",
    "            final_score *= score\n",
    "            final_scores[word] = final_score\n",
    "        top_results = sorted(final_scores.items(), key=itemgetter(1), reverse=True)\n",
    "        return top_results[0][0]\n",
    "\n",
    "    def weigh_function(self):\n",
    "        pass\n",
    "    \n",
    "    \n",
    "    def predict(self, sentence, img_path):\n",
    "        lm_preds = self.run_lm_inference_by_user_input(sentence)\n",
    "        \n",
    "        img = self.preprocess_image(img_path, self.img_width, self.img_height)\n",
    "        ocr_pred = self.run_ocr_inference_by_user_image(img)\n",
    "\n",
    "        features = self.create_features(lm_preds, ocr_pred)\n",
    "        final_pred = self.final_scores(features)\n",
    "    \n",
    "        # return top K? And use MAP @ K ??\n",
    "        return final_pred"
   ]
  },
  {
   "cell_type": "code",
   "execution_count": 126,
   "metadata": {},
   "outputs": [],
   "source": [
    "left_text = 'the dog ran'\n",
    "right_text = 'the house'\n",
    "\n",
    "sentence = left_text + ' [] ' + right_text\n",
    "\n",
    "img_width = 128\n",
    "img_height = 64\n",
    "img_path = '../../data/raw/word_level/c03/c03-096f/c03-096f-03-05.png'"
   ]
  },
  {
   "cell_type": "code",
   "execution_count": 127,
   "metadata": {},
   "outputs": [],
   "source": [
    "inference = Inference()"
   ]
  },
  {
   "cell_type": "code",
   "execution_count": 129,
   "metadata": {},
   "outputs": [
    {
     "data": {
      "text/plain": [
       "'into'"
      ]
     },
     "execution_count": 129,
     "metadata": {},
     "output_type": "execute_result"
    }
   ],
   "source": [
    "inference.predict(sentence, img_path)"
   ]
  },
  {
   "cell_type": "code",
   "execution_count": null,
   "metadata": {},
   "outputs": [],
   "source": [
    "bins = {\n",
    "    list(range(0, 3)): 'small',\n",
    "    list(range(2, 5)): 'small-mid',\n",
    "    list(range(4, 7)): 'mid',\n",
    "    list(range(6, 9)): 'mid-large',\n",
    "    list(range(8, 11)): 'large',\n",
    "    list(range(10, 13)): 'large-big',\n",
    "    list(range(12, 100)): 'big',\n",
    "}\n"
   ]
  },
  {
   "cell_type": "code",
   "execution_count": 118,
   "metadata": {},
   "outputs": [],
   "source": [
    "from collections import defaultdict\n",
    "\n",
    "bins = {\n",
    "    'small': list(range(0, 3)),\n",
    "    'small-mid': list(range(2, 6)),\n",
    "    'mid': list(range(4, 8)),\n",
    "    'mid-large': list(range(6, 10)),\n",
    "    'large': list(range(8, 12)),\n",
    "    'large-big': list(range(10, 14)),\n",
    "    'big': list(range(12, 100)),\n",
    "}\n",
    "\n",
    "bins = defaultdict(lambda: 'na', bins)\n",
    "\n",
    "ocr_len = len([x for x in ocr_pred[0]])\n",
    "pred_bins = [k for k, v in bins.items() if ocr_len in v]"
   ]
  },
  {
   "cell_type": "code",
   "execution_count": 120,
   "metadata": {},
   "outputs": [
    {
     "data": {
      "text/plain": [
       "['small-mid', 'mid']"
      ]
     },
     "execution_count": 120,
     "metadata": {},
     "output_type": "execute_result"
    }
   ],
   "source": [
    "pred_bins"
   ]
  },
  {
   "cell_type": "code",
   "execution_count": 84,
   "metadata": {},
   "outputs": [
    {
     "data": {
      "text/plain": [
       "{'throughout': 4}"
      ]
     },
     "execution_count": 84,
     "metadata": {},
     "output_type": "execute_result"
    }
   ],
   "source": [
    "matches = {}\n",
    "\n",
    "word = 'throughout'\n",
    "num_chars = 0\n",
    "for char in ocr_pred[0]:\n",
    "    if char in word:\n",
    "        num_chars += 1\n",
    "    matches[word] = num_chars\n",
    "    \n",
    "matches"
   ]
  },
  {
   "cell_type": "code",
   "execution_count": 114,
   "metadata": {},
   "outputs": [],
   "source": [
    "from pprint import pprint\n",
    "\n",
    "features = {}\n",
    "bad_list = ['<PAD>', '<BOS>', '<EOS>', '<UNK>'] # ADD foul words\n",
    "matches_non_ordered = {}\n",
    "\n",
    "ocr_pred_lower = ocr_pred[0].lower()\n",
    "\n",
    "for lm_pred in lm_preds:\n",
    "    score, word = lm_pred[0], lm_pred[1].rstrip()\n",
    "    word = word.lower()\n",
    "    # remove pad, bos, etc...\n",
    "    if word not in bad_list:\n",
    "        \n",
    "        features[word] = {}\n",
    "        features[word]['score'] = score\n",
    "        # match first and last character \n",
    "        first_char_match = word[0] == ocr_pred_lower[0]\n",
    "        last_char_match = word[-1] == ocr_pred_lower[-1]\n",
    "        features[word]['first_char_match'] = first_char_match\n",
    "        features[word]['last_char_match'] = last_char_match\n",
    "\n",
    "        num_chars = 0\n",
    "        for char in ocr_pred_lower:\n",
    "            if char in word:\n",
    "                num_chars += 1\n",
    "            matches[word] = num_chars\n",
    "        features[word]['num_matches'] = matches[word]  "
   ]
  },
  {
   "cell_type": "code",
   "execution_count": 117,
   "metadata": {},
   "outputs": [
    {
     "data": {
      "text/plain": [
       "'into'"
      ]
     },
     "execution_count": 117,
     "metadata": {},
     "output_type": "execute_result"
    }
   ],
   "source": [
    "from operator import itemgetter\n",
    "\n",
    "final_scores = {}\n",
    "\n",
    "for word, feature_dict in features.items():\n",
    "    final_score = 1\n",
    "    first_char_match = feature_dict['first_char_match']\n",
    "    last_char_match = feature_dict['last_char_match']\n",
    "    score = feature_dict['score']\n",
    "    if first_char_match:\n",
    "        final_score += 10\n",
    "    if last_char_match:\n",
    "        final_score += 10\n",
    "    final_score *= score\n",
    "    final_scores[word] = final_score\n",
    "top_results = sorted(final_scores.items(), key=itemgetter(1), reverse=True)\n",
    "top_results[0][0]"
   ]
  },
  {
   "cell_type": "code",
   "execution_count": 122,
   "metadata": {},
   "outputs": [],
   "source": [
    "from collections import defaultdict\n",
    "from operator import itemgetter\n",
    "\n",
    "\n",
    "def create_features(lm_preds, ocr_pred):\n",
    "\n",
    "    # not used currently\n",
    "    # ----------------------------------\n",
    "    bins = {\n",
    "        'small': list(range(0, 3)),\n",
    "        'small-mid': list(range(2, 6)),\n",
    "        'mid': list(range(4, 8)),\n",
    "        'mid-large': list(range(6, 10)),\n",
    "        'large': list(range(8, 12)),\n",
    "        'large-big': list(range(10, 14)),\n",
    "        'big': list(range(12, 100)),\n",
    "    }\n",
    "\n",
    "    bins = defaultdict(lambda: 'na', bins)\n",
    "\n",
    "    ocr_len = len([x for x in ocr_pred[0]])\n",
    "    pred_bins = [k for k, v in bins.items() if ocr_len in v]\n",
    "    # ----------------------------------\n",
    "\n",
    "    features = {}\n",
    "    bad_list = ['<PAD>', '<BOS>', '<EOS>', '<UNK>'] # ADD foul words\n",
    "    matches_non_ordered = {}\n",
    "\n",
    "    ocr_pred_lower = ocr_pred[0].lower()\n",
    "\n",
    "    for lm_pred in lm_preds:\n",
    "        score, word = lm_pred[0], lm_pred[1].rstrip()\n",
    "        word = word.lower()\n",
    "        # remove pad, bos, etc...\n",
    "        if word not in bad_list:\n",
    "\n",
    "            features[word] = {}\n",
    "            features[word]['score'] = score\n",
    "            # match first and last character \n",
    "            first_char_match = word[0] == ocr_pred_lower[0]\n",
    "            last_char_match = word[-1] == ocr_pred_lower[-1]\n",
    "            features[word]['first_char_match'] = first_char_match\n",
    "            features[word]['last_char_match'] = last_char_match\n",
    "\n",
    "            num_chars = 0\n",
    "            for char in ocr_pred_lower:\n",
    "                if char in word:\n",
    "                    num_chars += 1\n",
    "                matches[word] = num_chars\n",
    "            features[word]['num_matches'] = matches[word]  \n",
    "            \n",
    "    return features\n",
    "\n",
    "\n",
    "def final_scores(features):\n",
    "    final_scores = {}\n",
    "\n",
    "    for word, feature_dict in features.items():\n",
    "        final_score = 1\n",
    "        first_char_match = feature_dict['first_char_match']\n",
    "        last_char_match = feature_dict['last_char_match']\n",
    "        score = feature_dict['score']\n",
    "        if first_char_match:\n",
    "            final_score += 10\n",
    "        if last_char_match:\n",
    "            final_score += 10\n",
    "        final_score *= score\n",
    "        final_scores[word] = final_score\n",
    "    top_results = sorted(final_scores.items(), key=itemgetter(1), reverse=True)\n",
    "    return top_results[0][0]"
   ]
  },
  {
   "cell_type": "code",
   "execution_count": 124,
   "metadata": {},
   "outputs": [
    {
     "data": {
      "text/plain": [
       "'into'"
      ]
     },
     "execution_count": 124,
     "metadata": {},
     "output_type": "execute_result"
    }
   ],
   "source": [
    "lm_preds, ocr_pred = inference.predict(sentence, img_path)\n",
    "\n",
    "features = create_features(lm_preds, ocr_pred)\n",
    "final_scores(features)"
   ]
  },
  {
   "cell_type": "code",
   "execution_count": 4,
   "metadata": {},
   "outputs": [
    {
     "data": {
      "image/png": "[encoded data removed]",
      "text/plain": [
       "<PIL.PngImagePlugin.PngImageFile image mode=L size=134x70 at 0x7FB5F42499E8>"
      ]
     },
     "execution_count": 4,
     "metadata": {},
     "output_type": "execute_result"
    }
   ],
   "source": [
    "from PIL import Image\n",
    "img_path = '../../data/raw/word_level/c03/c03-096f/c03-096f-07-05.png'\n",
    "Image.open(img_path)"
   ]
  },
  {
   "cell_type": "code",
   "execution_count": null,
   "metadata": {},
   "outputs": [],
   "source": []
  },
  {
   "cell_type": "code",
   "execution_count": null,
   "metadata": {},
   "outputs": [],
   "source": []
  },
  {
   "cell_type": "code",
   "execution_count": null,
   "metadata": {},
   "outputs": [],
   "source": []
  },
  {
   "cell_type": "code",
   "execution_count": 1,
   "metadata": {},
   "outputs": [
    {
     "name": "stderr",
     "output_type": "stream",
     "text": [
      "/home/matt/anaconda3/lib/python3.6/site-packages/h5py/__init__.py:36: FutureWarning: Conversion of the second argument of issubdtype from `float` to `np.floating` is deprecated. In future, it will be treated as `np.float64 == np.dtype(float).type`.\n",
      "  from ._conv import register_converters as _register_converters\n"
     ]
    },
    {
     "name": "stdout",
     "output_type": "stream",
     "text": [
      "models/OCRBeamSearch/model/snapshot-38\n",
      "INFO:tensorflow:Restoring parameters from models/OCRBeamSearch/model/snapshot-38\n"
     ]
    }
   ],
   "source": [
    "from inference import Inference\n",
    "\n",
    "inference_model = Inference(img_width=128, img_height=64, device='cpu')"
   ]
  },
  {
   "cell_type": "code",
   "execution_count": 2,
   "metadata": {},
   "outputs": [
    {
     "name": "stdout",
     "output_type": "stream",
     "text": [
      "('live', (0.6397737264633179, 'slept'), ['like'], array([0.82690567], dtype=float32))\n"
     ]
    }
   ],
   "source": [
    "file_url = '../../data/raw/word_level/c03/c03-096f/c03-096f-00-07.png'\n",
    "\n",
    "file_url = '../../data/raw/word_level/c03/c03-096f/c03-096f-07-05.png'\n",
    "left_text = 'We'\n",
    "right_text = 'in the house'\n",
    "X = left_text + ' [] ' + right_text\n",
    "prediction = inference_model.predict(X, file_url, ind_preds=True, ocr_prob_threshold=0.85)\n",
    "print(prediction)"
   ]
  },
  {
   "cell_type": "code",
   "execution_count": 9,
   "metadata": {},
   "outputs": [],
   "source": [
    "Z = [(0.6397737264633179, 'slept'), (0.6323035359382629, 'dabble'), (0.559866189956665, \"'re\"), (0.5329194068908691, 'stayed'), (0.5288676023483276, 'sat'), (0.4934336543083191, 'lived'), (0.4536677598953247, 'hid'), (0.4443860352039337, 'got'), (0.43601545691490173, 'live'), (0.4348217248916626, 'buried'), (0.41707414388656616, 'rejoice'), (0.3848378360271454, 'vacationed'), (0.3815666437149048, 'congregated'), (0.3779458701610565, 'balked'), (0.35714060068130493, 'dove'), (0.35361653566360474, 'crouched'), (0.3484594523906708, 'lunched'), (0.3433127999305725, 'toiled'), (0.3385561406612396, 'huddled'), (0.3336961269378662, 'prospered'), (0.3314686715602875, 'dwelled'), (0.3291795551776886, 'were'), (0.32495132088661194, 'strolled'), (0.32009977102279663, 'resided'), (0.319406658411026, 'reside'), (0.30158546566963196, 'landed'), (0.2980598509311676, 'squatted'), (0.2967756390571594, 'partook'), (0.29490840435028076, 'kept'), (0.28834477066993713, 'labored'), (0.2835155427455902, 'belong'), (0.27830618619918823, 'sit'), (0.27349746227264404, 'rehearsed'), (0.2687121629714966, 'lie'), (0.26786699891090393, 'remained'), (0.2676231265068054, 'dined'), (0.26738911867141724, 'holidayed'), (0.266904354095459, 'waited'), (0.2668074667453766, 'appear'), (0.2650832235813141, 'exist'), (0.2648472189903259, 'arrive'), (0.26464134454727173, 'dwelt'), (0.2621450424194336, 'remain'), (0.256123423576355, 'rehearse'), (0.2519649565219879, 'are'), (0.2515889108181, 'conversed'), (0.25145041942596436, 'settled'), (0.25047653913497925, 'saw'), (0.2497512698173523, 'gathered'), (0.24547839164733887, 'lodged'), (0.24530239403247833, 'lurk'), (0.23731063306331635, 'gaped'), (0.23484927415847778, 'congregate'), (0.23070558905601501, 'tunneled'), (0.22245654463768005, 'stepped'), (0.22142094373703003, 'stay'), (0.22085174918174744, 'locked'), (0.2196076363325119, 'overindulge'), (0.2187119424343109, 'specialise'), (0.21519632637500763, 'suffocated'), (0.21490679681301117, 'kneel'), (0.21052272617816925, 'swore'), (0.20960599184036255, 'reveled'), (0.20607803761959076, 'prayed'), (0.20335553586483002, 'dabbled'), (0.20228329300880432, 'camped'), (0.19979387521743774, 'reeled'), (0.19743305444717407, 'put'), (0.1950840801000595, 'died'), (0.19413556158542633, 'invested'), (0.19234266877174377, 'sang'), (0.18997767567634583, 'walked'), (0.18307025730609894, 'swam'), (0.18282797932624817, 'worked'), (0.18175747990608215, 'ate'), (0.1817299872636795, 'appeared'), (0.17974412441253662, 'stare'), (0.17921455204486847, 'met'), (0.17631219327449799, 'boxed'), (0.17625883221626282, 'hibernated'), (0.17165663838386536, 'languish'), (0.16872477531433105, 'wallow'), (0.1677539348602295, 'dwell'), (0.16713020205497742, 'alighted'), (0.16612690687179565, 'figured'), (0.16421453654766083, 'laughed'), (0.16245490312576294, 'rejoiced'), (0.16179195046424866, 'reappear'), (0.1598750352859497, 'stood'), (0.1593179702758789, 'see'), (0.15727050602436066, 'Remain'), (0.15393124520778656, 'speak'), (0.15130959451198578, 'marched'), (0.15105397999286652, 'stopped'), (0.15047335624694824, 'swung'), (0.14485952258110046, 'huddle'), (0.14388787746429443, 'awake'), (0.14376991987228394, 'gather'), (0.14287489652633667, 'clapped')]"
   ]
  },
  {
   "cell_type": "code",
   "execution_count": null,
   "metadata": {},
   "outputs": [],
   "source": []
  },
  {
   "cell_type": "code",
   "execution_count": null,
   "metadata": {},
   "outputs": [],
   "source": []
  },
  {
   "cell_type": "code",
   "execution_count": 3,
   "metadata": {},
   "outputs": [],
   "source": [
    "file_url = '../../data/raw/word_level/c03/c03-096f/c03-096f-07-05.png'"
   ]
  },
  {
   "cell_type": "code",
   "execution_count": 4,
   "metadata": {},
   "outputs": [
    {
     "name": "stdout",
     "output_type": "stream",
     "text": [
      "We [] in the house\n"
     ]
    },
    {
     "data": {
      "image/png": "[encoded data removed]",
      "text/plain": [
       "<PIL.PngImagePlugin.PngImageFile image mode=L size=134x70 at 0x7EFD11357978>"
      ]
     },
     "execution_count": 4,
     "metadata": {},
     "output_type": "execute_result"
    }
   ],
   "source": [
    " X = 'We' + ' [] ' + 'in the house'\n",
    "print(X)\n",
    "from PIL import Image\n",
    "Image.open(file_url)"
   ]
  },
  {
   "cell_type": "code",
   "execution_count": 5,
   "metadata": {},
   "outputs": [
    {
     "name": "stdout",
     "output_type": "stream",
     "text": [
      "OCR prediction is \"like\" with probability of 83.0%\n"
     ]
    }
   ],
   "source": [
    "ocr_pred, ocr_prob = inference_model.run_beam_ocr_inference_by_user_image(file_url)\n",
    "print('OCR prediction is \"{}\" with probability of {}%'.format(ocr_pred[0], round(ocr_prob[0]*100)))"
   ]
  },
  {
   "cell_type": "code",
   "execution_count": 10,
   "metadata": {},
   "outputs": [
    {
     "name": "stdout",
     "output_type": "stream",
     "text": [
      "[(0.6397737264633179, 'slept'), (0.6323035359382629, 'dabble'), (0.559866189956665, \"'re\"), (0.5329194068908691, 'stayed'), (0.5288676023483276, 'sat'), (0.4934336543083191, 'lived'), (0.4536677598953247, 'hid'), (0.4443860352039337, 'got'), (0.43601545691490173, 'live')]\n",
      "Top 10 LM predictions: ['slept', 'dabble', \"'re\", 'stayed', 'sat', 'lived', 'hid', 'got', 'live']\n"
     ]
    }
   ],
   "source": [
    "lm_preds = inference_model.run_lm_inference_by_user_input(X, topK=10)\n",
    "print(lm_preds)\n",
    "print('Top 10 LM predictions: {}'.format([w for _, w in lm_preds]))"
   ]
  },
  {
   "cell_type": "code",
   "execution_count": 9,
   "metadata": {},
   "outputs": [
    {
     "data": {
      "text/plain": [
       "[('live', 4.053264933659698),\n",
       " ('lived', 3.0220344079222583),\n",
       " ('dabble', 2.4400122671680546),\n",
       " (\"'re\", 2.3418169876984027),\n",
       " ('slept', 2.1773005375385295),\n",
       " ('hid', 1.8956185576370623),\n",
       " ('stayed', 1.815633970481934),\n",
       " ('sat', 1.649077876730878),\n",
       " ('got', 1.564596309586484)]"
      ]
     },
     "execution_count": 9,
     "metadata": {},
     "output_type": "execute_result"
    }
   ],
   "source": [
    "features = inference_model.create_features_improved(lm_preds, ocr_pred, ocr_prob)\n",
    "inference_model.final_scores(features, ocr_pred, ocr_prob_threshold=0.8, return_topK=10)"
   ]
  },
  {
   "cell_type": "code",
   "execution_count": 8,
   "metadata": {},
   "outputs": [
    {
     "data": {
      "text/plain": [
       "[('live', 4.8623097696683555),\n",
       " ('lived', 3.448472232239753),\n",
       " ('dabble', 3.00382016921238),\n",
       " (\"'re\", 2.888073804708552),\n",
       " ('slept', 2.5013190095196265),\n",
       " ('hid', 2.161875374647212),\n",
       " ('stayed', 1.9861207593784505),\n",
       " ('sat', 1.7082426527844938),\n",
       " ('got', 1.6237610856401)]"
      ]
     },
     "execution_count": 8,
     "metadata": {},
     "output_type": "execute_result"
    }
   ],
   "source": [
    "features = inference_model.create_features_improved(lm_preds, ocr_pred, ocr_prob)\n",
    "inference_model.final_scores(features, ocr_pred, ocr_prob_threshold=0.85, return_topK=10)"
   ]
  },
  {
   "cell_type": "code",
   "execution_count": null,
   "metadata": {},
   "outputs": [],
   "source": []
  },
  {
   "cell_type": "code",
   "execution_count": 19,
   "metadata": {},
   "outputs": [
    {
     "data": {
      "text/plain": [
       "[('live', 2.673293292529275),\n",
       " ('lie', 2.3923764273104235),\n",
       " ('lived', 2.2756261636663577),\n",
       " ('lurk', 2.08051279040776),\n",
       " ('locked', 1.9274139822916463),\n",
       " ('lunched', 1.8856334088129076),\n",
       " ('landed', 1.8714337629911693),\n",
       " ('dabble', 1.8587313879662044),\n",
       " ('labored', 1.825518727092174),\n",
       " ('lodged', 1.8153266889688762)]"
      ]
     },
     "execution_count": 19,
     "metadata": {},
     "output_type": "execute_result"
    }
   ],
   "source": [
    "from operator import itemgetter\n",
    "\n",
    "features = inference_model.create_features_improved(Z, ['like'], [0.7777384])\n",
    "inference_model.final_scores(features, ['like'], 0.8)\n",
    "weights = inference_model.get_weights()\n",
    "    \n",
    "final_scores = {}\n",
    "for word, dic in features.items():\n",
    "    for feature in weights.keys():\n",
    "        features[word].update({feature: (features[word][feature] * weights[feature])})\n",
    "    final_scores[word] = sum(features[word].values())\n",
    "    \n",
    "    \n",
    "top_results = sorted(final_scores.items(), key=itemgetter(1), reverse=True)\n",
    "top_results[:10]"
   ]
  },
  {
   "cell_type": "code",
   "execution_count": null,
   "metadata": {},
   "outputs": [],
   "source": []
  },
  {
   "cell_type": "code",
   "execution_count": 10,
   "metadata": {},
   "outputs": [
    {
     "name": "stdout",
     "output_type": "stream",
     "text": [
      "slept\n",
      "dabble\n",
      "'re\n",
      "stayed\n",
      "sat\n",
      "lived\n",
      "hid\n",
      "got\n",
      "live\n",
      "buried\n",
      "rejoice\n",
      "vacationed\n",
      "congregated\n",
      "balked\n",
      "dove\n",
      "crouched\n",
      "lunched\n",
      "toiled\n",
      "huddled\n",
      "prospered\n",
      "dwelled\n",
      "were\n",
      "strolled\n",
      "resided\n",
      "reside\n",
      "landed\n",
      "squatted\n",
      "partook\n",
      "kept\n",
      "labored\n",
      "belong\n",
      "sit\n",
      "rehearsed\n",
      "lie\n",
      "remained\n",
      "dined\n",
      "holidayed\n",
      "waited\n",
      "appear\n",
      "exist\n",
      "arrive\n",
      "dwelt\n",
      "remain\n",
      "rehearse\n",
      "are\n",
      "conversed\n",
      "settled\n",
      "saw\n",
      "gathered\n",
      "lodged\n",
      "lurk\n",
      "gaped\n",
      "congregate\n",
      "tunneled\n",
      "stepped\n",
      "stay\n",
      "locked\n",
      "overindulge\n",
      "specialise\n",
      "suffocated\n",
      "kneel\n",
      "swore\n",
      "reveled\n",
      "prayed\n",
      "dabbled\n",
      "camped\n",
      "reeled\n",
      "put\n",
      "died\n",
      "invested\n",
      "sang\n",
      "walked\n",
      "swam\n",
      "worked\n",
      "ate\n",
      "appeared\n",
      "stare\n",
      "met\n",
      "boxed\n",
      "hibernated\n",
      "languish\n",
      "wallow\n",
      "dwell\n",
      "alighted\n",
      "figured\n",
      "laughed\n",
      "rejoiced\n",
      "reappear\n",
      "stood\n",
      "see\n",
      "Remain\n",
      "speak\n",
      "marched\n",
      "stopped\n",
      "swung\n",
      "huddle\n",
      "awake\n",
      "gather\n",
      "clapped\n"
     ]
    }
   ],
   "source": [
    "for prob, word in Z:\n",
    "    print(word)"
   ]
  },
  {
   "cell_type": "code",
   "execution_count": 7,
   "metadata": {},
   "outputs": [],
   "source": [
    "the_string = '' + ' [] '  +  ''\n",
    "# the_string = "
   ]
  },
  {
   "cell_type": "code",
   "execution_count": 8,
   "metadata": {},
   "outputs": [],
   "source": [
    "import re\n",
    "if re.search('[a-zA-Z]', the_string) is not None:\n",
    "    print(True)"
   ]
  },
  {
   "cell_type": "code",
   "execution_count": 24,
   "metadata": {},
   "outputs": [
    {
     "name": "stdout",
     "output_type": "stream",
     "text": [
      "True\n"
     ]
    }
   ],
   "source": [
    "if not os.path.isfile('.'):\n",
    "    print(True)"
   ]
  },
  {
   "cell_type": "code",
   "execution_count": null,
   "metadata": {},
   "outputs": [],
   "source": [
    "[(1.224109172821045, '<UNK>'), (0.4631592333316803, 'mutual'), (0.45344918966293335, 'filial'), (0.4316594898700714, 'chronological'), (0.43153640627861023, 'direct'), (0.425195574760437, 'regal'), (0.41831493377685547, 'slavish'), (0.41372278332710266, 'relative'), (0.38065898418426514, 'divine'), (0.37932538986206055, 'comparative')]"
   ]
  }
 ],
 "metadata": {
  "kernelspec": {
   "display_name": "Python 3",
   "language": "python",
   "name": "python3"
  },
  "language_info": {
   "codemirror_mode": {
    "name": "ipython",
    "version": 3
   },
   "file_extension": ".py",
   "mimetype": "text/x-python",
   "name": "python",
   "nbconvert_exporter": "python",
   "pygments_lexer": "ipython3",
   "version": "3.6.4"
  }
 },
 "nbformat": 4,
 "nbformat_minor": 2
}
