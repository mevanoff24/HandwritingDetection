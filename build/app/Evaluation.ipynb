{
 "cells": [
  {
   "cell_type": "code",
   "execution_count": 1,
   "metadata": {},
   "outputs": [
    {
     "name": "stderr",
     "output_type": "stream",
     "text": [
      "/Users/mattevanoff/anaconda3/lib/python3.6/importlib/_bootstrap.py:219: RuntimeWarning: numpy.dtype size changed, may indicate binary incompatibility. Expected 96, got 88\n",
      "  return f(*args, **kwds)\n",
      "/Users/mattevanoff/anaconda3/lib/python3.6/importlib/_bootstrap.py:219: RuntimeWarning: numpy.dtype size changed, may indicate binary incompatibility. Expected 96, got 88\n",
      "  return f(*args, **kwds)\n",
      "/Users/mattevanoff/anaconda3/lib/python3.6/importlib/_bootstrap.py:219: RuntimeWarning: numpy.dtype size changed, may indicate binary incompatibility. Expected 96, got 88\n",
      "  return f(*args, **kwds)\n",
      "/Users/mattevanoff/anaconda3/lib/python3.6/site-packages/h5py/__init__.py:34: FutureWarning: Conversion of the second argument of issubdtype from `float` to `np.floating` is deprecated. In future, it will be treated as `np.float64 == np.dtype(float).type`.\n",
      "  from ._conv import register_converters as _register_converters\n"
     ]
    }
   ],
   "source": [
    "import numpy as np\n",
    "import pandas as pd\n",
    "import re\n",
    "from tqdm import tqdm\n",
    "\n",
    "from PIL import Image\n",
    "from inference import Inference\n",
    "from nltk.stem import PorterStemmer"
   ]
  },
  {
   "cell_type": "code",
   "execution_count": 2,
   "metadata": {},
   "outputs": [],
   "source": [
    "data_path = '../../data/processed/'"
   ]
  },
  {
   "cell_type": "code",
   "execution_count": 30,
   "metadata": {},
   "outputs": [
    {
     "name": "stdout",
     "output_type": "stream",
     "text": [
      "example.txt           meta_json.csv         word_level_test.csv\r\n",
      "meta.csv              meta_json.json        word_level_train.csv\r\n",
      "meta.json             word_level_meta.csv\r\n"
     ]
    }
   ],
   "source": [
    "ls ../../data/preprocessed/"
   ]
  },
  {
   "cell_type": "code",
   "execution_count": 3,
   "metadata": {},
   "outputs": [],
   "source": [
    "X_train = np.load(data_path + 'X_wikitext-2-train.npy')\n",
    "X_test = np.load(data_path + 'X_wikitext-2-test.npy')\n",
    "\n",
    "y_train = np.load(data_path + 'y_wikitext-2-train.npy')\n",
    "y_test = np.load(data_path + 'y_wikitext-2-test.npy')"
   ]
  },
  {
   "cell_type": "code",
   "execution_count": 31,
   "metadata": {},
   "outputs": [],
   "source": [
    "# import dill as pickle\n",
    "# def unpickle(filename):\n",
    "#     \"\"\"Unpickle file\"\"\"\n",
    "#     with open(filename, 'rb') as f:\n",
    "#         return pickle.load(f)\n",
    "# word_path_mapping = unpickle(data_path + 'word_path_mapping.pkl')\n",
    "# word_path_mapping"
   ]
  },
  {
   "cell_type": "code",
   "execution_count": 4,
   "metadata": {},
   "outputs": [
    {
     "data": {
      "text/html": [
       "<div>\n",
       "<style scoped>\n",
       "    .dataframe tbody tr th:only-of-type {\n",
       "        vertical-align: middle;\n",
       "    }\n",
       "\n",
       "    .dataframe tbody tr th {\n",
       "        vertical-align: top;\n",
       "    }\n",
       "\n",
       "    .dataframe thead th {\n",
       "        text-align: right;\n",
       "    }\n",
       "</style>\n",
       "<table border=\"1\" class=\"dataframe\">\n",
       "  <thead>\n",
       "    <tr style=\"text-align: right;\">\n",
       "      <th></th>\n",
       "      <th>index</th>\n",
       "      <th>filename</th>\n",
       "      <th>folder</th>\n",
       "      <th>document</th>\n",
       "      <th>token</th>\n",
       "      <th>image_name</th>\n",
       "      <th>pos_tag</th>\n",
       "      <th>image_path</th>\n",
       "    </tr>\n",
       "  </thead>\n",
       "  <tbody>\n",
       "    <tr>\n",
       "      <th>0</th>\n",
       "      <td>1111</td>\n",
       "      <td>b01-027</td>\n",
       "      <td>b01</td>\n",
       "      <td>b01-027</td>\n",
       "      <td>of</td>\n",
       "      <td>b01-027-00-05</td>\n",
       "      <td>INO</td>\n",
       "      <td>../../data/raw/word_level/b01/b01-027/b01-027-...</td>\n",
       "    </tr>\n",
       "    <tr>\n",
       "      <th>1</th>\n",
       "      <td>68</td>\n",
       "      <td>p03-185</td>\n",
       "      <td>p03</td>\n",
       "      <td>p03-185</td>\n",
       "      <td>.</td>\n",
       "      <td>p03-185-08-06</td>\n",
       "      <td>.</td>\n",
       "      <td>../../data/raw/word_level/p03/p03-185/p03-185-...</td>\n",
       "    </tr>\n",
       "    <tr>\n",
       "      <th>2</th>\n",
       "      <td>1043</td>\n",
       "      <td>h01-024</td>\n",
       "      <td>h01</td>\n",
       "      <td>h01-024</td>\n",
       "      <td>as</td>\n",
       "      <td>h01-024-02-01</td>\n",
       "      <td>IN</td>\n",
       "      <td>../../data/raw/word_level/h01/h01-024/h01-024-...</td>\n",
       "    </tr>\n",
       "    <tr>\n",
       "      <th>3</th>\n",
       "      <td>1162</td>\n",
       "      <td>h07-060b</td>\n",
       "      <td>h07</td>\n",
       "      <td>h07-060</td>\n",
       "      <td>the</td>\n",
       "      <td>h07-060b-03-03</td>\n",
       "      <td>ATI</td>\n",
       "      <td>../../data/raw/word_level/h07/h07-060b/h07-060...</td>\n",
       "    </tr>\n",
       "    <tr>\n",
       "      <th>4</th>\n",
       "      <td>1168</td>\n",
       "      <td>g06-050d</td>\n",
       "      <td>g06</td>\n",
       "      <td>g06-050</td>\n",
       "      <td>strong</td>\n",
       "      <td>g06-050d-04-02</td>\n",
       "      <td>JJ</td>\n",
       "      <td>../../data/raw/word_level/g06/g06-050d/g06-050...</td>\n",
       "    </tr>\n",
       "  </tbody>\n",
       "</table>\n",
       "</div>"
      ],
      "text/plain": [
       "   index  filename folder document   token      image_name pos_tag  \\\n",
       "0   1111   b01-027    b01  b01-027      of   b01-027-00-05     INO   \n",
       "1     68   p03-185    p03  p03-185       .   p03-185-08-06       .   \n",
       "2   1043   h01-024    h01  h01-024      as   h01-024-02-01      IN   \n",
       "3   1162  h07-060b    h07  h07-060     the  h07-060b-03-03     ATI   \n",
       "4   1168  g06-050d    g06  g06-050  strong  g06-050d-04-02      JJ   \n",
       "\n",
       "                                          image_path  \n",
       "0  ../../data/raw/word_level/b01/b01-027/b01-027-...  \n",
       "1  ../../data/raw/word_level/p03/p03-185/p03-185-...  \n",
       "2  ../../data/raw/word_level/h01/h01-024/h01-024-...  \n",
       "3  ../../data/raw/word_level/h07/h07-060b/h07-060...  \n",
       "4  ../../data/raw/word_level/g06/g06-050d/g06-050...  "
      ]
     },
     "execution_count": 4,
     "metadata": {},
     "output_type": "execute_result"
    }
   ],
   "source": [
    "word_level_df_test = pd.read_csv('../../data/preprocessed/word_level_test.csv')\n",
    "word_level_df_test.head()\n",
    "# Image.open(word_level_df_test.loc[0].image_path)\n",
    "# available_image_letters = word_level_df.token.values.tolist()"
   ]
  },
  {
   "cell_type": "code",
   "execution_count": 47,
   "metadata": {},
   "outputs": [
    {
     "data": {
      "text/plain": [
       "'../../data/raw/word_level/j06/j06-051/j06-051-10-05.png'"
      ]
     },
     "execution_count": 47,
     "metadata": {},
     "output_type": "execute_result"
    }
   ],
   "source": [
    "img_path = np.random.choice(word_level_df_test.loc[word_level_df_test.token == 'work', 'image_path'].values.tolist())"
   ]
  },
  {
   "cell_type": "code",
   "execution_count": 5,
   "metadata": {},
   "outputs": [
    {
     "name": "stdout",
     "output_type": "stream",
     "text": [
      "WARNING:tensorflow:From /Users/mattevanoff/anaconda3/lib/python3.6/site-packages/tensorflow/python/ops/init_ops.py:87: calling VarianceScaling.__init__ (from tensorflow.python.ops.init_ops) with distribution=normal is deprecated and will be removed in a future version.\n",
      "Instructions for updating:\n",
      "`normal` is a deprecated alias for `truncated_normal`\n"
     ]
    }
   ],
   "source": [
    "inference_model = Inference(img_width=128, img_height=64, device='cpu')"
   ]
  },
  {
   "cell_type": "code",
   "execution_count": 30,
   "metadata": {},
   "outputs": [
    {
     "data": {
      "text/plain": [
       "(77567, 78320)"
      ]
     },
     "execution_count": 30,
     "metadata": {},
     "output_type": "execute_result"
    }
   ],
   "source": [
    "len(X_test), len(X_train)"
   ]
  },
  {
   "cell_type": "code",
   "execution_count": 6,
   "metadata": {},
   "outputs": [
    {
     "name": "stdout",
     "output_type": "stream",
     "text": [
      "processed 0.0 %\n",
      "processed 0.01 %\n",
      "processed 0.02 %\n",
      "processed 0.03 %\n",
      "processed 0.04 %\n",
      "processed 0.05 %\n",
      "processed 0.06 %\n",
      "processed 0.07 %\n",
      "processed 0.08 %\n",
      "processed 0.09 %\n",
      "processed 0.1 %\n",
      "processed 0.11 %\n",
      "processed 0.12 %\n",
      "processed 0.13 %\n",
      "processed 0.14 %\n",
      "processed 0.15 %\n",
      "processed 0.16 %\n",
      "processed 0.17 %\n",
      "processed 0.18 %\n",
      "processed 0.19 %\n",
      "processed 0.2 %\n",
      "processed 0.21 %\n",
      "processed 0.22 %\n",
      "processed 0.23 %\n",
      "processed 0.24 %\n",
      "processed 0.25 %\n",
      "processed 0.26 %\n",
      "processed 0.27 %\n",
      "processed 0.28 %\n",
      "processed 0.29 %\n",
      "processed 0.3 %\n",
      "processed 0.31 %\n",
      "processed 0.32 %\n",
      "processed 0.33 %\n",
      "processed 0.34 %\n",
      "processed 0.35 %\n",
      "processed 0.36 %\n",
      "processed 0.37 %\n",
      "processed 0.38 %\n",
      "processed 0.39 %\n",
      "processed 0.4 %\n",
      "processed 0.41 %\n",
      "processed 0.42 %\n",
      "processed 0.43 %\n",
      "processed 0.44 %\n",
      "processed 0.45 %\n",
      "processed 0.46 %\n",
      "processed 0.47 %\n",
      "processed 0.48 %\n",
      "processed 0.49 %\n",
      "processed 0.5 %\n",
      "processed 0.51 %\n",
      "processed 0.52 %\n",
      "processed 0.53 %\n",
      "processed 0.54 %\n",
      "processed 0.55 %\n",
      "processed 0.56 %\n",
      "processed 0.57 %\n",
      "processed 0.58 %\n",
      "processed 0.59 %\n",
      "processed 0.6 %\n",
      "processed 0.61 %\n",
      "processed 0.62 %\n",
      "processed 0.63 %\n",
      "processed 0.64 %\n",
      "processed 0.65 %\n",
      "processed 0.66 %\n",
      "processed 0.67 %\n",
      "processed 0.68 %\n",
      "processed 0.69 %\n",
      "processed 0.7 %\n",
      "processed 0.71 %\n",
      "processed 0.72 %\n",
      "processed 0.73 %\n",
      "processed 0.74 %\n",
      "processed 0.75 %\n",
      "processed 0.76 %\n",
      "processed 0.77 %\n",
      "processed 0.78 %\n",
      "processed 0.79 %\n",
      "processed 0.8 %\n",
      "processed 0.81 %\n",
      "processed 0.82 %\n",
      "processed 0.83 %\n",
      "processed 0.84 %\n",
      "processed 0.85 %\n",
      "processed 0.86 %\n",
      "processed 0.87 %\n",
      "processed 0.88 %\n",
      "processed 0.89 %\n",
      "processed 0.9 %\n",
      "processed 0.91 %\n",
      "processed 0.92 %\n",
      "processed 0.93 %\n",
      "processed 0.94 %\n",
      "processed 0.95 %\n",
      "sentence should contain white space to split it into tokens\n",
      "bad line\n",
      "processed 0.96 %\n",
      "processed 0.97 %\n",
      "processed 0.98 %\n",
      "processed 0.99 %\n",
      "Raw correct 0.3185348446683459\n",
      "Stem correct 0.3212636439966415\n",
      "Time to evaluate 10000 sample: 5386.295911312103\n"
     ]
    }
   ],
   "source": [
    "\n",
    "import time\n",
    "\n",
    "subset = 10000\n",
    "\n",
    "stemmer = PorterStemmer()\n",
    "\n",
    "y_preds = []\n",
    "y_true = [y[0].lower() for y in y_test[:subset]]\n",
    "N = 0\n",
    "n_correct = 0\n",
    "n_correct_stem = 0\n",
    "bad_lines = 0\n",
    "\n",
    "\n",
    "len_test = len(X_test[:subset])\n",
    "start = time.time()\n",
    "for i, (X, y) in enumerate(zip(X_test[:subset], y_true)):\n",
    "    try:\n",
    "        X = re.sub(r'<<([^;]*)>>', '[]', ' '.join(X))\n",
    "    #     print(y)\n",
    "        img_path_df = word_level_df_test.loc[word_level_df_test.token == y, 'image_path']\n",
    "        if len(img_path_df) > 0:\n",
    "            N += 1\n",
    "            img_path = np.random.choice(img_path_df.values.tolist())\n",
    "            # still getting 'unk'\n",
    "            y_pred = inference_model.predict(X, img_path)\n",
    "            if y_pred.lower() == y:\n",
    "                n_correct += 1\n",
    "            if stemmer.stem(y_pred) == stemmer.stem(y):\n",
    "                n_correct_stem += 1\n",
    "\n",
    "        else:\n",
    "            bad_lines += 1\n",
    "        if i % 100 == 0:\n",
    "            print('processed {} %'.format(i / len_test))\n",
    "    except:\n",
    "        print('bad line')\n",
    "\n",
    "finish = time.time()\n",
    "print('Raw correct', n_correct / N)\n",
    "print('Stem correct', n_correct_stem / N)\n",
    "print('Time to evaluate {} sample: {}'.format(subset, finish - start))"
   ]
  },
  {
   "cell_type": "code",
   "execution_count": 39,
   "metadata": {},
   "outputs": [
    {
     "data": {
      "text/plain": [
       "426"
      ]
     },
     "execution_count": 39,
     "metadata": {},
     "output_type": "execute_result"
    }
   ],
   "source": [
    "# Raw correct 0.3185348446683459\n",
    "# Stem correct 0.3212636439966415"
   ]
  },
  {
   "cell_type": "code",
   "execution_count": 35,
   "metadata": {},
   "outputs": [
    {
     "data": {
      "text/plain": [
       "0.32220513946848234"
      ]
     },
     "execution_count": 35,
     "metadata": {},
     "output_type": "execute_result"
    }
   ],
   "source": [
    "n_correct_stem / N"
   ]
  },
  {
   "cell_type": "code",
   "execution_count": 26,
   "metadata": {},
   "outputs": [
    {
     "name": "stdout",
     "output_type": "stream",
     "text": [
      "The game began development in 2010 , carrying over a large portion of the [] done on Valkyria Chronicles II .\n",
      "work\n"
     ]
    }
   ],
   "source": [
    "import re \n",
    "sample = X_test[0]\n",
    "print(re.sub(r'<<([^;]*)>>', '[]', ' '.join(sample)))\n",
    "print(y_true[0])"
   ]
  },
  {
   "cell_type": "code",
   "execution_count": 19,
   "metadata": {},
   "outputs": [
    {
     "data": {
      "text/plain": [
       "'the dog ran [] the house'"
      ]
     },
     "execution_count": 19,
     "metadata": {},
     "output_type": "execute_result"
    }
   ],
   "source": [
    "left_text = 'the dog ran'\n",
    "right_text = 'the house'\n",
    "\n",
    "sentence = left_text + ' [] ' + right_text\n",
    "\n",
    "sentence"
   ]
  },
  {
   "cell_type": "code",
   "execution_count": 21,
   "metadata": {},
   "outputs": [
    {
     "data": {
      "text/plain": [
       "0"
      ]
     },
     "execution_count": 21,
     "metadata": {},
     "output_type": "execute_result"
    }
   ],
   "source": [
    "bad_lines"
   ]
  },
  {
   "cell_type": "code",
   "execution_count": null,
   "metadata": {},
   "outputs": [],
   "source": [
    "import numpy as np\n",
    "import pandas as pd\n",
    "import re\n",
    "import time\n",
    "from inference import Inference\n",
    "from nltk.stem import PorterStemmer\n",
    "\n",
    "\n",
    "data_path = '../../data/processed/'\n",
    "\n",
    "X_train = np.load(data_path + 'X_wikitext-2-train.npy')\n",
    "X_test = np.load(data_path + 'X_wikitext-2-test.npy')\n",
    "\n",
    "y_train = np.load(data_path + 'y_wikitext-2-train.npy')\n",
    "y_test = np.load(data_path + 'y_wikitext-2-test.npy')\n",
    "\n",
    "word_level_df_test = pd.read_csv('../../data/preprocessed/word_level_test.csv')\n",
    "\n",
    "# init class \n",
    "inference_model = Inference(img_width=128, img_height=64, device='cpu')\n",
    "\n",
    "\n",
    "stemmer = PorterStemmer()\n",
    "\n",
    "def evaluate_model(X_test, y_test, word_level_df_test, subset=None)\n",
    "    \n",
    "\n",
    "    y_preds = []\n",
    "    y_true = [y[0].lower() for y in y_test[:subset]]\n",
    "    N = 0\n",
    "    n_correct = 0\n",
    "    n_correct_stem = 0\n",
    "    bad_lines = 0\n",
    "\n",
    "\n",
    "    len_test = len(X_test[:subset])\n",
    "    start = time.time()\n",
    "    for i, (X, y) in enumerate(zip(X_test[:subset], y_true)):\n",
    "        try:\n",
    "            X = re.sub(r'<<([^;]*)>>', '[]', ' '.join(X))\n",
    "        #     print(y)\n",
    "            img_path_df = word_level_df_test.loc[word_level_df_test.token == y, 'image_path']\n",
    "            if len(img_path_df) > 0:\n",
    "                N += 1\n",
    "                img_path = np.random.choice(img_path_df.values.tolist())\n",
    "                # still getting 'unk'\n",
    "                y_pred = inference_model.predict(X, img_path)\n",
    "                if y_pred.lower() == y:\n",
    "                    n_correct += 1\n",
    "                if stemmer.stem(y_pred) == stemmer.stem(y):\n",
    "                    n_correct_stem += 1\n",
    "\n",
    "            else:\n",
    "                bad_lines += 1\n",
    "            if i % 100 == 0:\n",
    "                print('processed {} %'.format((i / len_test)*100.0))\n",
    "        except:\n",
    "            print('bad line')\n",
    "\n",
    "    finish = time.time()\n",
    "    raw_correct = n_correct / N\n",
    "    stem_correct = n_correct_stem / N\n",
    "    \n",
    "    print('Raw correct', raw_correct)\n",
    "    print('Stem correct', stem_correct)\n",
    "    print('Time to evaluate {} sample: {}'.format(subset, finish - start))\n",
    "    \n",
    "    return raw_correct, stem_correct\n",
    "\n",
    "\n",
    "if __name__ == '__main__':\n",
    "    data_path = '../../data/processed/'\n",
    "#     X_train = np.load(data_path + 'X_wikitext-2-train.npy')\n",
    "    X_test = np.load(data_path + 'X_wikitext-2-test.npy')\n",
    "#     y_train = np.load(data_path + 'y_wikitext-2-train.npy')\n",
    "    y_test = np.load(data_path + 'y_wikitext-2-test.npy')\n",
    "    word_level_df_test = pd.read_csv('../../data/preprocessed/word_level_test.csv')\n",
    "\n",
    "    # init class \n",
    "    inference_model = Inference(img_width=128, img_height=64, device='cpu')\n",
    "    # evaluate model \n",
    "#     raw_correct, stem_correct = evaluate_model(X_test, y_test, word_level_df_test, subset=1000)"
   ]
  },
  {
   "cell_type": "code",
   "execution_count": null,
   "metadata": {},
   "outputs": [],
   "source": []
  },
  {
   "cell_type": "code",
   "execution_count": null,
   "metadata": {},
   "outputs": [],
   "source": []
  },
  {
   "cell_type": "code",
   "execution_count": null,
   "metadata": {},
   "outputs": [],
   "source": []
  },
  {
   "cell_type": "code",
   "execution_count": 11,
   "metadata": {},
   "outputs": [],
   "source": [
    "import pandas as pd\n",
    "\n",
    "word_level_meta = pd.read_csv('../../data/preprocessed/word_level_meta.csv')\n",
    "all_tokens = list(set(word_level_meta.token.values))\n",
    "all_tokens = [token.lower() for token in all_tokens]"
   ]
  },
  {
   "cell_type": "code",
   "execution_count": 4,
   "metadata": {},
   "outputs": [],
   "source": [
    "import numpy as np\n",
    "\n",
    "embeddings = {}\n",
    "\n",
    "with open('glove.6B.100d.txt') as f:\n",
    "    for line in f:\n",
    "        line = line.split()\n",
    "        word, vector = line[0], line[1:]\n",
    "        embeddings[word] = np.asarray(vector, np.float32)"
   ]
  },
  {
   "cell_type": "code",
   "execution_count": 14,
   "metadata": {},
   "outputs": [],
   "source": [
    "embedding_dim = 100\n",
    "\n",
    "word_vectors = np.zeros((len(all_tokens), embedding_dim))\n",
    "\n",
    "for i, word in enumerate(all_tokens):\n",
    "    vector = embeddings.get(word)\n",
    "    if vector is not None:\n",
    "        word_vectors[i, :] = vector"
   ]
  },
  {
   "cell_type": "code",
   "execution_count": null,
   "metadata": {},
   "outputs": [],
   "source": [
    "def create_embeddings(file_path='glove.6B.100d.txt'):\n",
    "    embeddings = {}\n",
    "\n",
    "    with open(file_path) as f:\n",
    "        for line in f:\n",
    "            line = line.split()\n",
    "            word, vector = line[0], line[1:]\n",
    "            embeddings[word] = np.asarray(vector, np.float32)\n",
    "    return embeddings\n",
    "\n",
    "embeddings = create_embeddings()"
   ]
  },
  {
   "cell_type": "code",
   "execution_count": 42,
   "metadata": {},
   "outputs": [
    {
     "name": "stdout",
     "output_type": "stream",
     "text": [
      "[5.901278]\n"
     ]
    }
   ],
   "source": [
    "from sklearn.metrics import pairwise_distances\n",
    "from nltk.tokenize import word_tokenize\n",
    "from nltk.stem import PorterStemmer, WordNetLemmatizer, SnowballStemmer\n",
    "\n",
    "lemma = WordNetLemmatizer()\n",
    "print(pairwise_distances([embeddings['dog']], [embeddings['broom']])[0])\n",
    "\n",
    "# print(lemma.lemmatize('cat')\n",
    "# print(pairwise_distances([embeddings['cat']], [embeddings['kitten']])[0])\n",
    "\n",
    "converge_counter = 0\n",
    "try:\n",
    "    print(pairwise_distances([embeddings['fjhfhs']], [embeddings['zebra']])[0])\n",
    "    converge_counter += 1\n",
    "except:\n",
    "    pass"
   ]
  },
  {
   "cell_type": "code",
   "execution_count": null,
   "metadata": {},
   "outputs": [],
   "source": [
    "import nltk\n",
    "nltk.download('wordnet')"
   ]
  },
  {
   "cell_type": "code",
   "execution_count": 3,
   "metadata": {},
   "outputs": [
    {
     "name": "stdout",
     "output_type": "stream",
     "text": [
      "processed 0.0 %\n",
      "processed 1.0 %\n",
      "processed 2.0 %\n",
      "processed 3.0 %\n",
      "processed 4.0 %\n",
      "processed 5.0 %\n",
      "processed 6.0 %\n",
      "processed 7.000000000000001 %\n",
      "processed 8.0 %\n",
      "processed 9.0 %\n",
      "processed 10.0 %\n",
      "processed 11.0 %\n",
      "processed 12.0 %\n",
      "processed 13.0 %\n",
      "processed 14.000000000000002 %\n",
      "processed 15.0 %\n",
      "processed 16.0 %\n",
      "processed 17.0 %\n",
      "processed 18.0 %\n",
      "processed 19.0 %\n",
      "processed 20.0 %\n",
      "processed 21.0 %\n",
      "processed 22.0 %\n",
      "processed 23.0 %\n",
      "processed 24.0 %\n",
      "processed 25.0 %\n",
      "processed 26.0 %\n",
      "processed 27.0 %\n",
      "processed 28.000000000000004 %\n",
      "processed 28.999999999999996 %\n",
      "processed 30.0 %\n",
      "processed 31.0 %\n",
      "processed 32.0 %\n",
      "processed 33.0 %\n",
      "processed 34.0 %\n",
      "processed 35.0 %\n",
      "processed 36.0 %\n",
      "processed 37.0 %\n",
      "processed 38.0 %\n",
      "processed 39.0 %\n",
      "processed 40.0 %\n",
      "processed 41.0 %\n",
      "processed 42.0 %\n",
      "processed 43.0 %\n",
      "processed 44.0 %\n",
      "processed 45.0 %\n",
      "processed 46.0 %\n",
      "processed 47.0 %\n",
      "processed 48.0 %\n",
      "processed 49.0 %\n",
      "processed 50.0 %\n",
      "processed 51.0 %\n",
      "processed 52.0 %\n",
      "processed 53.0 %\n",
      "processed 54.0 %\n",
      "processed 55.00000000000001 %\n",
      "processed 56.00000000000001 %\n",
      "processed 56.99999999999999 %\n",
      "processed 57.99999999999999 %\n",
      "processed 59.0 %\n",
      "processed 60.0 %\n",
      "processed 61.0 %\n",
      "processed 62.0 %\n",
      "processed 63.0 %\n",
      "processed 64.0 %\n",
      "processed 65.0 %\n",
      "processed 66.0 %\n",
      "processed 67.0 %\n",
      "processed 68.0 %\n",
      "processed 69.0 %\n",
      "processed 70.0 %\n",
      "processed 71.0 %\n",
      "processed 72.0 %\n",
      "processed 73.0 %\n",
      "processed 74.0 %\n",
      "processed 75.0 %\n",
      "processed 76.0 %\n",
      "processed 77.0 %\n",
      "processed 78.0 %\n",
      "processed 79.0 %\n",
      "processed 80.0 %\n",
      "processed 81.0 %\n",
      "processed 82.0 %\n",
      "processed 83.0 %\n",
      "processed 84.0 %\n",
      "processed 85.0 %\n",
      "processed 86.0 %\n",
      "processed 87.0 %\n",
      "processed 88.0 %\n",
      "processed 89.0 %\n",
      "processed 90.0 %\n",
      "processed 91.0 %\n",
      "processed 92.0 %\n",
      "processed 93.0 %\n",
      "processed 94.0 %\n",
      "processed 95.0 %\n",
      "processed 96.0 %\n",
      "sentence should contain white space to split it into tokens\n",
      "bad line\n",
      "processed 97.0 %\n",
      "processed 98.0 %\n",
      "processed 99.0 %\n",
      "Raw correct 0.33154807447079826\n",
      "Stem correct 0.33371588880387654\n",
      "Average Cosine Similarity 4.615960960364842. Coverage: 0.0\n",
      "Time to evaluate 10000 sample: 1008.9775323867798\n",
      "Number of bad lines 2158\n"
     ]
    }
   ],
   "source": [
    "import numpy as np\n",
    "import pandas as pd\n",
    "import re\n",
    "import time\n",
    "from inference import Inference\n",
    "from nltk.stem import PorterStemmer, WordNetLemmatizer\n",
    "from sklearn.metrics import pairwise_distances\n",
    "\n",
    "\n",
    "def create_embeddings(file_path='glove.6B.100d.txt'):\n",
    "    embeddings = {}\n",
    "\n",
    "    with open(file_path) as f:\n",
    "        for line in f:\n",
    "            line = line.split()\n",
    "            word, vector = line[0], line[1:]\n",
    "            embeddings[word] = np.asarray(vector, np.float32)\n",
    "    return embeddings\n",
    "\n",
    "\n",
    "\n",
    "def evaluate_model(X_test, y_test, word_level_df_test, subset=None, embedding_file='glove.6B.100d.txt'):\n",
    "    \n",
    "    \n",
    "    embeddings = create_embeddings(embedding_file)\n",
    "    stemmer = PorterStemmer()\n",
    "    lemma = WordNetLemmatizer()\n",
    "    \n",
    "    y_preds = []\n",
    "    y_true = [y[0].lower() for y in y_test[:subset]]\n",
    "    N = 0\n",
    "    n_correct = 0\n",
    "    n_correct_stem = 0\n",
    "    total_similarity = 0\n",
    "    bad_lines = 0\n",
    "\n",
    "    \n",
    "    len_test = len(X_test[:subset])\n",
    "    start = time.time()\n",
    "    for i, (X, y) in enumerate(zip(X_test[:subset], y_true)):\n",
    "        try:\n",
    "            X = re.sub(r'<<([^;]*)>>', '[]', ' '.join(X))\n",
    "        #     print(y)\n",
    "            img_path_df = word_level_df_test.loc[word_level_df_test.token == y, 'image_path']\n",
    "            if len(img_path_df) > 0:\n",
    "                N += 1\n",
    "                img_path = np.random.choice(img_path_df.values.tolist())\n",
    "                # still getting 'unk'\n",
    "                y_pred = inference_model.predict(X, img_path)\n",
    "                # exact match accuracy\n",
    "                if y_pred.lower() == y:\n",
    "                    n_correct += 1\n",
    "                # stemmed accuracy \n",
    "                if stemmer.stem(y_pred) == stemmer.stem(y):\n",
    "                    n_correct_stem += 1\n",
    "                converge_counter = 0\n",
    "                try:\n",
    "                    lemma_pred = lemma.lemmatize(y_pred)\n",
    "                    lemma_true = lemma.lemmatize(y)\n",
    "                    similarity = pairwise_distances([embeddings[lemma_pred]], [embeddings[lemma_true]])[0][0]\n",
    "                    total_similarity += similarity\n",
    "                    converge_counter += 1\n",
    "                except:\n",
    "                    # add a score of 10 if obsure word is present\n",
    "                    total_similarity += 10\n",
    "                \n",
    "            else:\n",
    "                bad_lines += 1\n",
    "            if i % 100 == 0:\n",
    "                print('processed {} %'.format((i / len_test)*100.0))\n",
    "        except:\n",
    "            print('bad line')\n",
    "\n",
    "    finish = time.time()\n",
    "    raw_correct = n_correct / N\n",
    "    stem_correct = n_correct_stem / N\n",
    "    average_total_similarity = total_similarity / N\n",
    "    \n",
    "    \n",
    "    print('Raw correct', raw_correct)\n",
    "    print('Stem correct', stem_correct)\n",
    "    print('Average Cosine Similarity {}. Coverage: {}'.format(average_total_similarity, round(converge_counter / N, 3)))\n",
    "    \n",
    "    print('Time to evaluate {} sample: {}'.format(subset, finish - start))\n",
    "    print('Number of bad lines', bad_lines)\n",
    "    \n",
    "    return raw_correct, stem_correct, average_total_similarity\n",
    "\n",
    "\n",
    "if __name__ == '__main__':\n",
    "\n",
    "    data_path = '../../data/processed/'\n",
    "#     X_train = np.load(data_path + 'X_wikitext-2-train.npy')\n",
    "    X_test = np.load(data_path + 'X_wikitext-2-test.npy')\n",
    "#     y_train = np.load(data_path + 'y_wikitext-2-train.npy')\n",
    "    y_test = np.load(data_path + 'y_wikitext-2-test.npy')\n",
    "    word_level_df_test = pd.read_csv('../../data/preprocessed/word_level_test.csv')\n",
    "\n",
    "    # init class \n",
    "    inference_model = Inference(img_width=128, img_height=64, device='cpu')\n",
    "    # evaluate model \n",
    "    raw_correct, stem_correct, average_total_similarity = evaluate_model(X_test, y_test, word_level_df_test, subset=10000)\n",
    "    inference_model.sess.close()"
   ]
  },
  {
   "cell_type": "code",
   "execution_count": 2,
   "metadata": {},
   "outputs": [
    {
     "data": {
      "text/plain": [
       "78371"
      ]
     },
     "execution_count": 2,
     "metadata": {},
     "output_type": "execute_result"
    }
   ],
   "source": [
    "len(X_test)"
   ]
  },
  {
   "cell_type": "code",
   "execution_count": 10,
   "metadata": {},
   "outputs": [
    {
     "data": {
      "text/plain": [
       "array([ 0.049432,  0.29907 ,  0.070318,  0.085277, -0.17125 ,  0.93128 ,\n",
       "       -0.67008 ,  0.54096 , -0.38016 , -0.49383 ,  0.30008 ,  0.28522 ,\n",
       "        0.7559  , -0.065383,  0.56754 , -0.83206 ,  0.1329  ,  0.11873 ,\n",
       "       -0.63604 , -0.29106 ,  1.0898  ,  0.65408 ,  0.58158 , -0.022854,\n",
       "        0.24991 , -0.551   , -0.14216 , -0.065637,  0.10867 , -0.17114 ,\n",
       "       -0.27218 , -0.20419 ,  0.9035  , -0.22882 , -0.12385 ,  0.41479 ,\n",
       "       -0.15903 ,  0.23308 , -0.08571 ,  0.063337, -0.40937 , -0.79099 ,\n",
       "       -0.28885 , -0.28497 , -0.2298  , -0.26469 , -0.009687, -0.066363,\n",
       "        0.017328, -0.61434 ,  0.10515 ,  0.23692 , -0.069444,  1.6105  ,\n",
       "       -0.61603 , -2.6838  , -0.7     , -0.31433 ,  1.5742  ,  0.81873 ,\n",
       "        0.36615 ,  2.0177  , -0.30481 ,  0.30421 ,  0.077525,  0.26503 ,\n",
       "        0.33716 , -0.12614 ,  0.672   ,  0.11275 ,  0.30333 , -0.32643 ,\n",
       "       -0.27705 , -0.28524 ,  0.10183 , -0.4819  ,  0.76543 ,  0.13401 ,\n",
       "       -0.3008  ,  0.25959 ,  0.68685 ,  0.14341 , -0.49093 , -0.029874,\n",
       "       -0.72508 ,  0.38488 ,  0.49854 , -0.28301 , -0.12738 , -0.025954,\n",
       "        0.14759 ,  0.43767 ,  0.056956, -0.37114 , -0.68358 ,  0.047255,\n",
       "       -0.43799 ,  0.21136 ,  1.4037  ,  0.54495 ], dtype=float32)"
      ]
     },
     "execution_count": 10,
     "metadata": {},
     "output_type": "execute_result"
    }
   ],
   "source": [
    "lemma = WordNetLemmatizer()\n",
    "\n",
    "embeddings[lemma.lemmatize('around')]"
   ]
  },
  {
   "cell_type": "code",
   "execution_count": null,
   "metadata": {},
   "outputs": [],
   "source": []
  },
  {
   "cell_type": "code",
   "execution_count": null,
   "metadata": {},
   "outputs": [],
   "source": []
  },
  {
   "cell_type": "code",
   "execution_count": null,
   "metadata": {},
   "outputs": [],
   "source": []
  },
  {
   "cell_type": "code",
   "execution_count": null,
   "metadata": {},
   "outputs": [],
   "source": []
  },
  {
   "cell_type": "code",
   "execution_count": null,
   "metadata": {},
   "outputs": [],
   "source": []
  }
 ],
 "metadata": {
  "kernelspec": {
   "display_name": "Python 3",
   "language": "python",
   "name": "python3"
  },
  "language_info": {
   "codemirror_mode": {
    "name": "ipython",
    "version": 3
   },
   "file_extension": ".py",
   "mimetype": "text/x-python",
   "name": "python",
   "nbconvert_exporter": "python",
   "pygments_lexer": "ipython3",
   "version": "3.6.4"
  }
 },
 "nbformat": 4,
 "nbformat_minor": 2
}
