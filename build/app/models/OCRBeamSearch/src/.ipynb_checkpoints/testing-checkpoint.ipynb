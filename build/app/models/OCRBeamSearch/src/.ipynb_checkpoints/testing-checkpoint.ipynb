{
 "cells": [
  {
   "cell_type": "code",
   "execution_count": 8,
   "metadata": {},
   "outputs": [
    {
     "name": "stdout",
     "output_type": "stream",
     "text": [
      "Python: 3.6.5 |Anaconda, Inc.| (default, Apr 29 2018, 16:14:56) \n",
      "[GCC 7.2.0]\n",
      "Tensorflow: 1.12.0\n",
      "Init with stored values from ../model/snapshot-38\n",
      "INFO:tensorflow:Restoring parameters from ../model/snapshot-38\n"
     ]
    }
   ],
   "source": [
    "import tensorflow as tf\n",
    "import cv2\n",
    "tf.reset_default_graph()\n",
    "\n",
    "from Model import Model, DecoderType\n",
    "from SamplePreprocessor import preprocess\n",
    "import sys\n",
    "import argparse\n",
    "import cv2\n",
    "import editdistance\n",
    "from DataLoader import DataLoader, Batch\n",
    "\n",
    "decoderType = 'wordbeamsearch'\n",
    "\n",
    "\n",
    "\n",
    "decoderType = DecoderType.BestPath\n",
    "if 'beamsearch':\n",
    "    decoderType = DecoderType.BeamSearch\n",
    "if 'wordbeamsearch':\n",
    "    decoderType = DecoderType.WordBeamSearch\n",
    "        \n",
    "        \n",
    "class FilePaths:\n",
    "\t\"filenames and paths to data\"\n",
    "\tfnCharList = '../model/charList.txt'\n",
    "\tfnAccuracy = '../model/accuracy.txt'\n",
    "\tfnTrain = '../data/'\n",
    "\tfnInfer = '../data/test.png'\n",
    "\tfnCorpus = '../data/corpus.txt'\n",
    "\n",
    "model = Model(open(FilePaths.fnCharList).read(), decoderType, mustRestore=True)\n",
    "\n",
    "def infer(model, fnImg):\n",
    "\t\"recognize text in image provided by file path\"\n",
    "\timg = preprocess(cv2.imread(fnImg, cv2.IMREAD_GRAYSCALE), Model.imgSize)\n",
    "\tbatch = Batch(None, [img])\n",
    "\t(recognized, probability) = model.inferBatch(batch, True)\n",
    "\tprint('Recognized:', '\"' + recognized[0] + '\"')\n",
    "\tprint('Probability:', probability[0])\n",
    "    \n",
    "    "
   ]
  },
  {
   "cell_type": "code",
   "execution_count": 2,
   "metadata": {},
   "outputs": [
    {
     "name": "stdout",
     "output_type": "stream",
     "text": [
      "analyze.py          main.py       SamplePreprocessor.py\r\n",
      "\u001b[0m\u001b[01;34mCTCWordBeamSearch\u001b[0m/  Model.py      testing.ipynb\r\n",
      "DataLoader.py       \u001b[01;34m__pycache__\u001b[0m/  TFWordBeamSearch.so\r\n"
     ]
    }
   ],
   "source": [
    "ls "
   ]
  },
  {
   "cell_type": "code",
   "execution_count": null,
   "metadata": {},
   "outputs": [],
   "source": []
  },
  {
   "cell_type": "code",
   "execution_count": null,
   "metadata": {},
   "outputs": [],
   "source": []
  },
  {
   "cell_type": "code",
   "execution_count": null,
   "metadata": {},
   "outputs": [],
   "source": []
  },
  {
   "cell_type": "code",
   "execution_count": null,
   "metadata": {},
   "outputs": [],
   "source": []
  },
  {
   "cell_type": "code",
   "execution_count": null,
   "metadata": {},
   "outputs": [],
   "source": []
  },
  {
   "cell_type": "code",
   "execution_count": null,
   "metadata": {},
   "outputs": [],
   "source": []
  },
  {
   "cell_type": "code",
   "execution_count": null,
   "metadata": {},
   "outputs": [],
   "source": []
  },
  {
   "cell_type": "code",
   "execution_count": null,
   "metadata": {},
   "outputs": [],
   "source": []
  },
  {
   "cell_type": "code",
   "execution_count": null,
   "metadata": {},
   "outputs": [],
   "source": []
  },
  {
   "cell_type": "code",
   "execution_count": null,
   "metadata": {},
   "outputs": [],
   "source": []
  },
  {
   "cell_type": "code",
   "execution_count": null,
   "metadata": {},
   "outputs": [],
   "source": []
  },
  {
   "cell_type": "code",
   "execution_count": 11,
   "metadata": {},
   "outputs": [
    {
     "name": "stdout",
     "output_type": "stream",
     "text": [
      "Parallel decoding with 4 threads\n",
      "Your TF version is 1.12.0\n"
     ]
    },
    {
     "name": "stderr",
     "output_type": "stream",
     "text": [
      "Cloning into 'CTCWordBeamSearch'...\n"
     ]
    }
   ],
   "source": [
    "%%bash\n",
    "\n",
    "git clone https://github.com/githubharald/CTCWordBeamSearch.git\n",
    "cd CTCWordBeamSearch/cpp/proj/\n",
    "\n",
    "NUMTHREADS=\"4\"\n",
    "echo \"Parallel decoding with $NUMTHREADS threads\"\n",
    "PARALLEL=\"-DWBS_PARALLEL -DWBS_THREADS=$NUMTHREADS\"\n",
    "\n",
    "# get and print TF version\n",
    "TF_VERSION=$(python3 -c \"import tensorflow as tf ;  print(tf.__version__)\")\n",
    "echo \"Your TF version is $TF_VERSION\"\n",
    "TF_CFLAGS=( $(python3 -c 'import tensorflow as tf; print(\" \".join(tf.sysconfig.get_compile_flags()))') )\n",
    "TF_LFLAGS=( $(python3 -c 'import tensorflow as tf; print(\" \".join(tf.sysconfig.get_link_flags()))') )\n",
    "\n",
    "\n",
    "g++ -Wall -O2 --std=c++11 -shared -o TFWordBeamSearch.so ../src/TFWordBeamSearch.cpp ../src/main.cpp ../src/WordBeamSearch.cpp ../src/PrefixTree.cpp ../src/Metrics.cpp ../src/MatrixCSV.cpp ../src/LanguageModel.cpp ../src/DataLoader.cpp ../src/Beam.cpp -fPIC ${TF_CFLAGS[@]} ${TF_LFLAGS[@]} $PARALLEL\n",
    "\n",
    "\n",
    "cp CTCWordBeamSearch/cpp/proj/TFWordBeamSearch.so .\n",
    "\n",
    "# need to unzip model "
   ]
  },
  {
   "cell_type": "code",
   "execution_count": 16,
   "metadata": {},
   "outputs": [],
   "source": [
    "%%bash\n",
    "cp CTCWordBeamSearch/cpp/proj/TFWordBeamSearch.so ."
   ]
  },
  {
   "cell_type": "code",
   "execution_count": 4,
   "metadata": {},
   "outputs": [
    {
     "name": "stdout",
     "output_type": "stream",
     "text": [
      "\u001b[0m\u001b[01;35manalyze.png\u001b[0m   Get IAM training data.txt  translationInvariance.npy\r\n",
      "checkDirs.py  pixelRelevance.npy         translationInvarianceTexts.pickle\r\n",
      "corpus.txt    \u001b[01;35mtest.png\u001b[0m                   words.txt\r\n"
     ]
    }
   ],
   "source": [
    "ls ../data/test.png"
   ]
  },
  {
   "cell_type": "code",
   "execution_count": 9,
   "metadata": {},
   "outputs": [
    {
     "name": "stdout",
     "output_type": "stream",
     "text": [
      "Recognized: \"little\"\n",
      "Probability: 0.96625495\n"
     ]
    }
   ],
   "source": [
    "infer(model, '../data/test.png')"
   ]
  },
  {
   "cell_type": "code",
   "execution_count": 17,
   "metadata": {},
   "outputs": [
    {
     "name": "stdout",
     "output_type": "stream",
     "text": [
      "Recognized: \"an\"\n",
      "Probability: 0.98047525\n",
      "Recognized: \"difficult\"\n",
      "Probability: 0.59630936\n",
      "Recognized: \"and\"\n",
      "Probability: 0.9646121\n",
      "Recognized: \"also\"\n",
      "Probability: 0.33708933\n",
      "Recognized: \"it\"\n",
      "Probability: 0.7752454\n",
      "Recognized: \"idea\"\n",
      "Probability: 0.09965921\n",
      "Recognized: \"such\"\n",
      "Probability: 0.56423956\n",
      "Recognized: \"the\"\n",
      "Probability: 0.785784\n",
      "Recognized: \"hug0slav\"\n",
      "Probability: 1.1656747e-06\n",
      "Recognized: \"Pity\"\n",
      "Probability: 1.8623157e-05\n",
      "Recognized: \"Casablanca\"\n",
      "Probability: 0.031954046\n",
      "Recognized: \",\"\n",
      "Probability: 0.85637933\n",
      "Recognized: \"world\"\n",
      "Probability: 0.8171616\n",
      "Recognized: \"on\"\n",
      "Probability: 0.88122934\n",
      "Recognized: \"uncommitted\"\n",
      "Probability: 0.5107472\n",
      "Recognized: \"extended\"\n",
      "Probability: 0.72222257\n",
      "Recognized: \"some\"\n",
      "Probability: 0.9320382\n",
      "Recognized: \"inter-African\"\n",
      "Probability: 0.19575293\n",
      "Recognized: \"The\"\n",
      "Probability: 0.60978365\n",
      "Recognized: \"is\"\n",
      "Probability: 0.7850034\n",
      "Recognized: \"in\"\n",
      "Probability: 0.9936187\n",
      "Recognized: \"the\"\n",
      "Probability: 0.9169054\n",
      "Recognized: \"and\"\n",
      "Probability: 0.9038398\n",
      "Recognized: \"President\"\n",
      "Probability: 0.006739544\n",
      "Recognized: \"assembly\"\n",
      "Probability: 0.493638\n",
      "Recognized: \"sphere\"\n",
      "Probability: 0.5955637\n",
      "Recognized: \"the\"\n",
      "Probability: 0.87369525\n",
      "Recognized: \"the\"\n",
      "Probability: 0.97044396\n",
      "Recognized: \"comments\"\n",
      "Probability: 0.3204955\n",
      "Recognized: \"conference\"\n",
      "Probability: 0.7805163\n",
      "Recognized: \"would\"\n",
      "Probability: 0.9627951\n",
      "Recognized: \"and\"\n",
      "Probability: 0.9872077\n",
      "Recognized: \"in\"\n",
      "Probability: 0.9862903\n",
      "Recognized: \"would\"\n",
      "Probability: 0.9136998\n",
      "Recognized: \"an\"\n",
      "Probability: 0.54037\n",
      "Recognized: \"to\"\n",
      "Probability: 0.9556778\n",
      "Recognized: \"coordinate\"\n",
      "Probability: 0.017271217\n",
      "Recognized: \"of\"\n",
      "Probability: 0.89659107\n",
      "Recognized: \"economic\"\n",
      "Probability: 0.54882854\n",
      "Recognized: \"political\"\n",
      "Probability: 0.14128248\n",
      "Recognized: \"consultative\"\n",
      "Probability: 0.07940656\n",
      "Recognized: \"which\"\n",
      "Probability: 0.9188728\n",
      "Recognized: \"apparent\"\n",
      "Probability: 0.5779772\n",
      "Recognized: \"approval\"\n",
      "Probability: 0.63699186\n",
      "Recognized: \"in\"\n",
      "Probability: 0.8736296\n",
      "Recognized: \"like\"\n",
      "Probability: 0.8622333\n",
      "Recognized: \"activity\"\n",
      "Probability: 0.010587488\n",
      "Recognized: \"particular\"\n",
      "Probability: 0.19118072\n",
      "Recognized: \"the\"\n",
      "Probability: 0.69392115\n",
      "Recognized: \"idea\"\n",
      "Probability: 0.6658818\n",
      "Recognized: \"of\"\n",
      "Probability: 0.82034296\n",
      "Recognized: \"with\"\n",
      "Probability: 0.087313406\n",
      "Recognized: \"of\"\n",
      "Probability: 0.9268344\n",
      "Recognized: \"to\"\n",
      "Probability: 0.88227016\n",
      "Recognized: \"was\"\n",
      "Probability: 0.9817161\n",
      "Recognized: \"particularly\"\n",
      "Probability: 0.00035742196\n",
      "Recognized: \"not\"\n",
      "Probability: 0.9750174\n",
      "Recognized: \"whole\"\n",
      "Probability: 0.9373485\n",
      "Recognized: \"occasion\"\n",
      "Probability: 0.05677803\n",
      "Recognized: \"that\"\n",
      "Probability: 0.864688\n",
      "Recognized: \",\"\n",
      "Probability: 0.60028577\n",
      "Recognized: \",\"\n",
      "Probability: 0.93138045\n",
      "Recognized: \"see\"\n",
      "Probability: 0.758664\n",
      "Recognized: \"on\"\n",
      "Probability: 0.92058545\n"
     ]
    }
   ],
   "source": [
    "from glob import glob\n",
    "\n",
    "for f in glob('../data/words/a03/a03-009/*'):\n",
    "\n",
    "    infer(model, f)"
   ]
  },
  {
   "cell_type": "code",
   "execution_count": 14,
   "metadata": {},
   "outputs": [
    {
     "data": {
      "image/png": "[encoded data removed]",
      "text/plain": [
       "<PIL.PngImagePlugin.PngImageFile image mode=L size=179x66 at 0x7FDE7175A828>"
      ]
     },
     "execution_count": 14,
     "metadata": {},
     "output_type": "execute_result"
    }
   ],
   "source": [
    "from PIL import Image\n",
    "\n",
    "Image.open('../data/words/a03/a03-009/a03-009-06-04.png')"
   ]
  },
  {
   "cell_type": "code",
   "execution_count": 6,
   "metadata": {},
   "outputs": [
    {
     "name": "stdout",
     "output_type": "stream",
     "text": [
      "Collecting editdistance\n",
      "\u001b[?25l  Downloading https://files.pythonhosted.org/packages/dc/34/381c67595831fc9daa30c9247cfb8116941fc7380b571a390bbff6da011e/editdistance-0.5.2-cp36-cp36m-manylinux1_x86_64.whl (173kB)\n",
      "\u001b[K    100% |████████████████████████████████| 174kB 11.2MB/s ta 0:00:01\n",
      "\u001b[?25hInstalling collected packages: editdistance\n",
      "Successfully installed editdistance-0.5.2\n",
      "\u001b[33mYou are using pip version 10.0.1, however version 19.0.1 is available.\n",
      "You should consider upgrading via the 'pip install --upgrade pip' command.\u001b[0m\n"
     ]
    }
   ],
   "source": [
    "!pip install editdistance, opencv-python tensorflow torch torchtext"
   ]
  },
  {
   "cell_type": "code",
   "execution_count": null,
   "metadata": {},
   "outputs": [],
   "source": []
  },
  {
   "cell_type": "code",
   "execution_count": null,
   "metadata": {},
   "outputs": [],
   "source": []
  },
  {
   "cell_type": "code",
   "execution_count": null,
   "metadata": {},
   "outputs": [],
   "source": []
  },
  {
   "cell_type": "code",
   "execution_count": null,
   "metadata": {},
   "outputs": [],
   "source": []
  },
  {
   "cell_type": "code",
   "execution_count": null,
   "metadata": {},
   "outputs": [],
   "source": []
  },
  {
   "cell_type": "code",
   "execution_count": 1,
   "metadata": {},
   "outputs": [],
   "source": [
    "import pandas as pd\n",
    "\n",
    "word_level_train = pd.read_csv('../../../../../data/preprocessed/word_level_train.csv')\n",
    "word_level_test = pd.read_csv('../../../../../data/preprocessed/word_level_test.csv')\n",
    "data_path = '../../../../../data/raw/word_level'"
   ]
  },
  {
   "cell_type": "code",
   "execution_count": 2,
   "metadata": {},
   "outputs": [
    {
     "data": {
      "text/html": [
       "<div>\n",
       "<style scoped>\n",
       "    .dataframe tbody tr th:only-of-type {\n",
       "        vertical-align: middle;\n",
       "    }\n",
       "\n",
       "    .dataframe tbody tr th {\n",
       "        vertical-align: top;\n",
       "    }\n",
       "\n",
       "    .dataframe thead th {\n",
       "        text-align: right;\n",
       "    }\n",
       "</style>\n",
       "<table border=\"1\" class=\"dataframe\">\n",
       "  <thead>\n",
       "    <tr style=\"text-align: right;\">\n",
       "      <th></th>\n",
       "      <th>index</th>\n",
       "      <th>filename</th>\n",
       "      <th>folder</th>\n",
       "      <th>document</th>\n",
       "      <th>token</th>\n",
       "      <th>image_name</th>\n",
       "      <th>pos_tag</th>\n",
       "      <th>image_path</th>\n",
       "    </tr>\n",
       "  </thead>\n",
       "  <tbody>\n",
       "    <tr>\n",
       "      <th>0</th>\n",
       "      <td>860</td>\n",
       "      <td>e04-011</td>\n",
       "      <td>e04</td>\n",
       "      <td>e04-011</td>\n",
       "      <td>complete</td>\n",
       "      <td>e04-011-07-06</td>\n",
       "      <td>VB</td>\n",
       "      <td>../../data/raw/word_level/e04/e04-011/e04-011-...</td>\n",
       "    </tr>\n",
       "    <tr>\n",
       "      <th>1</th>\n",
       "      <td>1070</td>\n",
       "      <td>b06-036</td>\n",
       "      <td>b06</td>\n",
       "      <td>b06-036</td>\n",
       "      <td>must</td>\n",
       "      <td>b06-036-01-02</td>\n",
       "      <td>MD</td>\n",
       "      <td>../../data/raw/word_level/b06/b06-036/b06-036-...</td>\n",
       "    </tr>\n",
       "    <tr>\n",
       "      <th>2</th>\n",
       "      <td>1158</td>\n",
       "      <td>e07-101</td>\n",
       "      <td>e07</td>\n",
       "      <td>e07-101</td>\n",
       "      <td>is</td>\n",
       "      <td>e07-101-00-06</td>\n",
       "      <td>BEZ</td>\n",
       "      <td>../../data/raw/word_level/e07/e07-101/e07-101-...</td>\n",
       "    </tr>\n",
       "    <tr>\n",
       "      <th>3</th>\n",
       "      <td>1188</td>\n",
       "      <td>h07-075</td>\n",
       "      <td>h07</td>\n",
       "      <td>h07-075</td>\n",
       "      <td>for</td>\n",
       "      <td>h07-075-06-01</td>\n",
       "      <td>IN</td>\n",
       "      <td>../../data/raw/word_level/h07/h07-075/h07-075-...</td>\n",
       "    </tr>\n",
       "    <tr>\n",
       "      <th>4</th>\n",
       "      <td>1041</td>\n",
       "      <td>g02-073</td>\n",
       "      <td>g02</td>\n",
       "      <td>g02-073</td>\n",
       "      <td>produce</td>\n",
       "      <td>g02-073-03-04</td>\n",
       "      <td>VB</td>\n",
       "      <td>../../data/raw/word_level/g02/g02-073/g02-073-...</td>\n",
       "    </tr>\n",
       "  </tbody>\n",
       "</table>\n",
       "</div>"
      ],
      "text/plain": [
       "   index filename folder document     token     image_name pos_tag  \\\n",
       "0    860  e04-011    e04  e04-011  complete  e04-011-07-06      VB   \n",
       "1   1070  b06-036    b06  b06-036      must  b06-036-01-02      MD   \n",
       "2   1158  e07-101    e07  e07-101        is  e07-101-00-06     BEZ   \n",
       "3   1188  h07-075    h07  h07-075       for  h07-075-06-01      IN   \n",
       "4   1041  g02-073    g02  g02-073   produce  g02-073-03-04      VB   \n",
       "\n",
       "                                          image_path  \n",
       "0  ../../data/raw/word_level/e04/e04-011/e04-011-...  \n",
       "1  ../../data/raw/word_level/b06/b06-036/b06-036-...  \n",
       "2  ../../data/raw/word_level/e07/e07-101/e07-101-...  \n",
       "3  ../../data/raw/word_level/h07/h07-075/h07-075-...  \n",
       "4  ../../data/raw/word_level/g02/g02-073/g02-073-...  "
      ]
     },
     "execution_count": 2,
     "metadata": {},
     "output_type": "execute_result"
    }
   ],
   "source": [
    "word_level_train.head()"
   ]
  },
  {
   "cell_type": "code",
   "execution_count": 56,
   "metadata": {},
   "outputs": [],
   "source": [
    "from __future__ import division\n",
    "from __future__ import print_function\n",
    "\n",
    "import os\n",
    "import random\n",
    "import numpy as np\n",
    "import cv2\n",
    "from SamplePreprocessor import preprocess\n",
    "# from models.OCRBeamSearch.src.SamplePreprocessor import preprocess\n",
    "\n",
    "\n",
    "chars = [' ', '!', '\"', '#', \"'\", '(', ')', '*', ',', '-', '.', '/', '0', '1', '2', '3', '4', '5', '6', '7', '8', '9', ':', ';', '?', 'A', 'B', 'C', 'D', 'E', 'F', 'G', 'H', 'I', 'J', 'K', 'L', 'M', 'N', 'O', 'P', 'Q', 'R', 'S', 'T', 'U', 'V', 'W', 'X', 'Y', 'Z', 'a', 'b', 'c', 'd', 'e', 'f', 'g', 'h', 'i', 'j', 'k', 'l', 'm', 'n', 'o', 'p', 'q', 'r', 's', 't', 'u', 'v', 'w', 'x', 'y', 'z']\n",
    "\n",
    "\n",
    "def new_word_level_df(word_level_df, data_path):\n",
    "    word_level_df['image_path'] = word_level_df['image_path'].map(lambda x: \n",
    "                                                    data_path + x.split('word_level')[-1])\n",
    "    return word_level_df\n",
    "\n",
    "def create_samples(word_level_df):\n",
    "    samples = []\n",
    "    for path, word in zip(word_level_df.image_path, word_level_df.token):\n",
    "        samples.append(Sample(word, path))\n",
    "    return samples\n",
    "\n",
    "\n",
    "class Sample:\n",
    "\t\"sample from the dataset\"\n",
    "\tdef __init__(self, gtText, filePath):\n",
    "\t\tself.gtText = gtText\n",
    "\t\tself.filePath = filePath\n",
    "\n",
    "\n",
    "class Batch:\n",
    "\t\"batch containing images and ground truth texts\"\n",
    "\tdef __init__(self, gtTexts, imgs):\n",
    "\t\tself.imgs = np.stack(imgs, axis=0)\n",
    "\t\tself.gtTexts = gtTexts\n",
    "\n",
    "\n",
    "class DataLoader:\n",
    "    \"loads data which corresponds to IAM format, see: http://www.fki.inf.unibe.ch/databases/iam-handwriting-database\" \n",
    "\n",
    "#     def __init__(self, filePath, batchSize, imgSize, maxTextLen):\n",
    "    def __init__(self, data_path, word_level_train, word_level_test, batchSize, imgSize, maxTextLen):\n",
    "        \"loader for dataset at given location, preprocess images and text according to parameters\"\n",
    "\n",
    "# \t\tassert filePath[-1]=='/'\n",
    "\n",
    "# \t\tself.dataAugmentation = False\n",
    "# \t\tself.currIdx = 0\n",
    "# \t\tself.batchSize = batchSize\n",
    "# \t\tself.imgSize = imgSize\n",
    "# \t\tself.samples = []\n",
    "\t\n",
    "# \t\tf=open('../data/'+'words.txt')\n",
    "# \t\tchars = set()\n",
    "# \t\tbad_samples = []\n",
    "# \t\tbad_samples_reference = ['a01-117-05-02.png', 'r06-022-03-05.png']\n",
    "# \t\tfor line in f:\n",
    "# \t\t\t# ignore comment line\n",
    "# \t\t\tif not line or line[0]=='#':\n",
    "# \t\t\t\tcontinue\n",
    "# # \t\t\tprint(len(line.strip().split(' ')))\n",
    "# \t\t\tlineSplit = line.strip().split(' ')\n",
    "# # \t\t\tassert len(lineSplit) >= 9\n",
    "\t\t\t\n",
    "# \t\t\t# filename: part1-part2-part3 --> part1/part1-part2/part1-part2-part3.png\n",
    "# \t\t\tfileNameSplit = lineSplit[0].split('-')\n",
    "# \t\t\tfileName = filePath + fileNameSplit[0] + '/' + fileNameSplit[0] + '-' + fileNameSplit[1] + '/' + lineSplit[0] + '.png'\n",
    "\n",
    "# \t\t\t# GT text are columns starting at 9\n",
    "# \t\t\tgtText = self.truncateLabel(' '.join(lineSplit[8:]), maxTextLen)\n",
    "# \t\t\tchars = chars.union(set(list(gtText)))\n",
    "\n",
    "# \t\t\t# check if image is not empty\n",
    "# \t\t\tif not os.path.getsize(fileName):\n",
    "# \t\t\t\tbad_samples.append(lineSplit[0] + '.png')\n",
    "# \t\t\t\tcontinue\n",
    "\n",
    "# \t\t\t# put sample into list\n",
    "# \t\t\tself.samples.append(Sample(gtText, fileName))\n",
    "\n",
    "# \t\t# some images in the IAM dataset are known to be damaged, don't show warning for them\n",
    "# \t\tif set(bad_samples) != set(bad_samples_reference):\n",
    "# \t\t\tprint(\"Warning, damaged images found:\", bad_samples)\n",
    "# \t\t\tprint(\"Damaged images expected:\", bad_samples_reference)\n",
    "\n",
    "# \t\t# split into training and validation set: 95% - 5%\n",
    "# \t\tsplitIdx = int(0.95 * len(self.samples))\n",
    "# \t\tself.trainSamples = self.samples[:splitIdx]\n",
    "# \t\tself.validationSamples = self.samples[splitIdx:]\n",
    "        word_level_train = new_word_level_df(word_level_train, data_path)\n",
    "        #Drop two bad rows\n",
    "        word_level_train.drop([52114, 87331], axis=0, inplace=True)\n",
    "        word_level_test = new_word_level_df(word_level_test, data_path)\n",
    "\n",
    "        self.trainSamples = create_samples(word_level_train)\n",
    "        self.validationSamples = create_samples(word_level_test)\n",
    "        \n",
    "        # put words into lists\n",
    "        self.trainWords = [x.gtText for x in self.trainSamples]\n",
    "        self.validationWords = [x.gtText for x in self.validationSamples]\n",
    "\n",
    "        # number of randomly chosen samples per epoch for training \n",
    "        self.numTrainSamplesPerEpoch = 25000 \n",
    "        \n",
    "        # start with train set\n",
    "        self.trainSet()\n",
    "\n",
    "        # list of all chars in dataset\n",
    "        self.charList = sorted(list(chars))\n",
    "\n",
    "\n",
    "    def truncateLabel(self, text, maxTextLen):\n",
    "        # ctc_loss can't compute loss if it cannot find a mapping between text label and input \n",
    "        # labels. Repeat letters cost double because of the blank symbol needing to be inserted.\n",
    "        # If a too-long label is provided, ctc_loss returns an infinite gradient\n",
    "        cost = 0\n",
    "        for i in range(len(text)):\n",
    "            if i != 0 and text[i] == text[i-1]:\n",
    "                cost += 2\n",
    "            else:\n",
    "                cost += 1\n",
    "            if cost > maxTextLen:\n",
    "                return text[:i]\n",
    "        return text\n",
    "\n",
    "\n",
    "    def trainSet(self):\n",
    "        \"switch to randomly chosen subset of training set\"\n",
    "        self.dataAugmentation = True\n",
    "        self.currIdx = 0\n",
    "        random.shuffle(self.trainSamples)\n",
    "        self.samples = self.trainSamples[:self.numTrainSamplesPerEpoch]\n",
    "\n",
    "    \n",
    "    def validationSet(self):\n",
    "        \"switch to validation set\"\n",
    "        self.dataAugmentation = False\n",
    "        self.currIdx = 0\n",
    "        self.samples = self.validationSamples\n",
    "\n",
    "\n",
    "    def getIteratorInfo(self):\n",
    "        \"current batch index and overall number of batches\"\n",
    "        return (self.currIdx // self.batchSize + 1, len(self.samples) // self.batchSize)\n",
    "\n",
    "\n",
    "    def hasNext(self):\n",
    "        \"iterator\"\n",
    "        return self.currIdx + self.batchSize <= len(self.samples)\n",
    "\n",
    "\n",
    "    def getNext(self):\n",
    "        \"iterator\"\n",
    "        batchRange = range(self.currIdx, self.currIdx + self.batchSize)\n",
    "        gtTexts = [self.samples[i].gtText for i in batchRange]\n",
    "        imgs = [preprocess(cv2.imread(self.samples[i].filePath, cv2.IMREAD_GRAYSCALE), self.imgSize, self.dataAugmentation) for i in batchRange]\n",
    "        self.currIdx += self.batchSize\n",
    "        return Batch(gtTexts, imgs)\n",
    "\n",
    "\n"
   ]
  },
  {
   "cell_type": "code",
   "execution_count": 57,
   "metadata": {},
   "outputs": [],
   "source": [
    "batchSize = 50\n",
    "imgSize = (128, 32)\n",
    "maxTextLen = 32\n",
    "\n",
    "# loader = DataLoader(data_path+'/' + '/', 50, imgSize, maxTextLen)\n",
    "new_loader = DataLoader(data_path, word_level_train, word_level_test, batchSize, imgSize, maxTextLen)"
   ]
  },
  {
   "cell_type": "code",
   "execution_count": 35,
   "metadata": {},
   "outputs": [
    {
     "data": {
      "text/plain": [
       "('../../../../../data/raw/word_level//a05/a05-017/a05-017-07-06.png', '.')"
      ]
     },
     "execution_count": 35,
     "metadata": {},
     "output_type": "execute_result"
    }
   ],
   "source": [
    "loader.samples[0].filePath, loader.samples[0].gtText"
   ]
  },
  {
   "cell_type": "code",
   "execution_count": 58,
   "metadata": {},
   "outputs": [
    {
     "data": {
      "text/plain": [
       "('../../../../../data/raw/word_level/m01/m01-160/m01-160-03-07.png', ',')"
      ]
     },
     "execution_count": 58,
     "metadata": {},
     "output_type": "execute_result"
    }
   ],
   "source": [
    "new_loader.samples[0].filePath, new_loader.samples[0].gtText"
   ]
  },
  {
   "cell_type": "code",
   "execution_count": 59,
   "metadata": {},
   "outputs": [
    {
     "data": {
      "text/plain": [
       "'../../../../../data/raw/word_level'"
      ]
     },
     "execution_count": 59,
     "metadata": {},
     "output_type": "execute_result"
    }
   ],
   "source": [
    "data_path"
   ]
  },
  {
   "cell_type": "code",
   "execution_count": 62,
   "metadata": {},
   "outputs": [
    {
     "data": {
      "text/html": [
       "<div>\n",
       "<style scoped>\n",
       "    .dataframe tbody tr th:only-of-type {\n",
       "        vertical-align: middle;\n",
       "    }\n",
       "\n",
       "    .dataframe tbody tr th {\n",
       "        vertical-align: top;\n",
       "    }\n",
       "\n",
       "    .dataframe thead th {\n",
       "        text-align: right;\n",
       "    }\n",
       "</style>\n",
       "<table border=\"1\" class=\"dataframe\">\n",
       "  <thead>\n",
       "    <tr style=\"text-align: right;\">\n",
       "      <th></th>\n",
       "      <th>index</th>\n",
       "      <th>filename</th>\n",
       "      <th>folder</th>\n",
       "      <th>document</th>\n",
       "      <th>token</th>\n",
       "      <th>image_name</th>\n",
       "      <th>pos_tag</th>\n",
       "      <th>image_path</th>\n",
       "    </tr>\n",
       "  </thead>\n",
       "  <tbody>\n",
       "    <tr>\n",
       "      <th>52114</th>\n",
       "      <td>991</td>\n",
       "      <td>a01-117</td>\n",
       "      <td>a01</td>\n",
       "      <td>a01-117</td>\n",
       "      <td>Powell</td>\n",
       "      <td>a01-117-05-02</td>\n",
       "      <td>NP</td>\n",
       "      <td>../../../../../data/raw/word_level/a01/a01-117...</td>\n",
       "    </tr>\n",
       "  </tbody>\n",
       "</table>\n",
       "</div>"
      ],
      "text/plain": [
       "       index filename folder document   token     image_name pos_tag  \\\n",
       "52114    991  a01-117    a01  a01-117  Powell  a01-117-05-02      NP   \n",
       "\n",
       "                                              image_path  \n",
       "52114  ../../../../../data/raw/word_level/a01/a01-117...  "
      ]
     },
     "execution_count": 62,
     "metadata": {},
     "output_type": "execute_result"
    }
   ],
   "source": [
    "bad_samples_reference = ['a01-117-05-02.png', 'r06-022-03-05.png']\n",
    "\n",
    "word_level_train[word_level_train.image_name == 'a01-117-05-02']"
   ]
  },
  {
   "cell_type": "code",
   "execution_count": 70,
   "metadata": {},
   "outputs": [
    {
     "data": {
      "text/plain": [
       "87331"
      ]
     },
     "execution_count": 70,
     "metadata": {},
     "output_type": "execute_result"
    }
   ],
   "source": [
    "word_level_train[word_level_train.image_name == 'r06-022-03-05'].index[0]"
   ]
  },
  {
   "cell_type": "code",
   "execution_count": 68,
   "metadata": {},
   "outputs": [
    {
     "ename": "TypeError",
     "evalue": "'DataFrame' objects are mutable, thus they cannot be hashed",
     "output_type": "error",
     "traceback": [
      "\u001b[0;31m---------------------------------------------------------------------------\u001b[0m",
      "\u001b[0;31mTypeError\u001b[0m                                 Traceback (most recent call last)",
      "\u001b[0;32m<ipython-input-68-f0413295eeed>\u001b[0m in \u001b[0;36m<module>\u001b[0;34m()\u001b[0m\n\u001b[0;32m----> 1\u001b[0;31m \u001b[0mword_level_train\u001b[0m\u001b[0;34m.\u001b[0m\u001b[0mdrop\u001b[0m\u001b[0;34m(\u001b[0m\u001b[0;34m[\u001b[0m\u001b[0mword_level_train\u001b[0m\u001b[0;34m[\u001b[0m\u001b[0mword_level_train\u001b[0m\u001b[0;34m.\u001b[0m\u001b[0mimage_name\u001b[0m \u001b[0;34m==\u001b[0m \u001b[0;34m'r06-022-03-05'\u001b[0m\u001b[0;34m]\u001b[0m\u001b[0;34m,\u001b[0m \u001b[0;36m87331\u001b[0m\u001b[0;34m]\u001b[0m\u001b[0;34m,\u001b[0m \u001b[0maxis\u001b[0m\u001b[0;34m=\u001b[0m\u001b[0;36m0\u001b[0m\u001b[0;34m)\u001b[0m\u001b[0;34m\u001b[0m\u001b[0m\n\u001b[0m",
      "\u001b[0;32m~/anaconda3/lib/python3.6/site-packages/pandas/core/frame.py\u001b[0m in \u001b[0;36mdrop\u001b[0;34m(self, labels, axis, index, columns, level, inplace, errors)\u001b[0m\n\u001b[1;32m   3695\u001b[0m                                            \u001b[0mindex\u001b[0m\u001b[0;34m=\u001b[0m\u001b[0mindex\u001b[0m\u001b[0;34m,\u001b[0m \u001b[0mcolumns\u001b[0m\u001b[0;34m=\u001b[0m\u001b[0mcolumns\u001b[0m\u001b[0;34m,\u001b[0m\u001b[0;34m\u001b[0m\u001b[0m\n\u001b[1;32m   3696\u001b[0m                                            \u001b[0mlevel\u001b[0m\u001b[0;34m=\u001b[0m\u001b[0mlevel\u001b[0m\u001b[0;34m,\u001b[0m \u001b[0minplace\u001b[0m\u001b[0;34m=\u001b[0m\u001b[0minplace\u001b[0m\u001b[0;34m,\u001b[0m\u001b[0;34m\u001b[0m\u001b[0m\n\u001b[0;32m-> 3697\u001b[0;31m                                            errors=errors)\n\u001b[0m\u001b[1;32m   3698\u001b[0m \u001b[0;34m\u001b[0m\u001b[0m\n\u001b[1;32m   3699\u001b[0m     @rewrite_axis_style_signature('mapper', [('copy', True),\n",
      "\u001b[0;32m~/anaconda3/lib/python3.6/site-packages/pandas/core/generic.py\u001b[0m in \u001b[0;36mdrop\u001b[0;34m(self, labels, axis, index, columns, level, inplace, errors)\u001b[0m\n\u001b[1;32m   3109\u001b[0m         \u001b[0;32mfor\u001b[0m \u001b[0maxis\u001b[0m\u001b[0;34m,\u001b[0m \u001b[0mlabels\u001b[0m \u001b[0;32min\u001b[0m \u001b[0maxes\u001b[0m\u001b[0;34m.\u001b[0m\u001b[0mitems\u001b[0m\u001b[0;34m(\u001b[0m\u001b[0;34m)\u001b[0m\u001b[0;34m:\u001b[0m\u001b[0;34m\u001b[0m\u001b[0m\n\u001b[1;32m   3110\u001b[0m             \u001b[0;32mif\u001b[0m \u001b[0mlabels\u001b[0m \u001b[0;32mis\u001b[0m \u001b[0;32mnot\u001b[0m \u001b[0;32mNone\u001b[0m\u001b[0;34m:\u001b[0m\u001b[0;34m\u001b[0m\u001b[0m\n\u001b[0;32m-> 3111\u001b[0;31m                 \u001b[0mobj\u001b[0m \u001b[0;34m=\u001b[0m \u001b[0mobj\u001b[0m\u001b[0;34m.\u001b[0m\u001b[0m_drop_axis\u001b[0m\u001b[0;34m(\u001b[0m\u001b[0mlabels\u001b[0m\u001b[0;34m,\u001b[0m \u001b[0maxis\u001b[0m\u001b[0;34m,\u001b[0m \u001b[0mlevel\u001b[0m\u001b[0;34m=\u001b[0m\u001b[0mlevel\u001b[0m\u001b[0;34m,\u001b[0m \u001b[0merrors\u001b[0m\u001b[0;34m=\u001b[0m\u001b[0merrors\u001b[0m\u001b[0;34m)\u001b[0m\u001b[0;34m\u001b[0m\u001b[0m\n\u001b[0m\u001b[1;32m   3112\u001b[0m \u001b[0;34m\u001b[0m\u001b[0m\n\u001b[1;32m   3113\u001b[0m         \u001b[0;32mif\u001b[0m \u001b[0minplace\u001b[0m\u001b[0;34m:\u001b[0m\u001b[0;34m\u001b[0m\u001b[0m\n",
      "\u001b[0;32m~/anaconda3/lib/python3.6/site-packages/pandas/core/generic.py\u001b[0m in \u001b[0;36m_drop_axis\u001b[0;34m(self, labels, axis, level, errors)\u001b[0m\n\u001b[1;32m   3141\u001b[0m                 \u001b[0mnew_axis\u001b[0m \u001b[0;34m=\u001b[0m \u001b[0maxis\u001b[0m\u001b[0;34m.\u001b[0m\u001b[0mdrop\u001b[0m\u001b[0;34m(\u001b[0m\u001b[0mlabels\u001b[0m\u001b[0;34m,\u001b[0m \u001b[0mlevel\u001b[0m\u001b[0;34m=\u001b[0m\u001b[0mlevel\u001b[0m\u001b[0;34m,\u001b[0m \u001b[0merrors\u001b[0m\u001b[0;34m=\u001b[0m\u001b[0merrors\u001b[0m\u001b[0;34m)\u001b[0m\u001b[0;34m\u001b[0m\u001b[0m\n\u001b[1;32m   3142\u001b[0m             \u001b[0;32melse\u001b[0m\u001b[0;34m:\u001b[0m\u001b[0;34m\u001b[0m\u001b[0m\n\u001b[0;32m-> 3143\u001b[0;31m                 \u001b[0mnew_axis\u001b[0m \u001b[0;34m=\u001b[0m \u001b[0maxis\u001b[0m\u001b[0;34m.\u001b[0m\u001b[0mdrop\u001b[0m\u001b[0;34m(\u001b[0m\u001b[0mlabels\u001b[0m\u001b[0;34m,\u001b[0m \u001b[0merrors\u001b[0m\u001b[0;34m=\u001b[0m\u001b[0merrors\u001b[0m\u001b[0;34m)\u001b[0m\u001b[0;34m\u001b[0m\u001b[0m\n\u001b[0m\u001b[1;32m   3144\u001b[0m             \u001b[0mresult\u001b[0m \u001b[0;34m=\u001b[0m \u001b[0mself\u001b[0m\u001b[0;34m.\u001b[0m\u001b[0mreindex\u001b[0m\u001b[0;34m(\u001b[0m\u001b[0;34m**\u001b[0m\u001b[0;34m{\u001b[0m\u001b[0maxis_name\u001b[0m\u001b[0;34m:\u001b[0m \u001b[0mnew_axis\u001b[0m\u001b[0;34m}\u001b[0m\u001b[0;34m)\u001b[0m\u001b[0;34m\u001b[0m\u001b[0m\n\u001b[1;32m   3145\u001b[0m \u001b[0;34m\u001b[0m\u001b[0m\n",
      "\u001b[0;32m~/anaconda3/lib/python3.6/site-packages/pandas/core/indexes/base.py\u001b[0m in \u001b[0;36mdrop\u001b[0;34m(self, labels, errors)\u001b[0m\n\u001b[1;32m   4397\u001b[0m         \u001b[0marr_dtype\u001b[0m \u001b[0;34m=\u001b[0m \u001b[0;34m'object'\u001b[0m \u001b[0;32mif\u001b[0m \u001b[0mself\u001b[0m\u001b[0;34m.\u001b[0m\u001b[0mdtype\u001b[0m \u001b[0;34m==\u001b[0m \u001b[0;34m'object'\u001b[0m \u001b[0;32melse\u001b[0m \u001b[0;32mNone\u001b[0m\u001b[0;34m\u001b[0m\u001b[0m\n\u001b[1;32m   4398\u001b[0m         \u001b[0mlabels\u001b[0m \u001b[0;34m=\u001b[0m \u001b[0mcom\u001b[0m\u001b[0;34m.\u001b[0m\u001b[0m_index_labels_to_array\u001b[0m\u001b[0;34m(\u001b[0m\u001b[0mlabels\u001b[0m\u001b[0;34m,\u001b[0m \u001b[0mdtype\u001b[0m\u001b[0;34m=\u001b[0m\u001b[0marr_dtype\u001b[0m\u001b[0;34m)\u001b[0m\u001b[0;34m\u001b[0m\u001b[0m\n\u001b[0;32m-> 4399\u001b[0;31m         \u001b[0mindexer\u001b[0m \u001b[0;34m=\u001b[0m \u001b[0mself\u001b[0m\u001b[0;34m.\u001b[0m\u001b[0mget_indexer\u001b[0m\u001b[0;34m(\u001b[0m\u001b[0mlabels\u001b[0m\u001b[0;34m)\u001b[0m\u001b[0;34m\u001b[0m\u001b[0m\n\u001b[0m\u001b[1;32m   4400\u001b[0m         \u001b[0mmask\u001b[0m \u001b[0;34m=\u001b[0m \u001b[0mindexer\u001b[0m \u001b[0;34m==\u001b[0m \u001b[0;34m-\u001b[0m\u001b[0;36m1\u001b[0m\u001b[0;34m\u001b[0m\u001b[0m\n\u001b[1;32m   4401\u001b[0m         \u001b[0;32mif\u001b[0m \u001b[0mmask\u001b[0m\u001b[0;34m.\u001b[0m\u001b[0many\u001b[0m\u001b[0;34m(\u001b[0m\u001b[0;34m)\u001b[0m\u001b[0;34m:\u001b[0m\u001b[0;34m\u001b[0m\u001b[0m\n",
      "\u001b[0;32m~/anaconda3/lib/python3.6/site-packages/pandas/core/indexes/base.py\u001b[0m in \u001b[0;36mget_indexer\u001b[0;34m(self, target, method, limit, tolerance)\u001b[0m\n\u001b[1;32m   3239\u001b[0m             \u001b[0mtarget\u001b[0m \u001b[0;34m=\u001b[0m \u001b[0mtarget\u001b[0m\u001b[0;34m.\u001b[0m\u001b[0mastype\u001b[0m\u001b[0;34m(\u001b[0m\u001b[0mobject\u001b[0m\u001b[0;34m)\u001b[0m\u001b[0;34m\u001b[0m\u001b[0m\n\u001b[1;32m   3240\u001b[0m             return this.get_indexer(target, method=method, limit=limit,\n\u001b[0;32m-> 3241\u001b[0;31m                                     tolerance=tolerance)\n\u001b[0m\u001b[1;32m   3242\u001b[0m \u001b[0;34m\u001b[0m\u001b[0m\n\u001b[1;32m   3243\u001b[0m         \u001b[0;32mif\u001b[0m \u001b[0;32mnot\u001b[0m \u001b[0mself\u001b[0m\u001b[0;34m.\u001b[0m\u001b[0mis_unique\u001b[0m\u001b[0;34m:\u001b[0m\u001b[0;34m\u001b[0m\u001b[0m\n",
      "\u001b[0;32m~/anaconda3/lib/python3.6/site-packages/pandas/core/indexes/base.py\u001b[0m in \u001b[0;36mget_indexer\u001b[0;34m(self, target, method, limit, tolerance)\u001b[0m\n\u001b[1;32m   3257\u001b[0m                                  'backfill or nearest reindexing')\n\u001b[1;32m   3258\u001b[0m \u001b[0;34m\u001b[0m\u001b[0m\n\u001b[0;32m-> 3259\u001b[0;31m             \u001b[0mindexer\u001b[0m \u001b[0;34m=\u001b[0m \u001b[0mself\u001b[0m\u001b[0;34m.\u001b[0m\u001b[0m_engine\u001b[0m\u001b[0;34m.\u001b[0m\u001b[0mget_indexer\u001b[0m\u001b[0;34m(\u001b[0m\u001b[0mtarget\u001b[0m\u001b[0;34m.\u001b[0m\u001b[0m_ndarray_values\u001b[0m\u001b[0;34m)\u001b[0m\u001b[0;34m\u001b[0m\u001b[0m\n\u001b[0m\u001b[1;32m   3260\u001b[0m \u001b[0;34m\u001b[0m\u001b[0m\n\u001b[1;32m   3261\u001b[0m         \u001b[0;32mreturn\u001b[0m \u001b[0m_ensure_platform_int\u001b[0m\u001b[0;34m(\u001b[0m\u001b[0mindexer\u001b[0m\u001b[0;34m)\u001b[0m\u001b[0;34m\u001b[0m\u001b[0m\n",
      "\u001b[0;32mpandas/_libs/index.pyx\u001b[0m in \u001b[0;36mpandas._libs.index.IndexEngine.get_indexer\u001b[0;34m()\u001b[0m\n",
      "\u001b[0;32mpandas/_libs/hashtable_class_helper.pxi\u001b[0m in \u001b[0;36mpandas._libs.hashtable.PyObjectHashTable.lookup\u001b[0;34m()\u001b[0m\n",
      "\u001b[0;32m~/anaconda3/lib/python3.6/site-packages/pandas/core/generic.py\u001b[0m in \u001b[0;36m__hash__\u001b[0;34m(self)\u001b[0m\n\u001b[1;32m   1490\u001b[0m     \u001b[0;32mdef\u001b[0m \u001b[0m__hash__\u001b[0m\u001b[0;34m(\u001b[0m\u001b[0mself\u001b[0m\u001b[0;34m)\u001b[0m\u001b[0;34m:\u001b[0m\u001b[0;34m\u001b[0m\u001b[0m\n\u001b[1;32m   1491\u001b[0m         raise TypeError('{0!r} objects are mutable, thus they cannot be'\n\u001b[0;32m-> 1492\u001b[0;31m                         ' hashed'.format(self.__class__.__name__))\n\u001b[0m\u001b[1;32m   1493\u001b[0m \u001b[0;34m\u001b[0m\u001b[0m\n\u001b[1;32m   1494\u001b[0m     \u001b[0;32mdef\u001b[0m \u001b[0m__iter__\u001b[0m\u001b[0;34m(\u001b[0m\u001b[0mself\u001b[0m\u001b[0;34m)\u001b[0m\u001b[0;34m:\u001b[0m\u001b[0;34m\u001b[0m\u001b[0m\n",
      "\u001b[0;31mTypeError\u001b[0m: 'DataFrame' objects are mutable, thus they cannot be hashed"
     ]
    }
   ],
   "source": [
    "word_level_train.drop([52114, 87331], axis=0)"
   ]
  },
  {
   "cell_type": "code",
   "execution_count": 74,
   "metadata": {},
   "outputs": [
    {
     "data": {
      "text/plain": [
       "'../../../../../data/raw/word_level/b06/b06-082/b06-082-08-05.png'"
      ]
     },
     "execution_count": 74,
     "metadata": {},
     "output_type": "execute_result"
    }
   ],
   "source": [
    "word_level_train[word_level_train.image_name == 'b06-082-08-05'].image_path.iloc[0]"
   ]
  },
  {
   "cell_type": "code",
   "execution_count": 76,
   "metadata": {},
   "outputs": [
    {
     "data": {
      "image/png": "[encoded data removed]",
      "text/plain": [
       "<PIL.PngImagePlugin.PngImageFile image mode=L size=224x118 at 0x7FB1CA84F8D0>"
      ]
     },
     "execution_count": 76,
     "metadata": {},
     "output_type": "execute_result"
    }
   ],
   "source": [
    "from PIL import Image\n",
    "\n",
    "Image.open('../../../../../data/raw/word_level/b06/b06-082/b06-082-09-01.png')"
   ]
  },
  {
   "cell_type": "code",
   "execution_count": null,
   "metadata": {},
   "outputs": [],
   "source": []
  }
 ],
 "metadata": {
  "kernelspec": {
   "display_name": "Python 3",
   "language": "python",
   "name": "python3"
  },
  "language_info": {
   "codemirror_mode": {
    "name": "ipython",
    "version": 3
   },
   "file_extension": ".py",
   "mimetype": "text/x-python",
   "name": "python",
   "nbconvert_exporter": "python",
   "pygments_lexer": "ipython3",
   "version": "3.6.4"
  }
 },
 "nbformat": 4,
 "nbformat_minor": 2
}
