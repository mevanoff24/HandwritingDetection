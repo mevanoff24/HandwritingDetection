{
 "cells": [
  {
   "cell_type": "code",
   "execution_count": 8,
   "metadata": {},
   "outputs": [
    {
     "name": "stdout",
     "output_type": "stream",
     "text": [
      "Python: 3.6.5 |Anaconda, Inc.| (default, Apr 29 2018, 16:14:56) \n",
      "[GCC 7.2.0]\n",
      "Tensorflow: 1.12.0\n",
      "Init with stored values from ../model/snapshot-38\n",
      "INFO:tensorflow:Restoring parameters from ../model/snapshot-38\n"
     ]
    }
   ],
   "source": [
    "import tensorflow as tf\n",
    "import cv2\n",
    "tf.reset_default_graph()\n",
    "\n",
    "from Model import Model, DecoderType\n",
    "from SamplePreprocessor import preprocess\n",
    "import sys\n",
    "import argparse\n",
    "import cv2\n",
    "import editdistance\n",
    "from DataLoader import DataLoader, Batch\n",
    "\n",
    "decoderType = 'wordbeamsearch'\n",
    "\n",
    "\n",
    "\n",
    "decoderType = DecoderType.BestPath\n",
    "if 'beamsearch':\n",
    "    decoderType = DecoderType.BeamSearch\n",
    "if 'wordbeamsearch':\n",
    "    decoderType = DecoderType.WordBeamSearch\n",
    "        \n",
    "        \n",
    "class FilePaths:\n",
    "\t\"filenames and paths to data\"\n",
    "\tfnCharList = '../model/charList.txt'\n",
    "\tfnAccuracy = '../model/accuracy.txt'\n",
    "\tfnTrain = '../data/'\n",
    "\tfnInfer = '../data/test.png'\n",
    "\tfnCorpus = '../data/corpus.txt'\n",
    "\n",
    "model = Model(open(FilePaths.fnCharList).read(), decoderType, mustRestore=True)\n",
    "\n",
    "def infer(model, fnImg):\n",
    "\t\"recognize text in image provided by file path\"\n",
    "\timg = preprocess(cv2.imread(fnImg, cv2.IMREAD_GRAYSCALE), Model.imgSize)\n",
    "\tbatch = Batch(None, [img])\n",
    "\t(recognized, probability) = model.inferBatch(batch, True)\n",
    "\tprint('Recognized:', '\"' + recognized[0] + '\"')\n",
    "\tprint('Probability:', probability[0])\n",
    "    \n",
    "    "
   ]
  },
  {
   "cell_type": "code",
   "execution_count": 2,
   "metadata": {},
   "outputs": [
    {
     "name": "stdout",
     "output_type": "stream",
     "text": [
      "analyze.py          main.py       SamplePreprocessor.py\r\n",
      "\u001b[0m\u001b[01;34mCTCWordBeamSearch\u001b[0m/  Model.py      testing.ipynb\r\n",
      "DataLoader.py       \u001b[01;34m__pycache__\u001b[0m/  TFWordBeamSearch.so\r\n"
     ]
    }
   ],
   "source": [
    "ls "
   ]
  },
  {
   "cell_type": "code",
   "execution_count": 11,
   "metadata": {},
   "outputs": [
    {
     "name": "stdout",
     "output_type": "stream",
     "text": [
      "Parallel decoding with 4 threads\n",
      "Your TF version is 1.12.0\n"
     ]
    },
    {
     "name": "stderr",
     "output_type": "stream",
     "text": [
      "Cloning into 'CTCWordBeamSearch'...\n"
     ]
    }
   ],
   "source": [
    "%%bash\n",
    "\n",
    "git clone https://github.com/githubharald/CTCWordBeamSearch.git\n",
    "cd CTCWordBeamSearch/cpp/proj/\n",
    "\n",
    "NUMTHREADS=\"4\"\n",
    "echo \"Parallel decoding with $NUMTHREADS threads\"\n",
    "PARALLEL=\"-DWBS_PARALLEL -DWBS_THREADS=$NUMTHREADS\"\n",
    "\n",
    "# get and print TF version\n",
    "TF_VERSION=$(python3 -c \"import tensorflow as tf ;  print(tf.__version__)\")\n",
    "echo \"Your TF version is $TF_VERSION\"\n",
    "TF_CFLAGS=( $(python3 -c 'import tensorflow as tf; print(\" \".join(tf.sysconfig.get_compile_flags()))') )\n",
    "TF_LFLAGS=( $(python3 -c 'import tensorflow as tf; print(\" \".join(tf.sysconfig.get_link_flags()))') )\n",
    "\n",
    "\n",
    "g++ -Wall -O2 --std=c++11 -shared -o TFWordBeamSearch.so ../src/TFWordBeamSearch.cpp ../src/main.cpp ../src/WordBeamSearch.cpp ../src/PrefixTree.cpp ../src/Metrics.cpp ../src/MatrixCSV.cpp ../src/LanguageModel.cpp ../src/DataLoader.cpp ../src/Beam.cpp -fPIC ${TF_CFLAGS[@]} ${TF_LFLAGS[@]} $PARALLEL\n",
    "\n",
    "\n",
    "cp CTCWordBeamSearch/cpp/proj/TFWordBeamSearch.so .\n",
    "\n",
    "# need to unzip model "
   ]
  },
  {
   "cell_type": "code",
   "execution_count": 16,
   "metadata": {},
   "outputs": [],
   "source": [
    "%%bash\n",
    "cp CTCWordBeamSearch/cpp/proj/TFWordBeamSearch.so ."
   ]
  },
  {
   "cell_type": "code",
   "execution_count": 4,
   "metadata": {},
   "outputs": [
    {
     "name": "stdout",
     "output_type": "stream",
     "text": [
      "\u001b[0m\u001b[01;35manalyze.png\u001b[0m   Get IAM training data.txt  translationInvariance.npy\r\n",
      "checkDirs.py  pixelRelevance.npy         translationInvarianceTexts.pickle\r\n",
      "corpus.txt    \u001b[01;35mtest.png\u001b[0m                   words.txt\r\n"
     ]
    }
   ],
   "source": [
    "ls ../data/test.png"
   ]
  },
  {
   "cell_type": "code",
   "execution_count": 9,
   "metadata": {},
   "outputs": [
    {
     "name": "stdout",
     "output_type": "stream",
     "text": [
      "Recognized: \"little\"\n",
      "Probability: 0.96625495\n"
     ]
    }
   ],
   "source": [
    "infer(model, '../data/test.png')"
   ]
  },
  {
   "cell_type": "code",
   "execution_count": 17,
   "metadata": {},
   "outputs": [
    {
     "name": "stdout",
     "output_type": "stream",
     "text": [
      "Recognized: \"an\"\n",
      "Probability: 0.98047525\n",
      "Recognized: \"difficult\"\n",
      "Probability: 0.59630936\n",
      "Recognized: \"and\"\n",
      "Probability: 0.9646121\n",
      "Recognized: \"also\"\n",
      "Probability: 0.33708933\n",
      "Recognized: \"it\"\n",
      "Probability: 0.7752454\n",
      "Recognized: \"idea\"\n",
      "Probability: 0.09965921\n",
      "Recognized: \"such\"\n",
      "Probability: 0.56423956\n",
      "Recognized: \"the\"\n",
      "Probability: 0.785784\n",
      "Recognized: \"hug0slav\"\n",
      "Probability: 1.1656747e-06\n",
      "Recognized: \"Pity\"\n",
      "Probability: 1.8623157e-05\n",
      "Recognized: \"Casablanca\"\n",
      "Probability: 0.031954046\n",
      "Recognized: \",\"\n",
      "Probability: 0.85637933\n",
      "Recognized: \"world\"\n",
      "Probability: 0.8171616\n",
      "Recognized: \"on\"\n",
      "Probability: 0.88122934\n",
      "Recognized: \"uncommitted\"\n",
      "Probability: 0.5107472\n",
      "Recognized: \"extended\"\n",
      "Probability: 0.72222257\n",
      "Recognized: \"some\"\n",
      "Probability: 0.9320382\n",
      "Recognized: \"inter-African\"\n",
      "Probability: 0.19575293\n",
      "Recognized: \"The\"\n",
      "Probability: 0.60978365\n",
      "Recognized: \"is\"\n",
      "Probability: 0.7850034\n",
      "Recognized: \"in\"\n",
      "Probability: 0.9936187\n",
      "Recognized: \"the\"\n",
      "Probability: 0.9169054\n",
      "Recognized: \"and\"\n",
      "Probability: 0.9038398\n",
      "Recognized: \"President\"\n",
      "Probability: 0.006739544\n",
      "Recognized: \"assembly\"\n",
      "Probability: 0.493638\n",
      "Recognized: \"sphere\"\n",
      "Probability: 0.5955637\n",
      "Recognized: \"the\"\n",
      "Probability: 0.87369525\n",
      "Recognized: \"the\"\n",
      "Probability: 0.97044396\n",
      "Recognized: \"comments\"\n",
      "Probability: 0.3204955\n",
      "Recognized: \"conference\"\n",
      "Probability: 0.7805163\n",
      "Recognized: \"would\"\n",
      "Probability: 0.9627951\n",
      "Recognized: \"and\"\n",
      "Probability: 0.9872077\n",
      "Recognized: \"in\"\n",
      "Probability: 0.9862903\n",
      "Recognized: \"would\"\n",
      "Probability: 0.9136998\n",
      "Recognized: \"an\"\n",
      "Probability: 0.54037\n",
      "Recognized: \"to\"\n",
      "Probability: 0.9556778\n",
      "Recognized: \"coordinate\"\n",
      "Probability: 0.017271217\n",
      "Recognized: \"of\"\n",
      "Probability: 0.89659107\n",
      "Recognized: \"economic\"\n",
      "Probability: 0.54882854\n",
      "Recognized: \"political\"\n",
      "Probability: 0.14128248\n",
      "Recognized: \"consultative\"\n",
      "Probability: 0.07940656\n",
      "Recognized: \"which\"\n",
      "Probability: 0.9188728\n",
      "Recognized: \"apparent\"\n",
      "Probability: 0.5779772\n",
      "Recognized: \"approval\"\n",
      "Probability: 0.63699186\n",
      "Recognized: \"in\"\n",
      "Probability: 0.8736296\n",
      "Recognized: \"like\"\n",
      "Probability: 0.8622333\n",
      "Recognized: \"activity\"\n",
      "Probability: 0.010587488\n",
      "Recognized: \"particular\"\n",
      "Probability: 0.19118072\n",
      "Recognized: \"the\"\n",
      "Probability: 0.69392115\n",
      "Recognized: \"idea\"\n",
      "Probability: 0.6658818\n",
      "Recognized: \"of\"\n",
      "Probability: 0.82034296\n",
      "Recognized: \"with\"\n",
      "Probability: 0.087313406\n",
      "Recognized: \"of\"\n",
      "Probability: 0.9268344\n",
      "Recognized: \"to\"\n",
      "Probability: 0.88227016\n",
      "Recognized: \"was\"\n",
      "Probability: 0.9817161\n",
      "Recognized: \"particularly\"\n",
      "Probability: 0.00035742196\n",
      "Recognized: \"not\"\n",
      "Probability: 0.9750174\n",
      "Recognized: \"whole\"\n",
      "Probability: 0.9373485\n",
      "Recognized: \"occasion\"\n",
      "Probability: 0.05677803\n",
      "Recognized: \"that\"\n",
      "Probability: 0.864688\n",
      "Recognized: \",\"\n",
      "Probability: 0.60028577\n",
      "Recognized: \",\"\n",
      "Probability: 0.93138045\n",
      "Recognized: \"see\"\n",
      "Probability: 0.758664\n",
      "Recognized: \"on\"\n",
      "Probability: 0.92058545\n"
     ]
    }
   ],
   "source": [
    "from glob import glob\n",
    "\n",
    "for f in glob('../data/words/a03/a03-009/*'):\n",
    "\n",
    "    infer(model, f)"
   ]
  },
  {
   "cell_type": "code",
   "execution_count": 14,
   "metadata": {},
   "outputs": [
    {
     "data": {
      "image/png": "[encoded data removed]",
      "text/plain": [
       "<PIL.PngImagePlugin.PngImageFile image mode=L size=179x66 at 0x7FDE7175A828>"
      ]
     },
     "execution_count": 14,
     "metadata": {},
     "output_type": "execute_result"
    }
   ],
   "source": [
    "from PIL import Image\n",
    "\n",
    "Image.open('../data/words/a03/a03-009/a03-009-06-04.png')"
   ]
  },
  {
   "cell_type": "code",
   "execution_count": 6,
   "metadata": {},
   "outputs": [
    {
     "name": "stdout",
     "output_type": "stream",
     "text": [
      "Collecting editdistance\n",
      "\u001b[?25l  Downloading https://files.pythonhosted.org/packages/dc/34/381c67595831fc9daa30c9247cfb8116941fc7380b571a390bbff6da011e/editdistance-0.5.2-cp36-cp36m-manylinux1_x86_64.whl (173kB)\n",
      "\u001b[K    100% |████████████████████████████████| 174kB 11.2MB/s ta 0:00:01\n",
      "\u001b[?25hInstalling collected packages: editdistance\n",
      "Successfully installed editdistance-0.5.2\n",
      "\u001b[33mYou are using pip version 10.0.1, however version 19.0.1 is available.\n",
      "You should consider upgrading via the 'pip install --upgrade pip' command.\u001b[0m\n"
     ]
    }
   ],
   "source": [
    "!pip install editdistance, opencv-python tensorflow torch torchtext"
   ]
  },
  {
   "cell_type": "code",
   "execution_count": null,
   "metadata": {},
   "outputs": [],
   "source": []
  }
 ],
 "metadata": {
  "kernelspec": {
   "display_name": "Python 3",
   "language": "python",
   "name": "python3"
  },
  "language_info": {
   "codemirror_mode": {
    "name": "ipython",
    "version": 3
   },
   "file_extension": ".py",
   "mimetype": "text/x-python",
   "name": "python",
   "nbconvert_exporter": "python",
   "pygments_lexer": "ipython3",
   "version": "3.6.5"
  }
 },
 "nbformat": 4,
 "nbformat_minor": 2
}
