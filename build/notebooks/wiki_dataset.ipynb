{
 "cells": [
  {
   "cell_type": "code",
   "execution_count": 1,
   "metadata": {},
   "outputs": [],
   "source": [
    "import pandas as pd\n",
    "import numpy as np\n",
    "import codecs\n",
    "from nltk.tokenize import sent_tokenize\n",
    "from collections import Counter, defaultdict\n",
    "import re\n",
    "import dill as pickle\n",
    "import random\n",
    "from tqdm import tqdm\n",
    "import os"
   ]
  },
  {
   "cell_type": "code",
   "execution_count": 2,
   "metadata": {},
   "outputs": [],
   "source": [
    "word_level_meta_path = '../../data/preprocessed/word_level_meta.csv'\n",
    "word_level_df = pd.read_csv(word_level_meta_path)"
   ]
  },
  {
   "cell_type": "code",
   "execution_count": 3,
   "metadata": {},
   "outputs": [
    {
     "name": "stdout",
     "output_type": "stream",
     "text": [
      "['Or', 'when', 'he', 'found', 'cock-fighting', 'going', 'on', 'in', 'church', '?']\n"
     ]
    }
   ],
   "source": [
    "available_image_letters = word_level_df.token.values.tolist()\n",
    "print(available_image_letters[:10])"
   ]
  },
  {
   "cell_type": "code",
   "execution_count": 20,
   "metadata": {},
   "outputs": [],
   "source": [
    "\n",
    "wikitext2_path = '../../data/raw/language_model/wikitext-2'\n",
    "wikitext103_path = '../../data/raw/language_model/wikitext-103'\n",
    "\n",
    "def create_full_path(wiki_path, dataset):\n",
    "    \"\"\"Joins to paths together for wiki dataset\"\"\"\n",
    "    return os.path.join(wiki_path, 'wiki.{}.tokens'.format(dataset))\n",
    "\n",
    "def create_data(wiki_path, dataset, save=False, target_sep=['<<', '>>'], threshold_length=3,\n",
    "                iteration_threshold=30, out_path='../../data/processed/'):\n",
    "    \"\"\"\n",
    "    Loads and searchs for useable target word (one we have an image for) and saves wiki text dataset\n",
    "    \n",
    "    Args:\n",
    "    \n",
    "    \n",
    "    Returns:\n",
    "    \n",
    "    \"\"\"\n",
    "    dataset_name = wiki_path.split('/')[-1]\n",
    "    data_path = create_full_path(wikitext2_path, 'train')\n",
    "    \n",
    "    random.seed(100)\n",
    "    X = []\n",
    "    y = []\n",
    "    raw = []\n",
    "    bad_words = ['=', '戦', '場', 'の', 'ヴ', 'ァ', 'ル', 'キ', 'ュ', 'リ', 'ア', '戦場のヴァルキュリア3']\n",
    "    N = 0\n",
    "    bad_lines = 0\n",
    "    counter = Counter()\n",
    "    \n",
    "    with codecs.open(data_path, encoding='utf-8') as f:\n",
    "        for line in f:\n",
    "            line = line.strip()\n",
    "            if line.rstrip():\n",
    "                if not any(bad_word in line for bad_word in bad_words):\n",
    "                    for sent in sent_tokenize(line):\n",
    "                        split_sent = sent.split()\n",
    "                        found = True\n",
    "                        iteration = 0\n",
    "                        while (found == True):\n",
    "                            iteration += 1\n",
    "                            random_int = random.randint(0, len(split_sent)-1)\n",
    "                            target = split_sent[random_int]\n",
    "                            if (len(target) >= threshold_length) and (target in available_image_letters):\n",
    "#                                 X.append(split_sent[:random_int] + ['<TARGET>'] + split_sent[random_int+1:])\n",
    "                                X.append(split_sent[:random_int] + [''.join([target_sep[0]] + [target] + [target_sep[1]])] \n",
    "                                             + split_sent[random_int+1:])\n",
    "                                y.append((target, random_int))\n",
    "                                raw.append(split_sent)\n",
    "                                found = False\n",
    "                                # get word counts \n",
    "                                for token in split_sent:\n",
    "                                    counter[token] += 1\n",
    "\n",
    "                            if (iteration >= iteration_threshold):\n",
    "                                found = False\n",
    "                                bad_lines += 1\n",
    "                if N % 5000 == 0:\n",
    "                    print('processed {} lines'.format(N))\n",
    "#                 if N >= 100: break\n",
    "                N += 1\n",
    "        print('bad_lines', bad_lines)\n",
    "    if save:\n",
    "        print('Save Path', out_path + '----' + dataset_name + '-' + dataset)\n",
    "        np.save(out_path + 'X_' + dataset_name + '-' + dataset, X)\n",
    "        np.save(out_path + 'y_' + dataset_name + '-' + dataset, y)\n",
    "        np.save(out_path + 'raw' + dataset_name + '-' + dataset, raw)\n",
    "\n",
    "\n",
    "    return X, y, raw, counter"
   ]
  },
  {
   "cell_type": "code",
   "execution_count": 25,
   "metadata": {},
   "outputs": [
    {
     "name": "stdout",
     "output_type": "stream",
     "text": [
      "wikitext-103\n",
      "processed 0 lines\n",
      "processed 5000 lines\n",
      "processed 10000 lines\n",
      "processed 15000 lines\n",
      "processed 20000 lines\n",
      "bad_lines 2380\n",
      "Save Path ../../data/processed/----wikitext-103-test\n"
     ]
    }
   ],
   "source": [
    "X, y, raw, counter = create_data(wikitext103_path, 'test', save=True)"
   ]
  },
  {
   "cell_type": "code",
   "execution_count": null,
   "metadata": {},
   "outputs": [],
   "source": []
  },
  {
   "cell_type": "code",
   "execution_count": null,
   "metadata": {},
   "outputs": [],
   "source": []
  },
  {
   "cell_type": "code",
   "execution_count": 79,
   "metadata": {},
   "outputs": [
    {
     "name": "stdout",
     "output_type": "stream",
     "text": [
      "processed 0 lines\n",
      "processed 1000 lines\n",
      "processed 2000 lines\n",
      "processed 3000 lines\n",
      "processed 4000 lines\n",
      "processed 5000 lines\n",
      "processed 6000 lines\n",
      "processed 7000 lines\n",
      "processed 8000 lines\n",
      "processed 9000 lines\n",
      "processed 10000 lines\n",
      "processed 11000 lines\n",
      "processed 12000 lines\n",
      "processed 13000 lines\n",
      "processed 14000 lines\n",
      "processed 15000 lines\n",
      "processed 16000 lines\n",
      "processed 17000 lines\n",
      "processed 18000 lines\n",
      "processed 19000 lines\n",
      "processed 20000 lines\n",
      "processed 21000 lines\n",
      "processed 22000 lines\n",
      "processed 23000 lines\n"
     ]
    },
    {
     "data": {
      "text/plain": [
       "2382"
      ]
     },
     "execution_count": 79,
     "metadata": {},
     "output_type": "execute_result"
    }
   ],
   "source": [
    "\n",
    "# bad_words = ['=', '戦', '場', 'の', 'ヴ', 'ァ', 'ル', 'キ', 'ュ', 'リ', 'ア', '戦場のヴァルキュリア3']\n",
    "# N = 0\n",
    "# threshold_length = 3\n",
    "# iteration_threshold = 30\n",
    "# bad_lines = 0\n",
    "# counter = Counter()\n",
    "\n",
    "# X = []\n",
    "# y = []\n",
    "\n",
    "    \n",
    "# with codecs.open(small_data_path, encoding='utf-8') as f:\n",
    "#     for line in f:\n",
    "#         line = line.strip()\n",
    "#         if line.rstrip():\n",
    "#             if not any(bad_word in line for bad_word in bad_words):\n",
    "#                 for sent in sent_tokenize(line):\n",
    "#                     split_sent = sent.split()\n",
    "#                     found = True\n",
    "#                     iteration = 0\n",
    "#                     while (found == True):\n",
    "#                         iteration += 1\n",
    "#                         random_int = random.randint(0, len(split_sent)-1)\n",
    "#                         target = split_sent[random_int]\n",
    "#                         if (len(target) >= threshold_length) and (target in available_image_letters):\n",
    "#                             X.append(split_sent[:random_int] + ['<TARGET>'] + split_sent[random_int+1:])\n",
    "#                             y.append((target, random_int))\n",
    "#                             found = False\n",
    "#                             # get word counts \n",
    "#                             for token in split_sent:\n",
    "#                                 counter[token] += 1\n",
    "                    \n",
    "#                         if (iteration >= iteration_threshold):\n",
    "#                             found = False\n",
    "#                             bad_lines += 1\n",
    "#             if N % 1000 == 0:\n",
    "#                 print('processed {} lines'.format(N))\n",
    "# #             if N >= 100: break\n",
    "#             N += 1\n",
    "            \n",
    "# bad_lines"
   ]
  },
  {
   "cell_type": "code",
   "execution_count": null,
   "metadata": {},
   "outputs": [],
   "source": []
  },
  {
   "cell_type": "code",
   "execution_count": null,
   "metadata": {},
   "outputs": [],
   "source": []
  },
  {
   "cell_type": "code",
   "execution_count": 73,
   "metadata": {},
   "outputs": [
    {
     "data": {
      "text/plain": [
       "[('the', 485),\n",
       " (',', 385),\n",
       " ('.', 259),\n",
       " ('of', 223),\n",
       " ('and', 169),\n",
       " ('to', 168),\n",
       " ('in', 118),\n",
       " ('was', 95),\n",
       " ('a', 91),\n",
       " ('\"', 74)]"
      ]
     },
     "execution_count": 73,
     "metadata": {},
     "output_type": "execute_result"
    }
   ],
   "source": [
    "counter.most_common(10)"
   ]
  },
  {
   "cell_type": "code",
   "execution_count": 5,
   "metadata": {},
   "outputs": [
    {
     "name": "stdout",
     "output_type": "stream",
     "text": [
      "wiki.test.tokens  wiki.train.tokens  wiki.valid.tokens\r\n"
     ]
    }
   ],
   "source": [
    "!ls ../../data/raw/language_model/wikitext-103/wiki.train.tokens"
   ]
  },
  {
   "cell_type": "code",
   "execution_count": 12,
   "metadata": {},
   "outputs": [
    {
     "name": "stdout",
     "output_type": "stream",
     "text": [
      " \r\n",
      " = Valkyria Chronicles III = \r\n",
      " \r\n",
      " Senjō no Valkyria 3 : <unk> Chronicles ( Japanese : 戦場のヴァルキュリア3 , lit . Valkyria of the Battlefield 3 ) , commonly referred to as Valkyria Chronicles III outside Japan , is a tactical role @-@ playing video game developed by Sega and Media.Vision for the PlayStation Portable . Released in January 2011 in Japan , it is the third game in the Valkyria series . Employing the same fusion of tactical and real @-@ time gameplay as its predecessors , the story runs parallel to the first game and follows the \" Nameless \" , a penal military unit serving the nation of Gallia during the Second Europan War who perform secret black operations and are pitted against the Imperial unit \" <unk> Raven \" . \r\n",
      " The game began development in 2010 , carrying over a large portion of the work done on Valkyria Chronicles II . While it retained the standard features of the series , it also underwent multiple adjustments , such as making the game more forgiving for series newcomers . Character designer <unk> Honjou and composer Hitoshi Sakimoto both returned from previous entries , along with Valkyria Chronicles II director Takeshi Ozawa . A large team of writers handled the script . The game 's opening theme was sung by May 'n . \r\n",
      " It met with positive sales in Japan , and was praised by both Japanese and western critics . After release , it received downloadable content , along with an expanded edition in November of that year . It was also adapted into manga and an original video animation series . Due to low sales of Valkyria Chronicles II , Valkyria Chronicles III was not localized , but a fan translation compatible with the game 's expanded edition was released in 2014 . Media.Vision would return to the franchise with the development of Valkyria : Azure Revolution for the PlayStation 4 . \r\n",
      " \r\n",
      " = = Gameplay = = \r\n",
      " \r\n",
      " As with previous <unk> Chronicles games , Valkyria Chronicles III is a tactical role @-@ playing game where players take control of a military unit and take part in missions against enemy forces . Stories are told through comic book @-@ like panels with animated character portraits , with characters speaking partially through voiced speech bubbles and partially through unvoiced text . The player progresses through a series of linear missions , gradually unlocked as maps that can be freely scanned through and replayed as they are unlocked . The route to each story location on the map varies depending on an individual player 's approach : when one option is selected , the other is sealed off to the player . Outside missions , the player characters rest in a camp , where units can be customized and character growth occurs . Alongside the main story missions are character @-@ specific sub missions relating to different squad members . After the game 's completion , additional episodes are unlocked , some of them having a higher difficulty than those found in the rest of the game . There are also love simulation elements related to the game 's two main heroines , although they take a very minor role . \r\n"
     ]
    }
   ],
   "source": [
    "!head ../../data/raw/language_model/wikitext-103/wiki.train.tokens"
   ]
  },
  {
   "cell_type": "code",
   "execution_count": null,
   "metadata": {},
   "outputs": [],
   "source": []
  }
 ],
 "metadata": {
  "kernelspec": {
   "display_name": "Python 3",
   "language": "python",
   "name": "python3"
  },
  "language_info": {
   "codemirror_mode": {
    "name": "ipython",
    "version": 3
   },
   "file_extension": ".py",
   "mimetype": "text/x-python",
   "name": "python",
   "nbconvert_exporter": "python",
   "pygments_lexer": "ipython3",
   "version": "3.6.3"
  }
 },
 "nbformat": 4,
 "nbformat_minor": 2
}
