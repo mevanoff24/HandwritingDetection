{
 "cells": [
  {
   "cell_type": "code",
   "execution_count": 1,
   "metadata": {},
   "outputs": [],
   "source": [
    "import boto3"
   ]
  },
  {
   "cell_type": "code",
   "execution_count": 2,
   "metadata": {},
   "outputs": [],
   "source": [
    "client = boto3.resource('s3')\n",
    "bucket = client.Bucket('handwrittingdetection')"
   ]
  },
  {
   "cell_type": "code",
   "execution_count": 20,
   "metadata": {},
   "outputs": [
    {
     "data": {
      "text/plain": [
       "s3.Bucket(name='handwrittingdetection')"
      ]
     },
     "execution_count": 20,
     "metadata": {},
     "output_type": "execute_result"
    }
   ],
   "source": [
    "bucket"
   ]
  },
  {
   "cell_type": "code",
   "execution_count": 9,
   "metadata": {},
   "outputs": [],
   "source": [
    "files = list(bucket.objects.filter(Prefix='data/word_level/sample'))"
   ]
  },
  {
   "cell_type": "code",
   "execution_count": 36,
   "metadata": {},
   "outputs": [
    {
     "data": {
      "text/plain": [
       "s3.ObjectSummary(bucket_name='handwrittingdetection', key='data/word_level/sample/a01/a01-000u/a01-000u-00-00.png')"
      ]
     },
     "execution_count": 36,
     "metadata": {},
     "output_type": "execute_result"
    }
   ],
   "source": [
    "files[1]"
   ]
  },
  {
   "cell_type": "code",
   "execution_count": 44,
   "metadata": {},
   "outputs": [
    {
     "data": {
      "text/plain": [
       "<matplotlib.image.AxesImage at 0x11fafe898>"
      ]
     },
     "execution_count": 44,
     "metadata": {},
     "output_type": "execute_result"
    }
   ],
   "source": [
    "from PIL import Image\n",
    "plt.imshow(mpimg.imread(BytesIO(files[1].get()['Body'].read()), 'jp2'))"
   ]
  },
  {
   "cell_type": "code",
   "execution_count": 39,
   "metadata": {},
   "outputs": [
    {
     "name": "stdout",
     "output_type": "stream",
     "text": [
      "Using matplotlib backend: MacOSX\n"
     ]
    },
    {
     "data": {
      "text/plain": [
       "<matplotlib.image.AxesImage at 0x11fb26710>"
      ]
     },
     "execution_count": 39,
     "metadata": {},
     "output_type": "execute_result"
    }
   ],
   "source": [
    "import boto3\n",
    "from io import BytesIO\n",
    "import matplotlib.image as mpimg\n",
    "import matplotlib.pyplot as plt\n",
    "%matplotlib\n",
    "\n",
    "resource = boto3.resource('s3')\n",
    "bucket = resource.Bucket('handwrittingdetection')\n",
    "\n",
    "image_object = bucket.Object('data/word_level/sample/a01/a01-000u/a01-000u-00-00.png')\n",
    "image = mpimg.imread(BytesIO(image_object.get()['Body'].read()), 'jp2')\n",
    "\n",
    "plt.imshow(image)"
   ]
  },
  {
   "cell_type": "code",
   "execution_count": null,
   "metadata": {},
   "outputs": [],
   "source": [
    "for obj in bucket.objects.all():\n",
    "    key = obj.key\n",
    "    body = obj.get()['Body'].read()"
   ]
  },
  {
   "cell_type": "code",
   "execution_count": 53,
   "metadata": {},
   "outputs": [],
   "source": [
    "meta = bucket.Object('data/meta_json.json')"
   ]
  },
  {
   "cell_type": "code",
   "execution_count": 59,
   "metadata": {},
   "outputs": [
    {
     "name": "stderr",
     "output_type": "stream",
     "text": [
      "/Users/mattevanoff/anaconda3/lib/python3.6/importlib/_bootstrap.py:219: RuntimeWarning: numpy.dtype size changed, may indicate binary incompatibility. Expected 96, got 88\n",
      "  return f(*args, **kwds)\n"
     ]
    }
   ],
   "source": [
    "import pandas as pd\n",
    "meta = pd.read_json(meta.get()['Body'].read())"
   ]
  },
  {
   "cell_type": "code",
   "execution_count": 60,
   "metadata": {},
   "outputs": [
    {
     "data": {
      "text/html": [
       "<div>\n",
       "<style scoped>\n",
       "    .dataframe tbody tr th:only-of-type {\n",
       "        vertical-align: middle;\n",
       "    }\n",
       "\n",
       "    .dataframe tbody tr th {\n",
       "        vertical-align: top;\n",
       "    }\n",
       "\n",
       "    .dataframe thead th {\n",
       "        text-align: right;\n",
       "    }\n",
       "</style>\n",
       "<table border=\"1\" class=\"dataframe\">\n",
       "  <thead>\n",
       "    <tr style=\"text-align: right;\">\n",
       "      <th></th>\n",
       "      <th>filename</th>\n",
       "      <th>meta</th>\n",
       "      <th>ids</th>\n",
       "      <th>pos_tag</th>\n",
       "      <th>folder</th>\n",
       "      <th>document</th>\n",
       "    </tr>\n",
       "  </thead>\n",
       "  <tbody>\n",
       "    <tr>\n",
       "      <th>0</th>\n",
       "      <td>d05-040</td>\n",
       "      <td>[Or, when, he, found, cock-fighting, going, on...</td>\n",
       "      <td>[d05-040-00-00, d05-040-00-01, d05-040-00-02, ...</td>\n",
       "      <td>[CC, WRB, PP3A, VBD, NN, VBG, RP, IN, NN, ?, N...</td>\n",
       "      <td>d05</td>\n",
       "      <td>d05-040</td>\n",
       "    </tr>\n",
       "    <tr>\n",
       "      <th>1</th>\n",
       "      <td>p03-151</td>\n",
       "      <td>[\", Isn't, it, ?, \", he, rose, and, smoothed, ...</td>\n",
       "      <td>[p03-151-00-00, p03-151-00-01, p03-151-00-02, ...</td>\n",
       "      <td>[*', BEZX, PP3, ?, **', PP3A, VBD, CC, VBD, PP...</td>\n",
       "      <td>p03</td>\n",
       "      <td>p03-151</td>\n",
       "    </tr>\n",
       "    <tr>\n",
       "      <th>10</th>\n",
       "      <td>c02-012</td>\n",
       "      <td>[Every, unnecessary, detail, ,, all, superfluo...</td>\n",
       "      <td>[c02-012-00-00, c02-012-00-01, c02-012-00-02, ...</td>\n",
       "      <td>[AT, JJ, NN, ,, ABN, JJ, JJ, NN, MD, BE, VBN, ...</td>\n",
       "      <td>c02</td>\n",
       "      <td>c02-012</td>\n",
       "    </tr>\n",
       "    <tr>\n",
       "      <th>100</th>\n",
       "      <td>g06-047n</td>\n",
       "      <td>[This, remarkable, man, of, medicine, ,, whom,...</td>\n",
       "      <td>[g06-047n-00-00, g06-047n-00-01, g06-047n-00-0...</td>\n",
       "      <td>[DT, JJ, NN, INO, NN, ,, WPO, NPT, NP, NP, VBD...</td>\n",
       "      <td>g06</td>\n",
       "      <td>g06-047</td>\n",
       "    </tr>\n",
       "    <tr>\n",
       "      <th>1000</th>\n",
       "      <td>a05-029</td>\n",
       "      <td>[Sir, Francis, is, to, hand, over, to, Sir, Ri...</td>\n",
       "      <td>[a05-029-00-00, a05-029-00-01, a05-029-00-02, ...</td>\n",
       "      <td>[NPT, NP, BEZ, TO, VB, RP, IN, NPT, NP, IN21, ...</td>\n",
       "      <td>a05</td>\n",
       "      <td>a05-029</td>\n",
       "    </tr>\n",
       "  </tbody>\n",
       "</table>\n",
       "</div>"
      ],
      "text/plain": [
       "      filename                                               meta  \\\n",
       "0      d05-040  [Or, when, he, found, cock-fighting, going, on...   \n",
       "1      p03-151  [\", Isn't, it, ?, \", he, rose, and, smoothed, ...   \n",
       "10     c02-012  [Every, unnecessary, detail, ,, all, superfluo...   \n",
       "100   g06-047n  [This, remarkable, man, of, medicine, ,, whom,...   \n",
       "1000   a05-029  [Sir, Francis, is, to, hand, over, to, Sir, Ri...   \n",
       "\n",
       "                                                    ids  \\\n",
       "0     [d05-040-00-00, d05-040-00-01, d05-040-00-02, ...   \n",
       "1     [p03-151-00-00, p03-151-00-01, p03-151-00-02, ...   \n",
       "10    [c02-012-00-00, c02-012-00-01, c02-012-00-02, ...   \n",
       "100   [g06-047n-00-00, g06-047n-00-01, g06-047n-00-0...   \n",
       "1000  [a05-029-00-00, a05-029-00-01, a05-029-00-02, ...   \n",
       "\n",
       "                                                pos_tag folder document  \n",
       "0     [CC, WRB, PP3A, VBD, NN, VBG, RP, IN, NN, ?, N...    d05  d05-040  \n",
       "1     [*', BEZX, PP3, ?, **', PP3A, VBD, CC, VBD, PP...    p03  p03-151  \n",
       "10    [AT, JJ, NN, ,, ABN, JJ, JJ, NN, MD, BE, VBN, ...    c02  c02-012  \n",
       "100   [DT, JJ, NN, INO, NN, ,, WPO, NPT, NP, NP, VBD...    g06  g06-047  \n",
       "1000  [NPT, NP, BEZ, TO, VB, RP, IN, NPT, NP, IN21, ...    a05  a05-029  "
      ]
     },
     "execution_count": 60,
     "metadata": {},
     "output_type": "execute_result"
    }
   ],
   "source": [
    "meta.head()"
   ]
  },
  {
   "cell_type": "code",
   "execution_count": null,
   "metadata": {},
   "outputs": [],
   "source": []
  }
 ],
 "metadata": {
  "kernelspec": {
   "display_name": "Python 3",
   "language": "python",
   "name": "python3"
  },
  "language_info": {
   "codemirror_mode": {
    "name": "ipython",
    "version": 3
   },
   "file_extension": ".py",
   "mimetype": "text/x-python",
   "name": "python",
   "nbconvert_exporter": "python",
   "pygments_lexer": "ipython3",
   "version": "3.6.3"
  }
 },
 "nbformat": 4,
 "nbformat_minor": 2
}
