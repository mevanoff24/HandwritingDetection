{
 "cells": [
  {
   "cell_type": "code",
   "execution_count": 25,
   "metadata": {},
   "outputs": [],
   "source": [
    "import pandas as pd\n",
    "import numpy as np\n",
    "import os\n",
    "import codecs\n",
    "import pickle\n",
    "import dill as pickle\n",
    "from collections import defaultdict"
   ]
  },
  {
   "cell_type": "code",
   "execution_count": 2,
   "metadata": {},
   "outputs": [],
   "source": [
    "n_gram_path = '../../data/raw/n_grams/'\n",
    "n_gram_save_path = '../../data/processed/ngram_models/'"
   ]
  },
  {
   "cell_type": "code",
   "execution_count": 15,
   "metadata": {},
   "outputs": [],
   "source": [
    "# !tail -1000 ../../data/raw/n_grams/w2_.txt"
   ]
  },
  {
   "cell_type": "markdown",
   "metadata": {},
   "source": [
    "# Trigrams"
   ]
  },
  {
   "cell_type": "code",
   "execution_count": 26,
   "metadata": {},
   "outputs": [
    {
     "name": "stdout",
     "output_type": "stream",
     "text": [
      "Passed words 0\n"
     ]
    }
   ],
   "source": [
    "bad_lines = 0\n",
    "trigrams = {}\n",
    "trigram_totals = {}\n",
    "\n",
    "with codecs.open(os.path.join(n_gram_path, 'w3_.txt'), encoding='latin') as f:\n",
    "    try:\n",
    "        for line in f:\n",
    "            if line:\n",
    "                count, first_term, second_term, third_term = line.rstrip().split('\\t')\n",
    "                key = (first_term, second_term)\n",
    "                if key not in trigrams:\n",
    "                    trigrams[key] = []\n",
    "                    trigram_totals[key] = 0\n",
    "                trigrams[key].append((third_term, int(count)))\n",
    "                trigram_totals[key] += int(count)\n",
    "    except:\n",
    "        pass\n",
    "        bad_lines += 1\n",
    "print('Passed words', bad_lines)\n",
    "\n",
    "\n",
    "trigram_likelihood_predictions = {}\n",
    "for first_terms, last_term_count in trigrams.items():\n",
    "    max_count = 0\n",
    "    max_term = ''\n",
    "    for term, count in last_term_count:\n",
    "        if count > max_count:\n",
    "            max_count = count\n",
    "            max_term = term\n",
    "    trigram_likelihood_predictions[first_terms] = max_term\n",
    "    \n",
    "    \n",
    "\n",
    "\n",
    "trigram_likelihood_predictions = defaultdict(lambda: 0, trigram_likelihood_predictions)\n",
    "\n",
    "\n",
    "with open(os.path.join(n_gram_save_path, 'trigram_likelihood_model.pkl'), 'wb') as f:\n",
    "    pickle.dump(trigram_likelihood_predictions, f)"
   ]
  },
  {
   "cell_type": "markdown",
   "metadata": {},
   "source": [
    "# Bigrams "
   ]
  },
  {
   "cell_type": "code",
   "execution_count": 23,
   "metadata": {},
   "outputs": [
    {
     "data": {
      "text/plain": [
       "0"
      ]
     },
     "execution_count": 23,
     "metadata": {},
     "output_type": "execute_result"
    }
   ],
   "source": [
    "trigram_likelihood_predictions[('cock', 'df')]"
   ]
  },
  {
   "cell_type": "code",
   "execution_count": 27,
   "metadata": {},
   "outputs": [
    {
     "name": "stdout",
     "output_type": "stream",
     "text": [
      "Passed words 0 1020385\n"
     ]
    }
   ],
   "source": [
    "bad_lines = 0\n",
    "bigrams = {}\n",
    "bigram_totals = {}\n",
    "\n",
    "line_number = 0\n",
    "with codecs.open(os.path.join(n_gram_path, 'w2_.txt'), encoding='latin') as f:\n",
    "    try:\n",
    "        for line in f:\n",
    "            line_number += 1\n",
    "            if line:\n",
    "                count, first_term, second_term = line.rstrip().split('\\t')\n",
    "                key = first_term\n",
    "                if key not in bigrams:\n",
    "                    bigrams[key] = []\n",
    "                    bigram_totals[key] = 0\n",
    "                bigrams[key].append((second_term, int(count)))\n",
    "                bigram_totals[key] += int(count)\n",
    "    except:\n",
    "        pass\n",
    "        bad_lines += 1\n",
    "print('Passed words', bad_lines, line_number)\n",
    "\n",
    "\n",
    "bigram_likelihood_predictions = {}\n",
    "for first_term, last_term_count in bigrams.items():\n",
    "    max_count = 0\n",
    "    max_term = ''\n",
    "    for term, count in last_term_count:\n",
    "        if count > max_count:\n",
    "            max_count = int(count)\n",
    "            max_term = term\n",
    "        bigram_likelihood_predictions[first_term] = max_term\n",
    "    \n",
    "\n",
    "bigram_likelihood_predictions = defaultdict(lambda: 0, bigram_likelihood_predictions)\n",
    "\n",
    "with open(os.path.join(n_gram_save_path, 'bigram_likelihood_model.pkl'), 'wb') as f:\n",
    "    pickle.dump(bigram_likelihood_predictions, f)"
   ]
  },
  {
   "cell_type": "code",
   "execution_count": null,
   "metadata": {},
   "outputs": [],
   "source": []
  },
  {
   "cell_type": "code",
   "execution_count": null,
   "metadata": {},
   "outputs": [],
   "source": []
  },
  {
   "cell_type": "code",
   "execution_count": null,
   "metadata": {},
   "outputs": [],
   "source": []
  }
 ],
 "metadata": {
  "kernelspec": {
   "display_name": "Python 3",
   "language": "python",
   "name": "python3"
  },
  "language_info": {
   "codemirror_mode": {
    "name": "ipython",
    "version": 3
   },
   "file_extension": ".py",
   "mimetype": "text/x-python",
   "name": "python",
   "nbconvert_exporter": "python",
   "pygments_lexer": "ipython3",
   "version": "3.6.3"
  }
 },
 "nbformat": 4,
 "nbformat_minor": 2
}
