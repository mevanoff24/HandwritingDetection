{
 "cells": [
  {
   "cell_type": "code",
   "execution_count": 155,
   "metadata": {},
   "outputs": [],
   "source": [
    "import pandas as pd\n",
    "import numpy as np\n",
    "import matplotlib.pyplot as plt\n",
    "%matplotlib inline\n",
    "from glob import glob\n",
    "import re\n",
    "import xml.etree.ElementTree as ET"
   ]
  },
  {
   "cell_type": "code",
   "execution_count": 152,
   "metadata": {},
   "outputs": [],
   "source": [
    "def get_structed_data(data_path):\n",
    "    all_data = {}\n",
    "    for filename in glob(data_path):\n",
    "        tree = ET.parse(filename)\n",
    "        root = tree.getroot()\n",
    "        tmp = []\n",
    "        for part in root.findall('machine-printed-part'):\n",
    "            for line in part.findall('machine-print-line'):\n",
    "                tmp.append(line.attrib['text'])\n",
    "        all_data[filename.split('/')[-1].split('.')[0]] = [tmp]\n",
    "    return all_data\n",
    "\n",
    "def create_dataframe(all_data):\n",
    "    dat = pd.DataFrame(all_data).T.reset_index()\n",
    "    dat.columns = ['filename', 'meta']\n",
    "    dat['folder'] = dat.filename.map(lambda x: x.split('-')[0])\n",
    "    dat['document'] = dat.filename.map(lambda x: re.sub(r'[A-Za-z]', '', x.split('-')[-1]))\n",
    "    dat['document'] = dat['folder'] + '-' + dat['document']\n",
    "    return dat"
   ]
  },
  {
   "cell_type": "code",
   "execution_count": 153,
   "metadata": {},
   "outputs": [],
   "source": [
    "data_path = '../../data/raw/xml/*'\n",
    "all_data = get_structed_data(data_path)\n",
    "dat = create_dataframe(all_data)"
   ]
  },
  {
   "cell_type": "code",
   "execution_count": 165,
   "metadata": {},
   "outputs": [
    {
     "data": {
      "text/html": [
       "<div>\n",
       "<style scoped>\n",
       "    .dataframe tbody tr th:only-of-type {\n",
       "        vertical-align: middle;\n",
       "    }\n",
       "\n",
       "    .dataframe tbody tr th {\n",
       "        vertical-align: top;\n",
       "    }\n",
       "\n",
       "    .dataframe thead th {\n",
       "        text-align: right;\n",
       "    }\n",
       "</style>\n",
       "<table border=\"1\" class=\"dataframe\">\n",
       "  <thead>\n",
       "    <tr style=\"text-align: right;\">\n",
       "      <th></th>\n",
       "      <th>filename</th>\n",
       "      <th>meta</th>\n",
       "      <th>folder</th>\n",
       "      <th>document</th>\n",
       "    </tr>\n",
       "  </thead>\n",
       "  <tbody>\n",
       "    <tr>\n",
       "      <th>0</th>\n",
       "      <td>a01-000u</td>\n",
       "      <td>[A MOVE to stop Mr. Gaitskell from nominating ...</td>\n",
       "      <td>a01</td>\n",
       "      <td>a01-000</td>\n",
       "    </tr>\n",
       "    <tr>\n",
       "      <th>1</th>\n",
       "      <td>a01-000x</td>\n",
       "      <td>[A MOVE to stop Mr. Gaitskell from nominating ...</td>\n",
       "      <td>a01</td>\n",
       "      <td>a01-000</td>\n",
       "    </tr>\n",
       "    <tr>\n",
       "      <th>2</th>\n",
       "      <td>a01-003</td>\n",
       "      <td>[Though they may gather some Left-wing support...</td>\n",
       "      <td>a01</td>\n",
       "      <td>a01-003</td>\n",
       "    </tr>\n",
       "    <tr>\n",
       "      <th>3</th>\n",
       "      <td>a01-003u</td>\n",
       "      <td>[Though they may gather some Left-wing support...</td>\n",
       "      <td>a01</td>\n",
       "      <td>a01-003</td>\n",
       "    </tr>\n",
       "    <tr>\n",
       "      <th>4</th>\n",
       "      <td>a01-003x</td>\n",
       "      <td>[Though they may gather some Left-wing support...</td>\n",
       "      <td>a01</td>\n",
       "      <td>a01-003</td>\n",
       "    </tr>\n",
       "  </tbody>\n",
       "</table>\n",
       "</div>"
      ],
      "text/plain": [
       "   filename                                               meta folder document\n",
       "0  a01-000u  [A MOVE to stop Mr. Gaitskell from nominating ...    a01  a01-000\n",
       "1  a01-000x  [A MOVE to stop Mr. Gaitskell from nominating ...    a01  a01-000\n",
       "2   a01-003  [Though they may gather some Left-wing support...    a01  a01-003\n",
       "3  a01-003u  [Though they may gather some Left-wing support...    a01  a01-003\n",
       "4  a01-003x  [Though they may gather some Left-wing support...    a01  a01-003"
      ]
     },
     "execution_count": 165,
     "metadata": {},
     "output_type": "execute_result"
    }
   ],
   "source": [
    "dat.head()"
   ]
  },
  {
   "cell_type": "code",
   "execution_count": 161,
   "metadata": {},
   "outputs": [],
   "source": [
    "unique = dat.drop_duplicates(subset=['document'], keep='last')"
   ]
  },
  {
   "cell_type": "code",
   "execution_count": 164,
   "metadata": {},
   "outputs": [
    {
     "data": {
      "text/html": [
       "<div>\n",
       "<style scoped>\n",
       "    .dataframe tbody tr th:only-of-type {\n",
       "        vertical-align: middle;\n",
       "    }\n",
       "\n",
       "    .dataframe tbody tr th {\n",
       "        vertical-align: top;\n",
       "    }\n",
       "\n",
       "    .dataframe thead th {\n",
       "        text-align: right;\n",
       "    }\n",
       "</style>\n",
       "<table border=\"1\" class=\"dataframe\">\n",
       "  <thead>\n",
       "    <tr style=\"text-align: right;\">\n",
       "      <th></th>\n",
       "      <th>filename</th>\n",
       "      <th>meta</th>\n",
       "      <th>folder</th>\n",
       "      <th>document</th>\n",
       "    </tr>\n",
       "  </thead>\n",
       "  <tbody>\n",
       "    <tr>\n",
       "      <th>1</th>\n",
       "      <td>a01-000x</td>\n",
       "      <td>[A MOVE to stop Mr. Gaitskell from nominating ...</td>\n",
       "      <td>a01</td>\n",
       "      <td>a01-000</td>\n",
       "    </tr>\n",
       "    <tr>\n",
       "      <th>4</th>\n",
       "      <td>a01-003x</td>\n",
       "      <td>[Though they may gather some Left-wing support...</td>\n",
       "      <td>a01</td>\n",
       "      <td>a01-003</td>\n",
       "    </tr>\n",
       "    <tr>\n",
       "      <th>7</th>\n",
       "      <td>a01-007x</td>\n",
       "      <td>[Since 1958, 13 Labour life Peers and Peeresse...</td>\n",
       "      <td>a01</td>\n",
       "      <td>a01-007</td>\n",
       "    </tr>\n",
       "    <tr>\n",
       "      <th>10</th>\n",
       "      <td>a01-011x</td>\n",
       "      <td>[Delegates from Mr. Kenneth Kaunda's United Na...</td>\n",
       "      <td>a01</td>\n",
       "      <td>a01-011</td>\n",
       "    </tr>\n",
       "    <tr>\n",
       "      <th>13</th>\n",
       "      <td>a01-014x</td>\n",
       "      <td>[Sir Roy's United Federal Party is boycotting ...</td>\n",
       "      <td>a01</td>\n",
       "      <td>a01-014</td>\n",
       "    </tr>\n",
       "  </tbody>\n",
       "</table>\n",
       "</div>"
      ],
      "text/plain": [
       "    filename                                               meta folder  \\\n",
       "1   a01-000x  [A MOVE to stop Mr. Gaitskell from nominating ...    a01   \n",
       "4   a01-003x  [Though they may gather some Left-wing support...    a01   \n",
       "7   a01-007x  [Since 1958, 13 Labour life Peers and Peeresse...    a01   \n",
       "10  a01-011x  [Delegates from Mr. Kenneth Kaunda's United Na...    a01   \n",
       "13  a01-014x  [Sir Roy's United Federal Party is boycotting ...    a01   \n",
       "\n",
       "   document  \n",
       "1   a01-000  \n",
       "4   a01-003  \n",
       "7   a01-007  \n",
       "10  a01-011  \n",
       "13  a01-014  "
      ]
     },
     "execution_count": 164,
     "metadata": {},
     "output_type": "execute_result"
    }
   ],
   "source": [
    "unique.head()"
   ]
  },
  {
   "cell_type": "code",
   "execution_count": 240,
   "metadata": {},
   "outputs": [],
   "source": [
    "from nltk.tokenize import word_tokenize\n",
    "from collections import Counter\n",
    "from tqdm import tqdm_notebook\n",
    "\n",
    "all_tokens = Counter()\n",
    "all_lower_tokens = Counter()\n",
    "all_chars = Counter()\n",
    "all_lower_chars = Counter()\n",
    "\n",
    "for row in unique.meta:\n",
    "    tokens = (word_tokenize(row[0]))\n",
    "    for token in tokens:\n",
    "        all_tokens[token] += 1\n",
    "        all_lower_tokens[token.lower()] += 1\n",
    "        for char in token:\n",
    "            all_chars[char] += 1\n",
    "            all_lower_chars[char.lower()] += 1"
   ]
  },
  {
   "cell_type": "code",
   "execution_count": 244,
   "metadata": {},
   "outputs": [],
   "source": [
    "def plot_most_common(counts, name=None, topN=20):\n",
    "    x, y = zip(*counts.most_common(topN))\n",
    "    plt.bar(x, y);"
   ]
  },
  {
   "cell_type": "code",
   "execution_count": 245,
   "metadata": {},
   "outputs": [
    {
     "data": {
      "image/png": "[encoded data removed]",
      "text/plain": [
       "<Figure size 1440x1440 with 4 Axes>"
      ]
     },
     "metadata": {},
     "output_type": "display_data"
    }
   ],
   "source": [
    "plt.figure(figsize=(20, 20))\n",
    "for i, col in enumerate([all_tokens, all_lower_tokens, all_chars, all_lower_chars]):\n",
    "    plt.subplot(2, 2, i+1)\n",
    "    plot_most_common(col)"
   ]
  },
  {
   "cell_type": "code",
   "execution_count": 243,
   "metadata": {},
   "outputs": [
    {
     "name": "stdout",
     "output_type": "stream",
     "text": [
      "['a', 'm', 'o', 'v', 'e', 't', 's', 'p', 'r', '.', 'g', 'i', 'k', 'l', 'f', 'n', 'y', 'b', 'u', 'h', '-', 'w', ',', 'j', '0', 'c', '1', '9', '5', '8', '3', 'd', \"'\", '(', '2', '&', 'q', ';', 'x', ':', '4', ')', 'z', '6', '!', '?', '`', '7', '*', '/', '+']\n",
      "['A', 'M', 'O', 'V', 'E', 't', 'o', 's', 'p', 'r', '.', 'G', 'a', 'i', 'k', 'e', 'l', 'f', 'm', 'n', 'g', 'y', 'L', 'b', 'u', 'P', 'T', 'h', '-', 'w', ',', 'j', '0', 'S', 'c', '1', '9', '5', '8', '3', 'd', 'v', 'D', 'K', \"'\", 'U', 'N', 'I', '(', '2', 'R', 'F', 'H', 'C', 'Y', 'W', 'B', '&', 'q', ';', 'x', ':', '4', 'J', ')', 'z', '6', 'Q', 'X', '!', '?', '`', '7', '*', 'Z', '/', '+']\n"
     ]
    }
   ],
   "source": [
    "print(list(all_lower_chars.keys()))\n",
    "print(list(all_chars.keys()))"
   ]
  },
  {
   "cell_type": "code",
   "execution_count": 220,
   "metadata": {},
   "outputs": [],
   "source": [
    "# str(all_lower_tokens)"
   ]
  },
  {
   "cell_type": "code",
   "execution_count": null,
   "metadata": {},
   "outputs": [],
   "source": []
  }
 ],
 "metadata": {
  "kernelspec": {
   "display_name": "Python 3",
   "language": "python",
   "name": "python3"
  },
  "language_info": {
   "codemirror_mode": {
    "name": "ipython",
    "version": 3
   },
   "file_extension": ".py",
   "mimetype": "text/x-python",
   "name": "python",
   "nbconvert_exporter": "python",
   "pygments_lexer": "ipython3",
   "version": "3.6.3"
  }
 },
 "nbformat": 4,
 "nbformat_minor": 2
}
