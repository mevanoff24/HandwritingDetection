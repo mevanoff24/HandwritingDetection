{
 "cells": [
  {
   "cell_type": "code",
   "execution_count": 96,
   "metadata": {},
   "outputs": [
    {
     "name": "stdout",
     "output_type": "stream",
     "text": [
      "Collecting pytesseract\n",
      "\u001b[?25l  Downloading https://files.pythonhosted.org/packages/71/5a/d7600cad26276d991feecb27f3627ae2d0ee89aa1e3065fa4f9f1f2defbc/pytesseract-0.2.6.tar.gz (169kB)\n",
      "\u001b[K    100% |████████████████████████████████| 174kB 4.0MB/s ta 0:00:01\n",
      "\u001b[?25hRequirement already satisfied: Pillow in /Users/mattevanoff/anaconda3/lib/python3.6/site-packages (from pytesseract) (5.0.0)\n",
      "Building wheels for collected packages: pytesseract\n",
      "  Running setup.py bdist_wheel for pytesseract ... \u001b[?25ldone\n",
      "\u001b[?25h  Stored in directory: /Users/mattevanoff/Library/Caches/pip/wheels/d5/90/56/ab7b652592da86821293f7cadc1c554aa376a0d57ce414d0a0\n",
      "Successfully built pytesseract\n",
      "Installing collected packages: pytesseract\n",
      "Successfully installed pytesseract-0.2.6\n"
     ]
    }
   ],
   "source": [
    "# import sys\n",
    "!{sys.executable} -m pip install pytesseract"
   ]
  },
  {
   "cell_type": "code",
   "execution_count": 31,
   "metadata": {},
   "outputs": [],
   "source": [
    "# word_level_df.head()"
   ]
  },
  {
   "cell_type": "code",
   "execution_count": 99,
   "metadata": {},
   "outputs": [
    {
     "name": "stdout",
     "output_type": "stream",
     "text": [
      "../../data/raw/word_level/d05/d05-040/d05-040-00-03.png\n"
     ]
    },
    {
     "data": {
      "text/plain": [
       "<matplotlib.image.AxesImage at 0x1207b6240>"
      ]
     },
     "execution_count": 99,
     "metadata": {},
     "output_type": "execute_result"
    },
    {
     "data": {
      "image/png": "[encoded data removed]",
      "text/plain": [
       "<Figure size 432x288 with 1 Axes>"
      ]
     },
     "metadata": {},
     "output_type": "display_data"
    }
   ],
   "source": [
    "import cv2\n",
    "import numpy as np\n",
    "import matplotlib.pyplot as plt\n",
    "%matplotlib inline\n",
    "img_width = 128\n",
    "img_height = 64\n",
    "\n",
    "images = word_level_df.image_path.values.tolist()[3]\n",
    "print(images)\n",
    "\n",
    "img = cv2.imread(images)\n",
    "# grayscale image\n",
    "# img = cv2.cvtColor(img, cv2.)\n",
    "# resize image\n",
    "img = cv2.resize(img, (img_width, img_height))\n",
    "# change image type\n",
    "img = img.astype(np.float32)\n",
    "# scale image \n",
    "img /= 255\n",
    "plt.imshow(img)"
   ]
  },
  {
   "cell_type": "code",
   "execution_count": 61,
   "metadata": {},
   "outputs": [
    {
     "name": "stdout",
     "output_type": "stream",
     "text": [
      "<class 'int'>\n"
     ]
    }
   ],
   "source": [
    "# img = cv2.imdecode(img, cv2.CV_LOAD_IMAGE_COLOR)\n",
    "from io import BytesIO\n",
    "byte = BytesIO()\n",
    "img = byte.write(img)\n",
    "print(type(img))"
   ]
  },
  {
   "cell_type": "code",
   "execution_count": 101,
   "metadata": {},
   "outputs": [
    {
     "name": "stdout",
     "output_type": "stream",
     "text": [
      "\n",
      "\n"
     ]
    }
   ],
   "source": [
    "import cv2\n",
    "\n",
    "img = cv2.imread(images)\n",
    "print(pytesseract.image_to_string(img))\n",
    "# OR explicit beforehand converting\n",
    "print(pytesseract.image_to_string(Image.fromarray(img)))"
   ]
  },
  {
   "cell_type": "code",
   "execution_count": 98,
   "metadata": {},
   "outputs": [
    {
     "name": "stdout",
     "output_type": "stream",
     "text": [
      "\n"
     ]
    }
   ],
   "source": [
    "from PIL import Image\n",
    "import pytesseract\n",
    "# (thresh, bw_img) = cv2.threshold(img, 128, 255, cv2.THRESH_BINARY)\n",
    "img = Image.open(images)\n",
    "txt = pytesseract.image_to_string(img)\n"
   ]
  },
  {
   "cell_type": "code",
   "execution_count": 112,
   "metadata": {},
   "outputs": [
    {
     "name": "stdout",
     "output_type": "stream",
     "text": [
      "\n"
     ]
    }
   ],
   "source": [
    "import pytesseract\n",
    "from PIL import Image, ImageEnhance, ImageFilter\n",
    "\n",
    "im = Image.open('../../data/raw/word_level/d05/d05-040/d05-040-00-03.png') # the second one \n",
    "im = im.filter(ImageFilter.MedianFilter())\n",
    "enhancer = ImageEnhance.Contrast(im)\n",
    "im = enhancer.enhance(2)\n",
    "im = im.convert('1')\n",
    "im.save('temp2.jpg')\n",
    "text = pytesseract.image_to_string(Image.open('temp2.jpg'))\n",
    "print(text)"
   ]
  },
  {
   "cell_type": "code",
   "execution_count": null,
   "metadata": {},
   "outputs": [],
   "source": [
    "# Page segmentation modes:\n",
    "#   0    Orientation and script detection (OSD) only.\n",
    "#   1    Automatic page segmentation with OSD.\n",
    "#   2    Automatic page segmentation, but no OSD, or OCR.\n",
    "#   3    Fully automatic page segmentation, but no OSD. (Default)\n",
    "#   4    Assume a single column of text of variable sizes.\n",
    "#   5    Assume a single uniform block of vertically aligned text.\n",
    "#   6    Assume a single uniform block of text.\n",
    "#   7    Treat the image as a single text line.\n",
    "#   8    Treat the image as a single word.\n",
    "#   9    Treat the image as a single word in a circle.\n",
    "#  10    Treat the image as a single character.\n",
    "#  11    Sparse text. Find as much text as possible in no particular order.\n",
    "#  12    Sparse text with OSD.\n",
    "#  13    Raw line. Treat the image as a single text line,\n",
    "#                         bypassing hacks that are Tesseract-specific."
   ]
  },
  {
   "cell_type": "code",
   "execution_count": 223,
   "metadata": {},
   "outputs": [
    {
     "name": "stdout",
     "output_type": "stream",
     "text": [
      "-f [Errno 2] No such file or directory: '-f'\n"
     ]
    }
   ],
   "source": []
  },
  {
   "cell_type": "code",
   "execution_count": 219,
   "metadata": {},
   "outputs": [
    {
     "name": "stdout",
     "output_type": "stream",
     "text": [
      "exelng\n"
     ]
    }
   ],
   "source": [
    "import pytesseract\n",
    "from PIL import Image, ImageEnhance, ImageFilter\n",
    "\n",
    "img_width = 256\n",
    "img_height = 100\n",
    "\n",
    "\n",
    "img = '../../data/raw/word_level/d01/d01-016/d01-016-03-03.png'\n",
    "im = Image.open(img)  # img is the path of the image \n",
    "im = im.convert(\"RGBA\")\n",
    "im = im.resize((img_width, img_height))\n",
    "newimdata = []\n",
    "datas = im.getdata()\n",
    "\n",
    "vals = 255\n",
    "\n",
    "for item in datas:\n",
    "#     print(item)\n",
    "    if item[0] < vals or item[1] < vals or item[2] < vals:\n",
    "        newimdata.append(item)\n",
    "    else:\n",
    "        newimdata.append((255, 255, 255))\n",
    "im.putdata(newimdata)\n",
    "\n",
    "im = im.filter(ImageFilter.MedianFilter())\n",
    "enhancer = ImageEnhance.Contrast(im)\n",
    "im = enhancer.enhance(2)\n",
    "im = im.convert('1')\n",
    "os \n",
    "im.save('temp2.jpg')\n",
    "text = pytesseract.image_to_string(Image.open('temp2.jpg'),\n",
    "            config='-c tessedit_char_whitelist=0123456789abcdefghijklmnopqrstuvwxyz -psm 13', lang='eng', )\n",
    "print(text)"
   ]
  },
  {
   "cell_type": "code",
   "execution_count": 198,
   "metadata": {},
   "outputs": [
    {
     "data": {
      "image/png": "[encoded data removed]",
      "text/plain": [
       "<PIL.JpegImagePlugin.JpegImageFile image mode=L size=256x100 at 0x1247F5278>"
      ]
     },
     "execution_count": 198,
     "metadata": {},
     "output_type": "execute_result"
    }
   ],
   "source": [
    "Image.open('temp2.jpg')"
   ]
  },
  {
   "cell_type": "code",
   "execution_count": 194,
   "metadata": {},
   "outputs": [
    {
     "data": {
      "image/png": "[encoded data removed]",
      "text/plain": [
       "<PIL.PngImagePlugin.PngImageFile image mode=L size=225x79 at 0x12488AF28>"
      ]
     },
     "execution_count": 194,
     "metadata": {},
     "output_type": "execute_result"
    }
   ],
   "source": [
    "Image.open('../../data/raw/word_level/d01/d01-016/d01-016-03-03.png')"
   ]
  },
  {
   "cell_type": "code",
   "execution_count": 103,
   "metadata": {},
   "outputs": [
    {
     "name": "stderr",
     "output_type": "stream",
     "text": [
      "Warning in pixReadMemPng: work-around: writing to a temp file\n",
      "Empty page!!\n",
      "Empty page!!\n"
     ]
    }
   ],
   "source": [
    "%%bash \n",
    "tesseract ../../data/raw/word_level/d05/d05-040/d05-040-00-03.png stdout"
   ]
  },
  {
   "cell_type": "code",
   "execution_count": 83,
   "metadata": {},
   "outputs": [
    {
     "ename": "RuntimeError",
     "evalue": "Error reading image",
     "output_type": "error",
     "traceback": [
      "\u001b[0;31m---------------------------------------------------------------------------\u001b[0m",
      "\u001b[0;31mRuntimeError\u001b[0m                              Traceback (most recent call last)",
      "\u001b[0;32m<ipython-input-83-a6254b152b23>\u001b[0m in \u001b[0;36m<module>\u001b[0;34m()\u001b[0m\n\u001b[1;32m      2\u001b[0m \u001b[0;34m\u001b[0m\u001b[0m\n\u001b[1;32m      3\u001b[0m \u001b[0;32mwith\u001b[0m \u001b[0mPyTessBaseAPI\u001b[0m\u001b[0;34m(\u001b[0m\u001b[0;34m)\u001b[0m \u001b[0;32mas\u001b[0m \u001b[0mapi\u001b[0m\u001b[0;34m:\u001b[0m\u001b[0;34m\u001b[0m\u001b[0m\n\u001b[0;32m----> 4\u001b[0;31m     \u001b[0mapi\u001b[0m\u001b[0;34m.\u001b[0m\u001b[0mSetImageFile\u001b[0m\u001b[0;34m(\u001b[0m\u001b[0mbytes\u001b[0m\u001b[0;34m(\u001b[0m\u001b[0mimg\u001b[0m\u001b[0;34m)\u001b[0m\u001b[0;34m)\u001b[0m\u001b[0;34m\u001b[0m\u001b[0m\n\u001b[0m\u001b[1;32m      5\u001b[0m     \u001b[0mprint\u001b[0m\u001b[0;34m(\u001b[0m\u001b[0mapi\u001b[0m\u001b[0;34m.\u001b[0m\u001b[0mGetUTF8Text\u001b[0m\u001b[0;34m(\u001b[0m\u001b[0;34m)\u001b[0m\u001b[0;34m)\u001b[0m\u001b[0;34m\u001b[0m\u001b[0m\n\u001b[1;32m      6\u001b[0m     \u001b[0mprint\u001b[0m\u001b[0;34m(\u001b[0m\u001b[0mapi\u001b[0m\u001b[0;34m.\u001b[0m\u001b[0mAllWordConfidences\u001b[0m\u001b[0;34m(\u001b[0m\u001b[0;34m)\u001b[0m\u001b[0;34m)\u001b[0m\u001b[0;34m\u001b[0m\u001b[0m\n",
      "\u001b[0;32mtesserocr.pyx\u001b[0m in \u001b[0;36mtesserocr.PyTessBaseAPI.SetImageFile\u001b[0;34m()\u001b[0m\n",
      "\u001b[0;31mRuntimeError\u001b[0m: Error reading image"
     ]
    }
   ],
   "source": [
    "from tesserocr import PyTessBaseAPI\n",
    "\n",
    "with PyTessBaseAPI() as api:\n",
    "    api.SetImageFile(bytes(img))\n",
    "    print(api.GetUTF8Text())\n",
    "    print(api.AllWordConfidences())\n",
    "        \n",
    "\n",
    "# with PyTessBaseAPI() as api:\n",
    "#     for img in images:\n",
    "#         api.SetImageFile(img)\n",
    "#         print(api.GetUTF8Text())\n",
    "#         print(api.AllWordConfidences())"
   ]
  },
  {
   "cell_type": "code",
   "execution_count": 7,
   "metadata": {},
   "outputs": [],
   "source": [
    "data_path = '../../data/raw/word_level'\n",
    "meta_data_path = '../../data/preprocessed/meta.csv'\n",
    "meta_json_data_path = '../../data/preprocessed/meta_json.csv'"
   ]
  },
  {
   "cell_type": "code",
   "execution_count": 8,
   "metadata": {},
   "outputs": [],
   "source": [
    "import os\n",
    "import pandas as pd\n",
    "from collections import defaultdict\n",
    "from tqdm import tqdm_notebook\n",
    "import pdb\n",
    "import dill as pickle\n",
    "\n",
    "meta = pd.read_json(meta_json_data_path)\n",
    "meta.sort_index().head()\n",
    "\n",
    "def duplicate_row(df, col_name):\n",
    "    \"\"\"When cell contents are lists, create a row for each element in the list\"\"\"\n",
    "    series = df.apply(lambda x: pd.Series(x[col_name]),axis=1).stack().reset_index(level=1, drop=True)\n",
    "    series.name = col_name\n",
    "    return series\n",
    "    \n",
    "def create_word_level_df(df, cols=[]):\n",
    "    \"\"\"Combine multiple Series into a pandas DataFrame\"\"\"\n",
    "    meta_series = duplicate_row(df, 'meta')\n",
    "    id_series = duplicate_row(df, 'ids')\n",
    "    pos_series = duplicate_row(df, 'pos_tag')\n",
    "    df = df.drop(['meta', 'ids', 'pos_tag'], axis=1).join(pd.concat([meta_series, id_series, pos_series], axis=1))\n",
    "    return df.rename(columns={'meta': 'token', 'ids': 'image_name'}).reset_index()\n",
    "\n",
    "def absoluteFilePaths(directory):\n",
    "    \"\"\"Walk filepaths\"\"\"\n",
    "    for dirpath,_,filenames in os.walk(directory):\n",
    "        for f in filenames:\n",
    "            yield os.path.join(dirpath, f)\n",
    "\n",
    "def create_image_path(df, data_path):\n",
    "    \"\"\"Create dictionary for mapping of word to data path\"\"\"\n",
    "    all_paths = [i for i in absoluteFilePaths(data_path)]\n",
    "    all_path_endings = [i.split('/')[-1].split('.')[0] for i in all_paths]\n",
    "    all_path_dict = defaultdict(lambda: 0, dict(zip(all_path_endings, all_paths)))\n",
    "    df['image_path'] = df['image_name'].map(lambda x: all_path_dict[x])\n",
    "    return df\n",
    "\n",
    "word_level_df = create_word_level_df(meta)\n",
    "word_level_df = create_image_path(word_level_df, data_path)"
   ]
  },
  {
   "cell_type": "code",
   "execution_count": 9,
   "metadata": {},
   "outputs": [
    {
     "data": {
      "text/plain": [
       "['../../data/raw/word_level/d05/d05-040/d05-040-00-00.png',\n",
       " '../../data/raw/word_level/d05/d05-040/d05-040-00-01.png',\n",
       " '../../data/raw/word_level/d05/d05-040/d05-040-00-02.png',\n",
       " '../../data/raw/word_level/d05/d05-040/d05-040-00-03.png',\n",
       " '../../data/raw/word_level/d05/d05-040/d05-040-00-04.png',\n",
       " '../../data/raw/word_level/d05/d05-040/d05-040-00-05.png',\n",
       " '../../data/raw/word_level/d05/d05-040/d05-040-00-06.png',\n",
       " '../../data/raw/word_level/d05/d05-040/d05-040-00-07.png',\n",
       " '../../data/raw/word_level/d05/d05-040/d05-040-00-08.png',\n",
       " '../../data/raw/word_level/d05/d05-040/d05-040-00-09.png']"
      ]
     },
     "execution_count": 9,
     "metadata": {},
     "output_type": "execute_result"
    }
   ],
   "source": [
    "word_level_df.image_path.values.tolist()[:10]"
   ]
  },
  {
   "cell_type": "code",
   "execution_count": 228,
   "metadata": {},
   "outputs": [
    {
     "name": "stdout",
     "output_type": "stream",
     "text": [
      "mam\n"
     ]
    }
   ],
   "source": [
    "text = pytesseract.image_to_string(Image.open('../../data/raw/word_level/d01/d01-016/d01-016-03-03.png'),\n",
    "            config='-c tessedit_char_whitelist=0123456789abcdefghijklmnopqrstuvwxyz -psm 7', lang='eng', )\n",
    "print(text)"
   ]
  },
  {
   "cell_type": "code",
   "execution_count": null,
   "metadata": {},
   "outputs": [],
   "source": []
  }
 ],
 "metadata": {
  "kernelspec": {
   "display_name": "Python 3",
   "language": "python",
   "name": "python3"
  },
  "language_info": {
   "codemirror_mode": {
    "name": "ipython",
    "version": 3
   },
   "file_extension": ".py",
   "mimetype": "text/x-python",
   "name": "python",
   "nbconvert_exporter": "python",
   "pygments_lexer": "ipython3",
   "version": "3.6.3"
  }
 },
 "nbformat": 4,
 "nbformat_minor": 2
}
