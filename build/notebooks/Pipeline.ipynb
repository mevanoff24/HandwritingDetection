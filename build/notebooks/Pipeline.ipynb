{
 "cells": [
  {
   "cell_type": "code",
   "execution_count": 59,
   "metadata": {},
   "outputs": [],
   "source": [
    "import numpy as np\n",
    "import pandas as pd\n",
    "import dill as pickle\n",
    "from nltk.tokenize import sent_tokenize"
   ]
  },
  {
   "cell_type": "code",
   "execution_count": 60,
   "metadata": {},
   "outputs": [],
   "source": [
    "meta_json_data_path = '../../data/preprocessed/meta.json'\n",
    "word_level_meta_path = '../../data/preprocessed/word_level_meta.csv'\n",
    "X_path = '../../data/processed/X.npy'\n",
    "y_path = '../../data/processed/y.npy'\n",
    "bigram_model_path = '../../data/processed/ngram_models/bigram_likelihood_model.pkl'\n",
    "trigram_model_path = '../../data/processed/ngram_models/trigram_likelihood_model.pkl'"
   ]
  },
  {
   "cell_type": "code",
   "execution_count": 62,
   "metadata": {},
   "outputs": [],
   "source": [
    "# dataset \n",
    "X = list(np.load(X_path))\n",
    "y = np.load(y_path)\n",
    "# Language Models\n",
    "bigram_model = unpickle(bigram_model_path)\n",
    "trigram_model = unpickle(trigram_model_path)\n",
    "# Meta\n",
    "meta = pd.read_json(meta_json_data_path)\n",
    "word_level_df = pd.read_csv(word_level_meta_path)"
   ]
  },
  {
   "cell_type": "code",
   "execution_count": 76,
   "metadata": {},
   "outputs": [],
   "source": [
    "y_preds = []\n",
    "OOV_token = 0\n",
    "\n",
    "# sample_index = 102\n",
    "\n",
    "for sample_index in range(len(X)):\n",
    "    index = int(y[sample_index][1][0])\n",
    "\n",
    "    target = X[sample_index][index]\n",
    "    \n",
    "    try:\n",
    "        prev_word = X[sample_index][index-1]\n",
    "    except:\n",
    "        prev_word = '<bos>'\n",
    "    \n",
    "    try:\n",
    "        prev_prev_word = X[sample_index][index-2]\n",
    "    except:\n",
    "        prev_prev_word = '<bos>'\n",
    "#     prev_prev_word = X[sample_index][index-2]\n",
    "\n",
    "    # print(X[sample_index])\n",
    "    # print(prev_prev_word, prev_word, target)\n",
    "    pred = trigram_model[(prev_prev_word, prev_word)]\n",
    "    # print(pred)\n",
    "    if pred == OOV_token:\n",
    "        pred = bigram_model[(prev_word)]\n",
    "    #     print(pred)\n",
    "        if pred == OOV_token:\n",
    "            pred = 'UNK'\n",
    "        \n",
    "    y_preds.append(pred)"
   ]
  },
  {
   "cell_type": "code",
   "execution_count": 82,
   "metadata": {},
   "outputs": [],
   "source": [
    "y_true = [i[0] for i in y]"
   ]
  },
  {
   "cell_type": "code",
   "execution_count": 86,
   "metadata": {},
   "outputs": [
    {
     "data": {
      "text/plain": [
       "'UNK'"
      ]
     },
     "execution_count": 86,
     "metadata": {},
     "output_type": "execute_result"
    }
   ],
   "source": [
    "y_preds[y_preds == y_true]"
   ]
  },
  {
   "cell_type": "code",
   "execution_count": 61,
   "metadata": {},
   "outputs": [],
   "source": [
    "def unpickle(filename):\n",
    "    \"\"\"Unpickle file\"\"\"\n",
    "    with open(filename, 'rb') as f:\n",
    "        return pickle.load(f)\n",
    "    \n",
    "def get_ocr_model_pred(X):\n",
    "    return []\n",
    "\n",
    "def get_language_model_pred(X):\n",
    "    return []\n",
    "\n",
    "def get_ocr_length_pred(X):\n",
    "    return 0\n",
    "\n",
    "def get_pos_tags(X):\n",
    "    return []\n",
    "\n",
    "def weight_features(X, weights={}):\n",
    "    ocr_pred = get_ocr_model_pred(X)\n",
    "    lm_pred = get_language_model_pred(X)\n",
    "    len_pred = get_ocr_length_pred(X)\n",
    "    pos_pred = get_pos_tags(X)\n",
    "    \n",
    "    final_pred = ocr_pred * weights['ocr_pred'] + \\\n",
    "                 lm_pred * weights['lm_pred'] + \\\n",
    "                 len_pred * weights['len_pred'] + \\\n",
    "                 pos_pred * weights['pos_pred']\n",
    "    return final_pred"
   ]
  },
  {
   "cell_type": "code",
   "execution_count": null,
   "metadata": {},
   "outputs": [],
   "source": []
  }
 ],
 "metadata": {
  "kernelspec": {
   "display_name": "Python 3",
   "language": "python",
   "name": "python3"
  },
  "language_info": {
   "codemirror_mode": {
    "name": "ipython",
    "version": 3
   },
   "file_extension": ".py",
   "mimetype": "text/x-python",
   "name": "python",
   "nbconvert_exporter": "python",
   "pygments_lexer": "ipython3",
   "version": "3.6.3"
  }
 },
 "nbformat": 4,
 "nbformat_minor": 2
}
